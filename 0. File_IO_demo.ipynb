{
 "cells": [
  {
   "cell_type": "markdown",
   "metadata": {},
   "source": [
    "# File I/O: Demo"
   ]
  },
  {
   "cell_type": "markdown",
   "metadata": {
    "collapsed": true
   },
   "source": [
    "The raw data contains all the users' activities from March 30 to May 12, 2017. (Fresh data!!) Since the data amount is so huge for a PC, reading all data into memory is a mission impossible. On the other hand, it's not necessary to get all the activity information to determine if a user is a churn. To be more specific, for churn and the users' activity analysis, ony user, device and date/time of each activity log needs to be saved.\n",
    "\n",
    "In this demo, the file operations are walked through, from unzipping original data in .tar.gz zipped files, to saving the reduced information of all logs into a new file."
   ]
  },
  {
   "cell_type": "markdown",
   "metadata": {},
   "source": [
    "### Procedure:\n",
    "\n",
    "    1. Unzip all the \"play\" activity data in a batch.\n",
    "    \n",
    "    2. Choose a cut-off date for the churn labeling: Any user who is active before this cut-off date but has no activity after the date shall be labeled as a churn.\n",
    "    \n",
    "    3. Read each line, save only \"user_id\",\"device\",\"date/time\" of each activity log before and after the cut-off date, and save them in two new file respectively.    "
   ]
  },
  {
   "cell_type": "markdown",
   "metadata": {},
   "source": [
    "##### 1. Unzip the 400+ .tar.gz compressed files of raw data\n",
    "\n",
    "7z can only unzip the .tar.gz files to .tar, so the complete unzip takes two steps:\n",
    "    \n",
    "    1. Batch unzip from .tar.gz --> .tar\n",
    "    2. Batch unzip from .tar --> log files"
   ]
  },
  {
   "cell_type": "code",
   "execution_count": 1,
   "metadata": {},
   "outputs": [
    {
     "data": {
      "text/plain": [
       "'\\n$files = Get-ChildItem \"../data/raw/\" -Filter *_play.log.tar.gz\\n\\nforeach ($f in $files) {7z e $f -so | 7z e -aoa -si -ttar -o\"../data/raw/unzip\"}\\n'"
      ]
     },
     "execution_count": 1,
     "metadata": {},
     "output_type": "execute_result"
    }
   ],
   "source": [
    "## In windows powershell, run the following iteration commands in the raw data directory:\n",
    "'''\n",
    "$files = Get-ChildItem \"../data/raw/\" -Filter *_play.log.tar.gz\n",
    "\n",
    "foreach ($f in $files) {7z e $f -oC../data/raw/unzip}\n",
    "\n",
    "cd unzip\n",
    "\n",
    "$files = Get-ChildItem \"../raw/unzip\" -Filter *_play.log.tar\n",
    "\n",
    "foreach ($f in $files) {7z e $f}\n",
    "'''"
   ]
  },
  {
   "cell_type": "markdown",
   "metadata": {},
   "source": [
    "References:\n",
    "\n",
    "__[for loop in windows powershell](https://stackoverflow.com/questions/18847145/loop-through-files-in-a-directory-using-powershell)__\n",
    "\n",
    "\n",
    "__[Unzip .tar.gz files using 7z commands](https://stackoverflow.com/questions/1359793/programmatically-extract-tar-gz-in-a-single-step-on-windows-with-7zip)__"
   ]
  },
  {
   "cell_type": "markdown",
   "metadata": {
    "collapsed": true
   },
   "source": [
    "##### 2. Cut-off date = April 21st.\n",
    "\n",
    "  In this demo, the first file of 3/30 is before the cut-off date, while the second file of 5/12 is after the cut-off. In reality there are three weeks before cut-off, and three weeks after. The cut off might need changing later, depending on the model's performance."
   ]
  },
  {
   "cell_type": "markdown",
   "metadata": {},
   "source": [
    "##### 3. File operations on the play logs\n",
    "\n",
    "    1. Open *play.log files one by one\n",
    "    \n",
    "    2. Read a line, and save ONLY the user id and device type info. \n",
    "    \n",
    "    3. Do this for all lines in all files. Write the saved info into a file called 'play_lite.log'\n"
   ]
  },
  {
   "cell_type": "markdown",
   "metadata": {},
   "source": [
    "    1. Open all play logs, using * wildcard"
   ]
  },
  {
   "cell_type": "code",
   "execution_count": 1,
   "metadata": {},
   "outputs": [
    {
     "data": {
      "text/plain": [
       "2"
      ]
     },
     "execution_count": 1,
     "metadata": {},
     "output_type": "execute_result"
    }
   ],
   "source": [
    "import glob\n",
    "\n",
    "filepath = 'C:\\\\Users\\\\Sean\\\\Documents\\\\BitTiger\\\\Capston_music_player_python\\\\*play.log'\n",
    "files = glob.glob(filepath)\n",
    "len(files)"
   ]
  },
  {
   "cell_type": "code",
   "execution_count": 2,
   "metadata": {},
   "outputs": [
    {
     "data": {
      "text/plain": [
       "['C:\\\\Users\\\\Sean\\\\Documents\\\\BitTiger\\\\Capston_music_player_python\\\\20170331_1_play.log',\n",
       " 'C:\\\\Users\\\\Sean\\\\Documents\\\\BitTiger\\\\Capston_music_player_python\\\\20170512_3_play.log']"
      ]
     },
     "execution_count": 2,
     "metadata": {},
     "output_type": "execute_result"
    }
   ],
   "source": [
    "files"
   ]
  },
  {
   "cell_type": "code",
   "execution_count": 3,
   "metadata": {
    "collapsed": true
   },
   "outputs": [],
   "source": [
    "log_amounts = []"
   ]
  },
  {
   "cell_type": "code",
   "execution_count": 4,
   "metadata": {},
   "outputs": [
    {
     "data": {
      "text/plain": [
       "[1865402, 821673]"
      ]
     },
     "execution_count": 4,
     "metadata": {},
     "output_type": "execute_result"
    }
   ],
   "source": [
    "for the_file in files:\n",
    "    f = open(the_file, 'r')\n",
    "    lines = f.readlines()\n",
    "    log_amounts.append(len(lines))\n",
    "    f.close()\n",
    "log_amounts"
   ]
  },
  {
   "cell_type": "markdown",
   "metadata": {},
   "source": [
    "    2. Read the files, append the date to each line"
   ]
  },
  {
   "cell_type": "code",
   "execution_count": 5,
   "metadata": {},
   "outputs": [
    {
     "data": {
      "text/plain": [
       "821673"
      ]
     },
     "execution_count": 5,
     "metadata": {},
     "output_type": "execute_result"
    }
   ],
   "source": [
    "with open('C:\\\\Users\\\\Sean\\\\Documents\\\\BitTiger\\\\Capston_music_player_python\\\\20170512_3_play.log','r') as f:\n",
    "    content = f.readlines()\n",
    "len(content)"
   ]
  },
  {
   "cell_type": "code",
   "execution_count": 6,
   "metadata": {},
   "outputs": [
    {
     "data": {
      "text/plain": [
       "'42159585\\tar\\t106148\\t1\\t\\xe6\\x98\\x8e\\xe5\\xa4\\xa9\\xe4\\xbd\\xa0\\xe6\\x98\\xaf\\xe5\\x90\\xa6\\xe4\\xbe\\x9d\\xe7\\x84\\xb6\\xe7\\x88\\xb1\\xe6\\x88\\x91\\t\\xe7\\xab\\xa5\\xe5\\xae\\x89\\xe6\\xa0\\xbc\\t256128\\t0\\t0\\n'"
      ]
     },
     "execution_count": 6,
     "metadata": {},
     "output_type": "execute_result"
    }
   ],
   "source": [
    "first_line = content[0]\n",
    "first_line"
   ]
  },
  {
   "cell_type": "code",
   "execution_count": 53,
   "metadata": {},
   "outputs": [
    {
     "data": {
      "text/plain": [
       "['42159585',\n",
       " 'ar',\n",
       " '106148',\n",
       " '1',\n",
       " '\\xe6\\x98\\x8e\\xe5\\xa4\\xa9\\xe4\\xbd\\xa0\\xe6\\x98\\xaf\\xe5\\x90\\xa6\\xe4\\xbe\\x9d\\xe7\\x84\\xb6\\xe7\\x88\\xb1\\xe6\\x88\\x91',\n",
       " '\\xe7\\xab\\xa5\\xe5\\xae\\x89\\xe6\\xa0\\xbc',\n",
       " '256128',\n",
       " '0',\n",
       " '0']"
      ]
     },
     "execution_count": 53,
     "metadata": {},
     "output_type": "execute_result"
    }
   ],
   "source": [
    "first_line_fields = content[0].strip('\\n').split('\\t')\n",
    "#first_line_fields.append(f.name.split('\\\\')[-1][8])\n",
    "first_line_fields"
   ]
  },
  {
   "cell_type": "code",
   "execution_count": 58,
   "metadata": {},
   "outputs": [
    {
     "data": {
      "text/plain": [
       "['42159585', 'ar']"
      ]
     },
     "execution_count": 58,
     "metadata": {},
     "output_type": "execute_result"
    }
   ],
   "source": [
    "reduced_fields = first_line_fields[:2]\n",
    "\n",
    "reduced_fields"
   ]
  },
  {
   "cell_type": "code",
   "execution_count": 59,
   "metadata": {},
   "outputs": [
    {
     "data": {
      "text/plain": [
       "['42159585', 'ar', '20170331_1_play.log']"
      ]
     },
     "execution_count": 59,
     "metadata": {},
     "output_type": "execute_result"
    }
   ],
   "source": [
    "filename = f.name.split('\\\\')[-1]\n",
    "\n",
    "reduced_fields.append(filename)\n",
    "\n",
    "reduced_fields"
   ]
  },
  {
   "cell_type": "code",
   "execution_count": 60,
   "metadata": {},
   "outputs": [
    {
     "data": {
      "text/plain": [
       "'42159585\\tar\\t20170331_1_play.log\\n'"
      ]
     },
     "execution_count": 60,
     "metadata": {},
     "output_type": "execute_result"
    }
   ],
   "source": [
    "new_first_line = '\\t'.join(reduced_fields)+'\\n'\n",
    "new_first_line"
   ]
  },
  {
   "cell_type": "markdown",
   "metadata": {},
   "source": [
    "    3. write the new lines into a new file\n",
    "\n",
    "        Using the f.write() method"
   ]
  },
  {
   "cell_type": "code",
   "execution_count": 61,
   "metadata": {
    "collapsed": true
   },
   "outputs": [],
   "source": [
    "output = open('C:\\\\Users\\\\Sean\\\\Documents\\\\BitTiger\\\\Capston_music_player_python\\\\output\\\\all.log','a')"
   ]
  },
  {
   "cell_type": "code",
   "execution_count": 62,
   "metadata": {},
   "outputs": [
    {
     "name": "stdout",
     "output_type": "stream",
     "text": [
      "processing file: 20170331_1_play.log\n",
      "...costs 5.75 seconds\n",
      "processing file: 20170512_3_play.log\n",
      "...costs 2.43 seconds\n"
     ]
    }
   ],
   "source": [
    "import time\n",
    "\n",
    "\n",
    "for the_file in files:\n",
    "    current_time = time.clock()\n",
    "\n",
    "    with open(the_file, 'r') as f:\n",
    "        lines = f.readlines()\n",
    "        print('processing file: %s' % f.name.split('\\\\')[-1])\n",
    "        for line in lines:\n",
    "            contents_to_keep = line.split('\\t')[:2]\n",
    "            contents_to_keep.append(f.name.split('\\\\')[-1])\n",
    "            output.write('\\t'.join(contents)+'\\n')\n",
    "    print('...costs %.2f seconds' % (time.clock()-current_time))\n",
    "    current_time = time.clock()\n"
   ]
  },
  {
   "cell_type": "code",
   "execution_count": 63,
   "metadata": {
    "collapsed": true
   },
   "outputs": [],
   "source": [
    "output.close()"
   ]
  },
  {
   "cell_type": "code",
   "execution_count": 64,
   "metadata": {},
   "outputs": [
    {
     "data": {
      "text/plain": [
       "2687075"
      ]
     },
     "execution_count": 64,
     "metadata": {},
     "output_type": "execute_result"
    }
   ],
   "source": [
    "with open('C:\\\\Users\\\\Sean\\\\Documents\\\\BitTiger\\\\Capston_music_player_python\\\\output\\\\all.log','r') as output:\n",
    "    lines = output.readlines()\n",
    "len(lines)"
   ]
  },
  {
   "cell_type": "code",
   "execution_count": 13,
   "metadata": {},
   "outputs": [
    {
     "data": {
      "text/plain": [
       "2687075"
      ]
     },
     "execution_count": 13,
     "metadata": {},
     "output_type": "execute_result"
    }
   ],
   "source": [
    "sum(log_amounts)"
   ]
  },
  {
   "cell_type": "markdown",
   "metadata": {},
   "source": [
    "    4. Save the user_ids into sets\n",
    "    \n",
    "        Delete the all.log just created, as the procedure can be done at the same time"
   ]
  },
  {
   "cell_type": "code",
   "execution_count": 14,
   "metadata": {},
   "outputs": [
    {
     "name": "stderr",
     "output_type": "stream",
     "text": [
      "C:\\Users\\Sean\\Anaconda2\\lib\\site-packages\\ipykernel_launcher.py:1: DeprecationWarning: the sets module is deprecated\n",
      "  \"\"\"Entry point for launching an IPython kernel.\n"
     ]
    }
   ],
   "source": [
    "from sets import Set\n",
    "\n",
    "list_of_sets = []\n",
    "# for each day's data, set the active users' user_id into a set."
   ]
  },
  {
   "cell_type": "code",
   "execution_count": 15,
   "metadata": {
    "collapsed": true
   },
   "outputs": [],
   "source": [
    "with open('C:\\\\Users\\\\Sean\\\\Documents\\\\BitTiger\\\\Capston_music_player_python\\\\output\\\\all.log','a') as output:\n",
    "    for the_file in files:\n",
    "        with open(the_file, 'r') as f:\n",
    "            lines = f.readlines()\n",
    "            list_of_sets.append(Set([line.split('\\t')[0] for line in lines]))\n",
    "            for line in lines:\n",
    "                contents = line.strip('\\n').split('\\t')\n",
    "                contents.append(f.name.split('\\\\')[-1][:8])\n",
    "                output.write('\\t'.join(contents)+'\\n')"
   ]
  },
  {
   "cell_type": "code",
   "execution_count": 16,
   "metadata": {},
   "outputs": [
    {
     "data": {
      "text/plain": [
       "[64004, 24520]"
      ]
     },
     "execution_count": 16,
     "metadata": {},
     "output_type": "execute_result"
    }
   ],
   "source": [
    "[len(each_set) for each_set in list_of_sets]"
   ]
  },
  {
   "cell_type": "markdown",
   "metadata": {},
   "source": [
    "    5. Churn labeling and file saving\n",
    "    \n",
    "        Save the user_id of churns into a new file."
   ]
  },
  {
   "cell_type": "code",
   "execution_count": 17,
   "metadata": {
    "collapsed": true
   },
   "outputs": [],
   "source": [
    "active_before, active_after = list_of_sets[0],list_of_sets[1]"
   ]
  },
  {
   "cell_type": "code",
   "execution_count": 18,
   "metadata": {},
   "outputs": [
    {
     "data": {
      "text/plain": [
       "13"
      ]
     },
     "execution_count": 18,
     "metadata": {},
     "output_type": "execute_result"
    }
   ],
   "source": [
    "#. set method: s.intersection(t) returns to a new set of s & t\n",
    "loyal_users = active_before.intersection(active_after)\n",
    "len(loyal_users)"
   ]
  },
  {
   "cell_type": "code",
   "execution_count": 19,
   "metadata": {},
   "outputs": [
    {
     "data": {
      "text/plain": [
       "63991"
      ]
     },
     "execution_count": 19,
     "metadata": {},
     "output_type": "execute_result"
    }
   ],
   "source": [
    "#. set method: s.difference(t) returns to a new set of items in s but not in t\n",
    "churn = active_before.difference(active_after)\n",
    "len(churn)"
   ]
  },
  {
   "cell_type": "code",
   "execution_count": 20,
   "metadata": {},
   "outputs": [
    {
     "data": {
      "text/plain": [
       "24507"
      ]
     },
     "execution_count": 20,
     "metadata": {},
     "output_type": "execute_result"
    }
   ],
   "source": [
    "new_users = active_after.difference(active_before)\n",
    "len(new_users)"
   ]
  },
  {
   "cell_type": "code",
   "execution_count": 21,
   "metadata": {
    "collapsed": true
   },
   "outputs": [],
   "source": [
    "# Use loyal_user as an example\n",
    "\n",
    "with open('C:\\\\Users\\\\Sean\\\\Documents\\\\BitTiger\\\\Capston_music_player_python\\\\loyal.log','a') as loyal_file:\n",
    "    loyal_file.write('\\n'.join(list(loyal_users))+'\\n')"
   ]
  },
  {
   "cell_type": "code",
   "execution_count": 22,
   "metadata": {},
   "outputs": [
    {
     "data": {
      "text/plain": [
       "['1749320\\n',\n",
       " '1685126\\n',\n",
       " '533817\\n',\n",
       " '167986594\\n',\n",
       " '167748297\\n',\n",
       " '167892678\\n',\n",
       " '37025504\\n',\n",
       " '167826179\\n',\n",
       " '0\\n',\n",
       " '155948236\\n',\n",
       " '20090948\\n',\n",
       " '751824\\n',\n",
       " '168042334\\n']"
      ]
     },
     "execution_count": 22,
     "metadata": {},
     "output_type": "execute_result"
    }
   ],
   "source": [
    "# check loyal_file\n",
    "\n",
    "with open('C:\\\\Users\\\\Sean\\\\Documents\\\\BitTiger\\\\Capston_music_player_python\\\\loyal.log','r') as loyal_file:\n",
    "    lines = loyal_file.readlines()\n",
    "\n",
    "lines"
   ]
  },
  {
   "cell_type": "code",
   "execution_count": 24,
   "metadata": {},
   "outputs": [
    {
     "data": {
      "text/plain": [
       "'C:\\\\Users\\\\Sean\\\\Documents\\\\BitTiger\\\\Capston_music_player_python\\\\20170512_3_play.log'"
      ]
     },
     "execution_count": 24,
     "metadata": {},
     "output_type": "execute_result"
    }
   ],
   "source": [
    "the_file = files[1]\n",
    "the_file"
   ]
  },
  {
   "cell_type": "code",
   "execution_count": 28,
   "metadata": {},
   "outputs": [
    {
     "name": "stdout",
     "output_type": "stream",
     "text": [
      "processing 20170512\n",
      "...costs 0.03 minutes\n"
     ]
    }
   ],
   "source": [
    "import time\n",
    "\n",
    "current_time = time.clock()\n",
    "date = the_file.split('\\\\')[-1][:8]\n",
    "print(\"processing \"+date)\n",
    "with open(the_file, 'r') as f:\n",
    "    lines = f.readlines()\n",
    "    loyal_flags = [line.strip('\\n').split('\\t')[0] in loyal_users for line in lines]\n",
    "    loyal_indices = [i for i, flag in enumerate(loyal_flags) if flag]\n",
    "    loyal_lines = [lines[i].strip('\\n')+'\\t'+date+'\\t'+'1'+'\\n' for i in loyal_indices]\n",
    "    # Write to a separate output file\n",
    "    with open('C:\\\\Users\\\\Sean\\\\Documents\\\\BitTiger\\\\Capston_music_player_python\\\\output\\\\loyal.log', 'a') as output:\n",
    "        output.writelines(loyal_lines)\n",
    "print('...costs %.2f minutes' % ((time.clock()-current_time)/60.0))"
   ]
  },
  {
   "cell_type": "code",
   "execution_count": 29,
   "metadata": {},
   "outputs": [
    {
     "data": {
      "text/plain": [
       "287286"
      ]
     },
     "execution_count": 29,
     "metadata": {},
     "output_type": "execute_result"
    }
   ],
   "source": [
    "with open('C:\\\\Users\\\\Sean\\\\Documents\\\\BitTiger\\\\Capston_music_player_python\\\\output\\\\loyal.log','r') as loyal_file:\n",
    "    lines = loyal_file.readlines()\n",
    "\n",
    "len(lines)"
   ]
  },
  {
   "cell_type": "code",
   "execution_count": 30,
   "metadata": {
    "collapsed": true
   },
   "outputs": [],
   "source": [
    "my_dict = {'a':1,'b':2, 'c':3}"
   ]
  },
  {
   "cell_type": "code",
   "execution_count": 31,
   "metadata": {},
   "outputs": [
    {
     "data": {
      "text/plain": [
       "2"
      ]
     },
     "execution_count": 31,
     "metadata": {},
     "output_type": "execute_result"
    }
   ],
   "source": [
    "my_dict['b']"
   ]
  },
  {
   "cell_type": "code",
   "execution_count": 36,
   "metadata": {},
   "outputs": [
    {
     "data": {
      "text/plain": [
       "(1, None)"
      ]
     },
     "execution_count": 36,
     "metadata": {},
     "output_type": "execute_result"
    }
   ],
   "source": [
    "my_dict.get('a'),my_dict.get('d')"
   ]
  },
  {
   "cell_type": "code",
   "execution_count": 37,
   "metadata": {
    "collapsed": true
   },
   "outputs": [],
   "source": [
    "alpha = ['c','d','a','f']"
   ]
  },
  {
   "cell_type": "code",
   "execution_count": 38,
   "metadata": {},
   "outputs": [
    {
     "data": {
      "text/plain": [
       "[3, None, 1, None]"
      ]
     },
     "execution_count": 38,
     "metadata": {},
     "output_type": "execute_result"
    }
   ],
   "source": [
    "[my_dict.get(char) for char in alpha]"
   ]
  },
  {
   "cell_type": "code",
   "execution_count": null,
   "metadata": {
    "collapsed": true
   },
   "outputs": [],
   "source": []
  }
 ],
 "metadata": {
  "kernelspec": {
   "display_name": "Python 2",
   "language": "python",
   "name": "python2"
  },
  "language_info": {
   "codemirror_mode": {
    "name": "ipython",
    "version": 2
   },
   "file_extension": ".py",
   "mimetype": "text/x-python",
   "name": "python",
   "nbconvert_exporter": "python",
   "pygments_lexer": "ipython2",
   "version": "2.7.13"
  }
 },
 "nbformat": 4,
 "nbformat_minor": 2
}
