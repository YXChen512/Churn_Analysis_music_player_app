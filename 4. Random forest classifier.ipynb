{
 "cells": [
  {
   "cell_type": "code",
   "execution_count": 1,
   "metadata": {
    "collapsed": true
   },
   "outputs": [],
   "source": [
    "import numpy as np\n",
    "import pandas as pd"
   ]
  },
  {
   "cell_type": "code",
   "execution_count": 43,
   "metadata": {},
   "outputs": [
    {
     "data": {
      "text/html": [
       "<div>\n",
       "<style>\n",
       "    .dataframe thead tr:only-child th {\n",
       "        text-align: right;\n",
       "    }\n",
       "\n",
       "    .dataframe thead th {\n",
       "        text-align: left;\n",
       "    }\n",
       "\n",
       "    .dataframe tbody tr th {\n",
       "        vertical-align: top;\n",
       "    }\n",
       "</style>\n",
       "<table border=\"1\" class=\"dataframe\">\n",
       "  <thead>\n",
       "    <tr style=\"text-align: right;\">\n",
       "      <th></th>\n",
       "      <th>uid</th>\n",
       "      <th>device</th>\n",
       "      <th>major_song_type</th>\n",
       "      <th>total_play_time</th>\n",
       "      <th>popular_songs_ratio</th>\n",
       "      <th>play_time_label</th>\n",
       "      <th>avg_play_time</th>\n",
       "      <th>least_popular_count</th>\n",
       "      <th>most_popular_count</th>\n",
       "      <th>count_play_23</th>\n",
       "      <th>avg_complete_ratio</th>\n",
       "      <th>ratio_1_over_23</th>\n",
       "      <th>ratio_3_over_23</th>\n",
       "      <th>ratio_7_over_23</th>\n",
       "      <th>ratio_14_over_23</th>\n",
       "      <th>active_days</th>\n",
       "      <th>days_since_last_play</th>\n",
       "      <th>label</th>\n",
       "    </tr>\n",
       "  </thead>\n",
       "  <tbody>\n",
       "    <tr>\n",
       "      <th>0</th>\n",
       "      <td>533817</td>\n",
       "      <td>ar</td>\n",
       "      <td>0</td>\n",
       "      <td>1.557662e+07</td>\n",
       "      <td>0.191024</td>\n",
       "      <td>10k+</td>\n",
       "      <td>11355.430927</td>\n",
       "      <td>262.0</td>\n",
       "      <td>23236.0</td>\n",
       "      <td>82304.0</td>\n",
       "      <td>16.084027</td>\n",
       "      <td>0.037301</td>\n",
       "      <td>0.129155</td>\n",
       "      <td>0.317579</td>\n",
       "      <td>0.613044</td>\n",
       "      <td>23</td>\n",
       "      <td>1</td>\n",
       "      <td>0</td>\n",
       "    </tr>\n",
       "    <tr>\n",
       "      <th>1</th>\n",
       "      <td>751824</td>\n",
       "      <td>ar</td>\n",
       "      <td>1</td>\n",
       "      <td>3.848332e+07</td>\n",
       "      <td>0.173797</td>\n",
       "      <td>10k+</td>\n",
       "      <td>323888.268341</td>\n",
       "      <td>422.0</td>\n",
       "      <td>1866.0</td>\n",
       "      <td>7129.0</td>\n",
       "      <td>213066.662423</td>\n",
       "      <td>0.000000</td>\n",
       "      <td>0.000000</td>\n",
       "      <td>0.237340</td>\n",
       "      <td>1.000000</td>\n",
       "      <td>4</td>\n",
       "      <td>4</td>\n",
       "      <td>0</td>\n",
       "    </tr>\n",
       "    <tr>\n",
       "      <th>2</th>\n",
       "      <td>924065</td>\n",
       "      <td>ar</td>\n",
       "      <td>0</td>\n",
       "      <td>5.289638e+06</td>\n",
       "      <td>0.136762</td>\n",
       "      <td>10k+</td>\n",
       "      <td>10662.084456</td>\n",
       "      <td>8.0</td>\n",
       "      <td>8691.0</td>\n",
       "      <td>29767.0</td>\n",
       "      <td>32.965740</td>\n",
       "      <td>0.017536</td>\n",
       "      <td>0.026607</td>\n",
       "      <td>0.075789</td>\n",
       "      <td>0.833944</td>\n",
       "      <td>23</td>\n",
       "      <td>1</td>\n",
       "      <td>0</td>\n",
       "    </tr>\n",
       "    <tr>\n",
       "      <th>3</th>\n",
       "      <td>1342999</td>\n",
       "      <td>ar</td>\n",
       "      <td>0</td>\n",
       "      <td>6.639750e+03</td>\n",
       "      <td>0.222527</td>\n",
       "      <td>6k-7k</td>\n",
       "      <td>99.496753</td>\n",
       "      <td>2.0</td>\n",
       "      <td>1479.0</td>\n",
       "      <td>4004.0</td>\n",
       "      <td>0.576672</td>\n",
       "      <td>0.137862</td>\n",
       "      <td>0.186314</td>\n",
       "      <td>0.329171</td>\n",
       "      <td>0.692557</td>\n",
       "      <td>20</td>\n",
       "      <td>1</td>\n",
       "      <td>0</td>\n",
       "    </tr>\n",
       "    <tr>\n",
       "      <th>4</th>\n",
       "      <td>1620163</td>\n",
       "      <td>ar</td>\n",
       "      <td>1</td>\n",
       "      <td>4.837500e+02</td>\n",
       "      <td>0.097222</td>\n",
       "      <td>400-500</td>\n",
       "      <td>80.625000</td>\n",
       "      <td>2.0</td>\n",
       "      <td>51.0</td>\n",
       "      <td>360.0</td>\n",
       "      <td>0.409754</td>\n",
       "      <td>0.000000</td>\n",
       "      <td>0.000000</td>\n",
       "      <td>0.172222</td>\n",
       "      <td>0.430556</td>\n",
       "      <td>5</td>\n",
       "      <td>7</td>\n",
       "      <td>0</td>\n",
       "    </tr>\n",
       "  </tbody>\n",
       "</table>\n",
       "</div>"
      ],
      "text/plain": [
       "       uid device major_song_type  total_play_time  popular_songs_ratio  \\\n",
       "0   533817     ar               0     1.557662e+07             0.191024   \n",
       "1   751824     ar               1     3.848332e+07             0.173797   \n",
       "2   924065     ar               0     5.289638e+06             0.136762   \n",
       "3  1342999     ar               0     6.639750e+03             0.222527   \n",
       "4  1620163     ar               1     4.837500e+02             0.097222   \n",
       "\n",
       "  play_time_label  avg_play_time  least_popular_count  most_popular_count  \\\n",
       "0            10k+   11355.430927                262.0             23236.0   \n",
       "1            10k+  323888.268341                422.0              1866.0   \n",
       "2            10k+   10662.084456                  8.0              8691.0   \n",
       "3           6k-7k      99.496753                  2.0              1479.0   \n",
       "4         400-500      80.625000                  2.0                51.0   \n",
       "\n",
       "   count_play_23  avg_complete_ratio  ratio_1_over_23  ratio_3_over_23  \\\n",
       "0        82304.0           16.084027         0.037301         0.129155   \n",
       "1         7129.0       213066.662423         0.000000         0.000000   \n",
       "2        29767.0           32.965740         0.017536         0.026607   \n",
       "3         4004.0            0.576672         0.137862         0.186314   \n",
       "4          360.0            0.409754         0.000000         0.000000   \n",
       "\n",
       "   ratio_7_over_23  ratio_14_over_23  active_days  days_since_last_play  label  \n",
       "0         0.317579          0.613044           23                     1      0  \n",
       "1         0.237340          1.000000            4                     4      0  \n",
       "2         0.075789          0.833944           23                     1      0  \n",
       "3         0.329171          0.692557           20                     1      0  \n",
       "4         0.172222          0.430556            5                     7      0  "
      ]
     },
     "execution_count": 43,
     "metadata": {},
     "output_type": "execute_result"
    }
   ],
   "source": [
    "feature_pickle = 'C:\\\\Users\\\\Sean\\\\Documents\\\\BitTiger\\\\Capston_music_player_python\\\\modified_features_and_label.pkl'\n",
    "df = pd.read_pickle(feature_pickle)\n",
    "df.head()"
   ]
  },
  {
   "cell_type": "code",
   "execution_count": 44,
   "metadata": {},
   "outputs": [
    {
     "data": {
      "text/plain": [
       "(25389, 17)"
      ]
     },
     "execution_count": 44,
     "metadata": {},
     "output_type": "execute_result"
    }
   ],
   "source": [
    "df = df.set_index('uid')\n",
    "df.shape"
   ]
  },
  {
   "cell_type": "code",
   "execution_count": 45,
   "metadata": {},
   "outputs": [
    {
     "data": {
      "text/plain": [
       "(25389, 16)"
      ]
     },
     "execution_count": 45,
     "metadata": {},
     "output_type": "execute_result"
    }
   ],
   "source": [
    "df = df.drop('play_time_label',axis = 1)\n",
    "df.shape"
   ]
  },
  {
   "cell_type": "code",
   "execution_count": 46,
   "metadata": {},
   "outputs": [
    {
     "data": {
      "text/html": [
       "<div>\n",
       "<style>\n",
       "    .dataframe thead tr:only-child th {\n",
       "        text-align: right;\n",
       "    }\n",
       "\n",
       "    .dataframe thead th {\n",
       "        text-align: left;\n",
       "    }\n",
       "\n",
       "    .dataframe tbody tr th {\n",
       "        vertical-align: top;\n",
       "    }\n",
       "</style>\n",
       "<table border=\"1\" class=\"dataframe\">\n",
       "  <thead>\n",
       "    <tr style=\"text-align: right;\">\n",
       "      <th></th>\n",
       "      <th>total_play_time</th>\n",
       "      <th>popular_songs_ratio</th>\n",
       "      <th>avg_play_time</th>\n",
       "      <th>least_popular_count</th>\n",
       "      <th>most_popular_count</th>\n",
       "      <th>count_play_23</th>\n",
       "      <th>avg_complete_ratio</th>\n",
       "      <th>ratio_1_over_23</th>\n",
       "      <th>ratio_3_over_23</th>\n",
       "      <th>ratio_7_over_23</th>\n",
       "      <th>ratio_14_over_23</th>\n",
       "      <th>active_days</th>\n",
       "      <th>days_since_last_play</th>\n",
       "      <th>device_ar</th>\n",
       "      <th>device_ip</th>\n",
       "      <th>major_song_type_0</th>\n",
       "      <th>major_song_type_1</th>\n",
       "      <th>major_song_type_2</th>\n",
       "      <th>major_song_type_3</th>\n",
       "    </tr>\n",
       "    <tr>\n",
       "      <th>uid</th>\n",
       "      <th></th>\n",
       "      <th></th>\n",
       "      <th></th>\n",
       "      <th></th>\n",
       "      <th></th>\n",
       "      <th></th>\n",
       "      <th></th>\n",
       "      <th></th>\n",
       "      <th></th>\n",
       "      <th></th>\n",
       "      <th></th>\n",
       "      <th></th>\n",
       "      <th></th>\n",
       "      <th></th>\n",
       "      <th></th>\n",
       "      <th></th>\n",
       "      <th></th>\n",
       "      <th></th>\n",
       "      <th></th>\n",
       "    </tr>\n",
       "  </thead>\n",
       "  <tbody>\n",
       "    <tr>\n",
       "      <th>533817</th>\n",
       "      <td>1.557662e+07</td>\n",
       "      <td>0.191024</td>\n",
       "      <td>11355.430927</td>\n",
       "      <td>262.0</td>\n",
       "      <td>23236.0</td>\n",
       "      <td>82304.0</td>\n",
       "      <td>16.084027</td>\n",
       "      <td>0.037301</td>\n",
       "      <td>0.129155</td>\n",
       "      <td>0.317579</td>\n",
       "      <td>0.613044</td>\n",
       "      <td>23</td>\n",
       "      <td>1</td>\n",
       "      <td>1</td>\n",
       "      <td>0</td>\n",
       "      <td>1</td>\n",
       "      <td>0</td>\n",
       "      <td>0</td>\n",
       "      <td>0</td>\n",
       "    </tr>\n",
       "    <tr>\n",
       "      <th>751824</th>\n",
       "      <td>3.848332e+07</td>\n",
       "      <td>0.173797</td>\n",
       "      <td>323888.268341</td>\n",
       "      <td>422.0</td>\n",
       "      <td>1866.0</td>\n",
       "      <td>7129.0</td>\n",
       "      <td>213066.662423</td>\n",
       "      <td>0.000000</td>\n",
       "      <td>0.000000</td>\n",
       "      <td>0.237340</td>\n",
       "      <td>1.000000</td>\n",
       "      <td>4</td>\n",
       "      <td>4</td>\n",
       "      <td>1</td>\n",
       "      <td>0</td>\n",
       "      <td>0</td>\n",
       "      <td>1</td>\n",
       "      <td>0</td>\n",
       "      <td>0</td>\n",
       "    </tr>\n",
       "    <tr>\n",
       "      <th>924065</th>\n",
       "      <td>5.289638e+06</td>\n",
       "      <td>0.136762</td>\n",
       "      <td>10662.084456</td>\n",
       "      <td>8.0</td>\n",
       "      <td>8691.0</td>\n",
       "      <td>29767.0</td>\n",
       "      <td>32.965740</td>\n",
       "      <td>0.017536</td>\n",
       "      <td>0.026607</td>\n",
       "      <td>0.075789</td>\n",
       "      <td>0.833944</td>\n",
       "      <td>23</td>\n",
       "      <td>1</td>\n",
       "      <td>1</td>\n",
       "      <td>0</td>\n",
       "      <td>1</td>\n",
       "      <td>0</td>\n",
       "      <td>0</td>\n",
       "      <td>0</td>\n",
       "    </tr>\n",
       "    <tr>\n",
       "      <th>1342999</th>\n",
       "      <td>6.639750e+03</td>\n",
       "      <td>0.222527</td>\n",
       "      <td>99.496753</td>\n",
       "      <td>2.0</td>\n",
       "      <td>1479.0</td>\n",
       "      <td>4004.0</td>\n",
       "      <td>0.576672</td>\n",
       "      <td>0.137862</td>\n",
       "      <td>0.186314</td>\n",
       "      <td>0.329171</td>\n",
       "      <td>0.692557</td>\n",
       "      <td>20</td>\n",
       "      <td>1</td>\n",
       "      <td>1</td>\n",
       "      <td>0</td>\n",
       "      <td>1</td>\n",
       "      <td>0</td>\n",
       "      <td>0</td>\n",
       "      <td>0</td>\n",
       "    </tr>\n",
       "    <tr>\n",
       "      <th>1620163</th>\n",
       "      <td>4.837500e+02</td>\n",
       "      <td>0.097222</td>\n",
       "      <td>80.625000</td>\n",
       "      <td>2.0</td>\n",
       "      <td>51.0</td>\n",
       "      <td>360.0</td>\n",
       "      <td>0.409754</td>\n",
       "      <td>0.000000</td>\n",
       "      <td>0.000000</td>\n",
       "      <td>0.172222</td>\n",
       "      <td>0.430556</td>\n",
       "      <td>5</td>\n",
       "      <td>7</td>\n",
       "      <td>1</td>\n",
       "      <td>0</td>\n",
       "      <td>0</td>\n",
       "      <td>1</td>\n",
       "      <td>0</td>\n",
       "      <td>0</td>\n",
       "    </tr>\n",
       "  </tbody>\n",
       "</table>\n",
       "</div>"
      ],
      "text/plain": [
       "         total_play_time  popular_songs_ratio  avg_play_time  \\\n",
       "uid                                                            \n",
       "533817      1.557662e+07             0.191024   11355.430927   \n",
       "751824      3.848332e+07             0.173797  323888.268341   \n",
       "924065      5.289638e+06             0.136762   10662.084456   \n",
       "1342999     6.639750e+03             0.222527      99.496753   \n",
       "1620163     4.837500e+02             0.097222      80.625000   \n",
       "\n",
       "         least_popular_count  most_popular_count  count_play_23  \\\n",
       "uid                                                               \n",
       "533817                 262.0             23236.0        82304.0   \n",
       "751824                 422.0              1866.0         7129.0   \n",
       "924065                   8.0              8691.0        29767.0   \n",
       "1342999                  2.0              1479.0         4004.0   \n",
       "1620163                  2.0                51.0          360.0   \n",
       "\n",
       "         avg_complete_ratio  ratio_1_over_23  ratio_3_over_23  \\\n",
       "uid                                                             \n",
       "533817            16.084027         0.037301         0.129155   \n",
       "751824        213066.662423         0.000000         0.000000   \n",
       "924065            32.965740         0.017536         0.026607   \n",
       "1342999            0.576672         0.137862         0.186314   \n",
       "1620163            0.409754         0.000000         0.000000   \n",
       "\n",
       "         ratio_7_over_23  ratio_14_over_23  active_days  days_since_last_play  \\\n",
       "uid                                                                             \n",
       "533817          0.317579          0.613044           23                     1   \n",
       "751824          0.237340          1.000000            4                     4   \n",
       "924065          0.075789          0.833944           23                     1   \n",
       "1342999         0.329171          0.692557           20                     1   \n",
       "1620163         0.172222          0.430556            5                     7   \n",
       "\n",
       "         device_ar  device_ip  major_song_type_0  major_song_type_1  \\\n",
       "uid                                                                   \n",
       "533817           1          0                  1                  0   \n",
       "751824           1          0                  0                  1   \n",
       "924065           1          0                  1                  0   \n",
       "1342999          1          0                  1                  0   \n",
       "1620163          1          0                  0                  1   \n",
       "\n",
       "         major_song_type_2  major_song_type_3  \n",
       "uid                                            \n",
       "533817                   0                  0  \n",
       "751824                   0                  0  \n",
       "924065                   0                  0  \n",
       "1342999                  0                  0  \n",
       "1620163                  0                  0  "
      ]
     },
     "execution_count": 46,
     "metadata": {},
     "output_type": "execute_result"
    }
   ],
   "source": [
    "df_dummies = pd.get_dummies(df,columns = ['device','major_song_type'])\n",
    "df_dummies = df_dummies.drop('label',axis = 1)\n",
    "df_dummies.head()"
   ]
  },
  {
   "cell_type": "code",
   "execution_count": 47,
   "metadata": {},
   "outputs": [],
   "source": [
    "X = df_dummies.values\n",
    "y = df.label.values"
   ]
  },
  {
   "cell_type": "code",
   "execution_count": 48,
   "metadata": {},
   "outputs": [
    {
     "data": {
      "text/plain": [
       "((25389L, 19L), (25389L,))"
      ]
     },
     "execution_count": 48,
     "metadata": {},
     "output_type": "execute_result"
    }
   ],
   "source": [
    "X.shape, y.shape"
   ]
  },
  {
   "cell_type": "code",
   "execution_count": 49,
   "metadata": {},
   "outputs": [
    {
     "data": {
      "text/plain": [
       "((7617L, 19L), (7617L,))"
      ]
     },
     "execution_count": 49,
     "metadata": {},
     "output_type": "execute_result"
    }
   ],
   "source": [
    "from sklearn.cross_validation import train_test_split\n",
    "X_train, X_test, y_train, y_test = train_test_split(X, y, test_size=0.3, random_state=42)\n",
    "\n",
    "X_test.shape, y_test.shape"
   ]
  },
  {
   "cell_type": "code",
   "execution_count": 50,
   "metadata": {},
   "outputs": [
    {
     "data": {
      "text/plain": [
       "RandomForestClassifier(bootstrap=True, class_weight=None, criterion='gini',\n",
       "            max_depth=None, max_features='auto', max_leaf_nodes=None,\n",
       "            min_impurity_split=1e-07, min_samples_leaf=50,\n",
       "            min_samples_split=2, min_weight_fraction_leaf=0.0,\n",
       "            n_estimators=200, n_jobs=-1, oob_score=False,\n",
       "            random_state=None, verbose=0, warm_start=False)"
      ]
     },
     "execution_count": 50,
     "metadata": {},
     "output_type": "execute_result"
    }
   ],
   "source": [
    "from sklearn.ensemble import RandomForestClassifier\n",
    "\n",
    "model_rfc = RandomForestClassifier(max_depth=None, n_estimators=200, min_samples_leaf=50, max_features = 'auto', n_jobs = -1)\n",
    "\n",
    "model_rfc.fit(X_train, y_train)"
   ]
  },
  {
   "cell_type": "code",
   "execution_count": 61,
   "metadata": {},
   "outputs": [
    {
     "data": {
      "text/plain": [
       "0.78167904568984925"
      ]
     },
     "execution_count": 61,
     "metadata": {},
     "output_type": "execute_result"
    }
   ],
   "source": [
    "model_rfc.score(X_train, y_train)"
   ]
  },
  {
   "cell_type": "code",
   "execution_count": 63,
   "metadata": {},
   "outputs": [
    {
     "data": {
      "text/plain": [
       "array([  5.44710955e-02,   1.62401167e-02,   1.49132843e-02,\n",
       "         8.49434044e-03,   2.85829721e-02,   5.33599186e-02,\n",
       "         1.41724914e-02,   1.06881602e-01,   1.58503094e-01,\n",
       "         1.56752870e-01,   5.65511521e-02,   1.05572367e-01,\n",
       "         2.18774189e-01,   3.06336477e-03,   3.25828093e-03,\n",
       "         1.69533484e-04,   2.39327064e-04,   0.00000000e+00,\n",
       "         0.00000000e+00])"
      ]
     },
     "execution_count": 63,
     "metadata": {},
     "output_type": "execute_result"
    }
   ],
   "source": [
    "importance_coeff = model_rfc.feature_importances_\n",
    "importance_coeff"
   ]
  },
  {
   "cell_type": "code",
   "execution_count": 69,
   "metadata": {},
   "outputs": [
    {
     "data": {
      "text/html": [
       "<div>\n",
       "<style>\n",
       "    .dataframe thead tr:only-child th {\n",
       "        text-align: right;\n",
       "    }\n",
       "\n",
       "    .dataframe thead th {\n",
       "        text-align: left;\n",
       "    }\n",
       "\n",
       "    .dataframe tbody tr th {\n",
       "        vertical-align: top;\n",
       "    }\n",
       "</style>\n",
       "<table border=\"1\" class=\"dataframe\">\n",
       "  <thead>\n",
       "    <tr style=\"text-align: right;\">\n",
       "      <th></th>\n",
       "      <th>feature</th>\n",
       "      <th>coeff</th>\n",
       "    </tr>\n",
       "  </thead>\n",
       "  <tbody>\n",
       "    <tr>\n",
       "      <th>12</th>\n",
       "      <td>days_since_last_play</td>\n",
       "      <td>0.218774</td>\n",
       "    </tr>\n",
       "    <tr>\n",
       "      <th>8</th>\n",
       "      <td>ratio_3_over_23</td>\n",
       "      <td>0.158503</td>\n",
       "    </tr>\n",
       "    <tr>\n",
       "      <th>9</th>\n",
       "      <td>ratio_7_over_23</td>\n",
       "      <td>0.156753</td>\n",
       "    </tr>\n",
       "    <tr>\n",
       "      <th>7</th>\n",
       "      <td>ratio_1_over_23</td>\n",
       "      <td>0.106882</td>\n",
       "    </tr>\n",
       "    <tr>\n",
       "      <th>11</th>\n",
       "      <td>active_days</td>\n",
       "      <td>0.105572</td>\n",
       "    </tr>\n",
       "    <tr>\n",
       "      <th>10</th>\n",
       "      <td>ratio_14_over_23</td>\n",
       "      <td>0.056551</td>\n",
       "    </tr>\n",
       "    <tr>\n",
       "      <th>0</th>\n",
       "      <td>total_play_time</td>\n",
       "      <td>0.054471</td>\n",
       "    </tr>\n",
       "    <tr>\n",
       "      <th>5</th>\n",
       "      <td>count_play_23</td>\n",
       "      <td>0.053360</td>\n",
       "    </tr>\n",
       "    <tr>\n",
       "      <th>4</th>\n",
       "      <td>most_popular_count</td>\n",
       "      <td>0.028583</td>\n",
       "    </tr>\n",
       "    <tr>\n",
       "      <th>1</th>\n",
       "      <td>popular_songs_ratio</td>\n",
       "      <td>0.016240</td>\n",
       "    </tr>\n",
       "  </tbody>\n",
       "</table>\n",
       "</div>"
      ],
      "text/plain": [
       "                 feature     coeff\n",
       "12  days_since_last_play  0.218774\n",
       "8        ratio_3_over_23  0.158503\n",
       "9        ratio_7_over_23  0.156753\n",
       "7        ratio_1_over_23  0.106882\n",
       "11           active_days  0.105572\n",
       "10      ratio_14_over_23  0.056551\n",
       "0        total_play_time  0.054471\n",
       "5          count_play_23  0.053360\n",
       "4     most_popular_count  0.028583\n",
       "1    popular_songs_ratio  0.016240"
      ]
     },
     "execution_count": 69,
     "metadata": {},
     "output_type": "execute_result"
    }
   ],
   "source": [
    "df_coeffs = pd.DataFrame(list(zip(df_dummies.columns, importance_coeff))).sort_values(by=[1], ascending=False)\n",
    "df_coeffs.columns = ['feature', 'coeff']\n",
    "df_coeffs.iloc[0:10,:]"
   ]
  },
  {
   "cell_type": "code",
   "execution_count": 64,
   "metadata": {},
   "outputs": [
    {
     "data": {
      "text/plain": [
       "array([18, 17, 15, 16, 13, 14,  3,  6,  2,  1,  4,  5,  0, 10, 11,  7,  9,\n",
       "        8, 12], dtype=int64)"
      ]
     },
     "execution_count": 64,
     "metadata": {},
     "output_type": "execute_result"
    }
   ],
   "source": [
    "np.argsort(importance_coeff)"
   ]
  },
  {
   "cell_type": "code",
   "execution_count": 66,
   "metadata": {},
   "outputs": [
    {
     "data": {
      "text/plain": [
       "Index([u'days_since_last_play', u'ratio_3_over_23', u'ratio_7_over_23',\n",
       "       u'ratio_1_over_23', u'active_days', u'ratio_14_over_23',\n",
       "       u'total_play_time', u'count_play_23', u'most_popular_count',\n",
       "       u'popular_songs_ratio', u'avg_play_time', u'avg_complete_ratio',\n",
       "       u'least_popular_count', u'device_ip', u'device_ar',\n",
       "       u'major_song_type_1', u'major_song_type_0', u'major_song_type_2',\n",
       "       u'major_song_type_3'],\n",
       "      dtype='object')"
      ]
     },
     "execution_count": 66,
     "metadata": {},
     "output_type": "execute_result"
    }
   ],
   "source": [
    "df_dummies.columns[np.argsort(importance_coeff)][::-1]"
   ]
  },
  {
   "cell_type": "code",
   "execution_count": null,
   "metadata": {
    "collapsed": true
   },
   "outputs": [],
   "source": []
  }
 ],
 "metadata": {
  "kernelspec": {
   "display_name": "Python 2",
   "language": "python",
   "name": "python2"
  },
  "language_info": {
   "codemirror_mode": {
    "name": "ipython",
    "version": 2
   },
   "file_extension": ".py",
   "mimetype": "text/x-python",
   "name": "python",
   "nbconvert_exporter": "python",
   "pygments_lexer": "ipython2",
   "version": "2.7.13"
  }
 },
 "nbformat": 4,
 "nbformat_minor": 2
}
