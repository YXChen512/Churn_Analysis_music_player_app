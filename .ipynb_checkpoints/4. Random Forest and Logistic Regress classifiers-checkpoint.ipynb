{
 "cells": [
  {
   "cell_type": "code",
   "execution_count": 1,
   "metadata": {
    "collapsed": true
   },
   "outputs": [],
   "source": [
    "import numpy as np\n",
    "import pandas as pd"
   ]
  },
  {
   "cell_type": "code",
   "execution_count": 357,
   "metadata": {},
   "outputs": [
    {
     "data": {
      "text/html": [
       "<div>\n",
       "<style>\n",
       "    .dataframe thead tr:only-child th {\n",
       "        text-align: right;\n",
       "    }\n",
       "\n",
       "    .dataframe thead th {\n",
       "        text-align: left;\n",
       "    }\n",
       "\n",
       "    .dataframe tbody tr th {\n",
       "        vertical-align: top;\n",
       "    }\n",
       "</style>\n",
       "<table border=\"1\" class=\"dataframe\">\n",
       "  <thead>\n",
       "    <tr style=\"text-align: right;\">\n",
       "      <th></th>\n",
       "      <th>uid</th>\n",
       "      <th>device</th>\n",
       "      <th>major_song_type</th>\n",
       "      <th>total_play_time</th>\n",
       "      <th>popular_songs_ratio</th>\n",
       "      <th>avg_play_time</th>\n",
       "      <th>least_popular_count</th>\n",
       "      <th>most_popular_count</th>\n",
       "      <th>count_play_23</th>\n",
       "      <th>avg_complete_ratio</th>\n",
       "      <th>...</th>\n",
       "      <th>ratio_3_over_14</th>\n",
       "      <th>ratio_7_over_14</th>\n",
       "      <th>ratio_1_over_23</th>\n",
       "      <th>ratio_3_over_23</th>\n",
       "      <th>ratio_7_over_23</th>\n",
       "      <th>ratio_14_over_23</th>\n",
       "      <th>active_days</th>\n",
       "      <th>days_since_last_play</th>\n",
       "      <th>label</th>\n",
       "      <th>play_time_bins</th>\n",
       "    </tr>\n",
       "  </thead>\n",
       "  <tbody>\n",
       "    <tr>\n",
       "      <th>0</th>\n",
       "      <td>533817</td>\n",
       "      <td>ar</td>\n",
       "      <td>0</td>\n",
       "      <td>1.557662e+07</td>\n",
       "      <td>0.191024</td>\n",
       "      <td>11355.430927</td>\n",
       "      <td>262.0</td>\n",
       "      <td>23236.0</td>\n",
       "      <td>82304.0</td>\n",
       "      <td>0.889454</td>\n",
       "      <td>...</td>\n",
       "      <td>0.210679</td>\n",
       "      <td>0.518036</td>\n",
       "      <td>0.037301</td>\n",
       "      <td>0.129155</td>\n",
       "      <td>0.317579</td>\n",
       "      <td>0.613044</td>\n",
       "      <td>23</td>\n",
       "      <td>1</td>\n",
       "      <td>0</td>\n",
       "      <td>[2000,inf)</td>\n",
       "    </tr>\n",
       "    <tr>\n",
       "      <th>1</th>\n",
       "      <td>751824</td>\n",
       "      <td>ar</td>\n",
       "      <td>1</td>\n",
       "      <td>3.848332e+07</td>\n",
       "      <td>0.173797</td>\n",
       "      <td>323888.268341</td>\n",
       "      <td>422.0</td>\n",
       "      <td>1866.0</td>\n",
       "      <td>7129.0</td>\n",
       "      <td>0.933828</td>\n",
       "      <td>...</td>\n",
       "      <td>0.000000</td>\n",
       "      <td>0.237340</td>\n",
       "      <td>0.000000</td>\n",
       "      <td>0.000000</td>\n",
       "      <td>0.237340</td>\n",
       "      <td>1.000000</td>\n",
       "      <td>4</td>\n",
       "      <td>4</td>\n",
       "      <td>0</td>\n",
       "      <td>[2000,inf)</td>\n",
       "    </tr>\n",
       "    <tr>\n",
       "      <th>2</th>\n",
       "      <td>924065</td>\n",
       "      <td>ar</td>\n",
       "      <td>0</td>\n",
       "      <td>5.289638e+06</td>\n",
       "      <td>0.136762</td>\n",
       "      <td>10662.084456</td>\n",
       "      <td>8.0</td>\n",
       "      <td>8691.0</td>\n",
       "      <td>29767.0</td>\n",
       "      <td>0.326098</td>\n",
       "      <td>...</td>\n",
       "      <td>0.031905</td>\n",
       "      <td>0.090880</td>\n",
       "      <td>0.017536</td>\n",
       "      <td>0.026607</td>\n",
       "      <td>0.075789</td>\n",
       "      <td>0.833944</td>\n",
       "      <td>23</td>\n",
       "      <td>1</td>\n",
       "      <td>0</td>\n",
       "      <td>[2000,inf)</td>\n",
       "    </tr>\n",
       "    <tr>\n",
       "      <th>3</th>\n",
       "      <td>1342999</td>\n",
       "      <td>ar</td>\n",
       "      <td>0</td>\n",
       "      <td>6.639750e+03</td>\n",
       "      <td>0.222527</td>\n",
       "      <td>99.496753</td>\n",
       "      <td>2.0</td>\n",
       "      <td>1479.0</td>\n",
       "      <td>4004.0</td>\n",
       "      <td>0.475512</td>\n",
       "      <td>...</td>\n",
       "      <td>0.269023</td>\n",
       "      <td>0.475298</td>\n",
       "      <td>0.137862</td>\n",
       "      <td>0.186314</td>\n",
       "      <td>0.329171</td>\n",
       "      <td>0.692557</td>\n",
       "      <td>20</td>\n",
       "      <td>1</td>\n",
       "      <td>0</td>\n",
       "      <td>[2000,inf)</td>\n",
       "    </tr>\n",
       "    <tr>\n",
       "      <th>4</th>\n",
       "      <td>1620163</td>\n",
       "      <td>ar</td>\n",
       "      <td>1</td>\n",
       "      <td>4.837500e+02</td>\n",
       "      <td>0.097222</td>\n",
       "      <td>80.625000</td>\n",
       "      <td>2.0</td>\n",
       "      <td>51.0</td>\n",
       "      <td>360.0</td>\n",
       "      <td>0.409716</td>\n",
       "      <td>...</td>\n",
       "      <td>0.000000</td>\n",
       "      <td>0.400000</td>\n",
       "      <td>0.000000</td>\n",
       "      <td>0.000000</td>\n",
       "      <td>0.172222</td>\n",
       "      <td>0.430556</td>\n",
       "      <td>5</td>\n",
       "      <td>7</td>\n",
       "      <td>0</td>\n",
       "      <td>[200, 1000)</td>\n",
       "    </tr>\n",
       "  </tbody>\n",
       "</table>\n",
       "<p>5 rows × 24 columns</p>\n",
       "</div>"
      ],
      "text/plain": [
       "       uid device major_song_type  total_play_time  popular_songs_ratio  \\\n",
       "0   533817     ar               0     1.557662e+07             0.191024   \n",
       "1   751824     ar               1     3.848332e+07             0.173797   \n",
       "2   924065     ar               0     5.289638e+06             0.136762   \n",
       "3  1342999     ar               0     6.639750e+03             0.222527   \n",
       "4  1620163     ar               1     4.837500e+02             0.097222   \n",
       "\n",
       "   avg_play_time  least_popular_count  most_popular_count  count_play_23  \\\n",
       "0   11355.430927                262.0             23236.0        82304.0   \n",
       "1  323888.268341                422.0              1866.0         7129.0   \n",
       "2   10662.084456                  8.0              8691.0        29767.0   \n",
       "3      99.496753                  2.0              1479.0         4004.0   \n",
       "4      80.625000                  2.0                51.0          360.0   \n",
       "\n",
       "   avg_complete_ratio       ...        ratio_3_over_14  ratio_7_over_14  \\\n",
       "0            0.889454       ...               0.210679         0.518036   \n",
       "1            0.933828       ...               0.000000         0.237340   \n",
       "2            0.326098       ...               0.031905         0.090880   \n",
       "3            0.475512       ...               0.269023         0.475298   \n",
       "4            0.409716       ...               0.000000         0.400000   \n",
       "\n",
       "   ratio_1_over_23  ratio_3_over_23  ratio_7_over_23  ratio_14_over_23  \\\n",
       "0         0.037301         0.129155         0.317579          0.613044   \n",
       "1         0.000000         0.000000         0.237340          1.000000   \n",
       "2         0.017536         0.026607         0.075789          0.833944   \n",
       "3         0.137862         0.186314         0.329171          0.692557   \n",
       "4         0.000000         0.000000         0.172222          0.430556   \n",
       "\n",
       "   active_days  days_since_last_play  label  play_time_bins  \n",
       "0           23                     1      0      [2000,inf)  \n",
       "1            4                     4      0      [2000,inf)  \n",
       "2           23                     1      0      [2000,inf)  \n",
       "3           20                     1      0      [2000,inf)  \n",
       "4            5                     7      0     [200, 1000)  \n",
       "\n",
       "[5 rows x 24 columns]"
      ]
     },
     "execution_count": 357,
     "metadata": {},
     "output_type": "execute_result"
    }
   ],
   "source": [
    "feature_pickle = 'C:\\\\Users\\\\Sean\\\\Documents\\\\BitTiger\\\\Capston_music_player_python\\\\modified_features_and_label.pkl'\n",
    "df = pd.read_pickle(feature_pickle)\n",
    "df.head()"
   ]
  },
  {
   "cell_type": "code",
   "execution_count": 358,
   "metadata": {},
   "outputs": [
    {
     "data": {
      "text/plain": [
       "(25389, 23)"
      ]
     },
     "execution_count": 358,
     "metadata": {},
     "output_type": "execute_result"
    }
   ],
   "source": [
    "df = df.set_index('uid')\n",
    "df.shape"
   ]
  },
  {
   "cell_type": "code",
   "execution_count": 359,
   "metadata": {},
   "outputs": [
    {
     "data": {
      "text/html": [
       "<div>\n",
       "<style>\n",
       "    .dataframe thead tr:only-child th {\n",
       "        text-align: right;\n",
       "    }\n",
       "\n",
       "    .dataframe thead th {\n",
       "        text-align: left;\n",
       "    }\n",
       "\n",
       "    .dataframe tbody tr th {\n",
       "        vertical-align: top;\n",
       "    }\n",
       "</style>\n",
       "<table border=\"1\" class=\"dataframe\">\n",
       "  <thead>\n",
       "    <tr style=\"text-align: right;\">\n",
       "      <th></th>\n",
       "      <th>total_play_time</th>\n",
       "      <th>popular_songs_ratio</th>\n",
       "      <th>avg_play_time</th>\n",
       "      <th>least_popular_count</th>\n",
       "      <th>most_popular_count</th>\n",
       "      <th>count_play_23</th>\n",
       "      <th>avg_complete_ratio</th>\n",
       "      <th>ratio_1_over_3</th>\n",
       "      <th>ratio_1_over_7</th>\n",
       "      <th>ratio_3_over_7</th>\n",
       "      <th>...</th>\n",
       "      <th>device_ar</th>\n",
       "      <th>device_ip</th>\n",
       "      <th>major_song_type_0</th>\n",
       "      <th>major_song_type_1</th>\n",
       "      <th>major_song_type_2</th>\n",
       "      <th>major_song_type_3</th>\n",
       "      <th>play_time_bins_[0, 200)</th>\n",
       "      <th>play_time_bins_[200, 1000)</th>\n",
       "      <th>play_time_bins_[1000, 2000)</th>\n",
       "      <th>play_time_bins_[2000,inf)</th>\n",
       "    </tr>\n",
       "    <tr>\n",
       "      <th>uid</th>\n",
       "      <th></th>\n",
       "      <th></th>\n",
       "      <th></th>\n",
       "      <th></th>\n",
       "      <th></th>\n",
       "      <th></th>\n",
       "      <th></th>\n",
       "      <th></th>\n",
       "      <th></th>\n",
       "      <th></th>\n",
       "      <th></th>\n",
       "      <th></th>\n",
       "      <th></th>\n",
       "      <th></th>\n",
       "      <th></th>\n",
       "      <th></th>\n",
       "      <th></th>\n",
       "      <th></th>\n",
       "      <th></th>\n",
       "      <th></th>\n",
       "      <th></th>\n",
       "    </tr>\n",
       "  </thead>\n",
       "  <tbody>\n",
       "    <tr>\n",
       "      <th>533817</th>\n",
       "      <td>1.557662e+07</td>\n",
       "      <td>0.191024</td>\n",
       "      <td>11355.430927</td>\n",
       "      <td>262.0</td>\n",
       "      <td>23236.0</td>\n",
       "      <td>82304.0</td>\n",
       "      <td>0.889454</td>\n",
       "      <td>0.288805</td>\n",
       "      <td>0.117454</td>\n",
       "      <td>0.406688</td>\n",
       "      <td>...</td>\n",
       "      <td>1</td>\n",
       "      <td>0</td>\n",
       "      <td>1</td>\n",
       "      <td>0</td>\n",
       "      <td>0</td>\n",
       "      <td>0</td>\n",
       "      <td>0</td>\n",
       "      <td>0</td>\n",
       "      <td>0</td>\n",
       "      <td>1</td>\n",
       "    </tr>\n",
       "    <tr>\n",
       "      <th>751824</th>\n",
       "      <td>3.848332e+07</td>\n",
       "      <td>0.173797</td>\n",
       "      <td>323888.268341</td>\n",
       "      <td>422.0</td>\n",
       "      <td>1866.0</td>\n",
       "      <td>7129.0</td>\n",
       "      <td>0.933828</td>\n",
       "      <td>0.000000</td>\n",
       "      <td>0.000000</td>\n",
       "      <td>0.000000</td>\n",
       "      <td>...</td>\n",
       "      <td>1</td>\n",
       "      <td>0</td>\n",
       "      <td>0</td>\n",
       "      <td>1</td>\n",
       "      <td>0</td>\n",
       "      <td>0</td>\n",
       "      <td>0</td>\n",
       "      <td>0</td>\n",
       "      <td>0</td>\n",
       "      <td>1</td>\n",
       "    </tr>\n",
       "    <tr>\n",
       "      <th>924065</th>\n",
       "      <td>5.289638e+06</td>\n",
       "      <td>0.136762</td>\n",
       "      <td>10662.084456</td>\n",
       "      <td>8.0</td>\n",
       "      <td>8691.0</td>\n",
       "      <td>29767.0</td>\n",
       "      <td>0.326098</td>\n",
       "      <td>0.659091</td>\n",
       "      <td>0.231383</td>\n",
       "      <td>0.351064</td>\n",
       "      <td>...</td>\n",
       "      <td>1</td>\n",
       "      <td>0</td>\n",
       "      <td>1</td>\n",
       "      <td>0</td>\n",
       "      <td>0</td>\n",
       "      <td>0</td>\n",
       "      <td>0</td>\n",
       "      <td>0</td>\n",
       "      <td>0</td>\n",
       "      <td>1</td>\n",
       "    </tr>\n",
       "    <tr>\n",
       "      <th>1342999</th>\n",
       "      <td>6.639750e+03</td>\n",
       "      <td>0.222527</td>\n",
       "      <td>99.496753</td>\n",
       "      <td>2.0</td>\n",
       "      <td>1479.0</td>\n",
       "      <td>4004.0</td>\n",
       "      <td>0.475512</td>\n",
       "      <td>0.739946</td>\n",
       "      <td>0.418816</td>\n",
       "      <td>0.566009</td>\n",
       "      <td>...</td>\n",
       "      <td>1</td>\n",
       "      <td>0</td>\n",
       "      <td>1</td>\n",
       "      <td>0</td>\n",
       "      <td>0</td>\n",
       "      <td>0</td>\n",
       "      <td>0</td>\n",
       "      <td>0</td>\n",
       "      <td>0</td>\n",
       "      <td>1</td>\n",
       "    </tr>\n",
       "    <tr>\n",
       "      <th>1620163</th>\n",
       "      <td>4.837500e+02</td>\n",
       "      <td>0.097222</td>\n",
       "      <td>80.625000</td>\n",
       "      <td>2.0</td>\n",
       "      <td>51.0</td>\n",
       "      <td>360.0</td>\n",
       "      <td>0.409716</td>\n",
       "      <td>0.000000</td>\n",
       "      <td>0.000000</td>\n",
       "      <td>0.000000</td>\n",
       "      <td>...</td>\n",
       "      <td>1</td>\n",
       "      <td>0</td>\n",
       "      <td>0</td>\n",
       "      <td>1</td>\n",
       "      <td>0</td>\n",
       "      <td>0</td>\n",
       "      <td>0</td>\n",
       "      <td>1</td>\n",
       "      <td>0</td>\n",
       "      <td>0</td>\n",
       "    </tr>\n",
       "  </tbody>\n",
       "</table>\n",
       "<p>5 rows × 29 columns</p>\n",
       "</div>"
      ],
      "text/plain": [
       "         total_play_time  popular_songs_ratio  avg_play_time  \\\n",
       "uid                                                            \n",
       "533817      1.557662e+07             0.191024   11355.430927   \n",
       "751824      3.848332e+07             0.173797  323888.268341   \n",
       "924065      5.289638e+06             0.136762   10662.084456   \n",
       "1342999     6.639750e+03             0.222527      99.496753   \n",
       "1620163     4.837500e+02             0.097222      80.625000   \n",
       "\n",
       "         least_popular_count  most_popular_count  count_play_23  \\\n",
       "uid                                                               \n",
       "533817                 262.0             23236.0        82304.0   \n",
       "751824                 422.0              1866.0         7129.0   \n",
       "924065                   8.0              8691.0        29767.0   \n",
       "1342999                  2.0              1479.0         4004.0   \n",
       "1620163                  2.0                51.0          360.0   \n",
       "\n",
       "         avg_complete_ratio  ratio_1_over_3  ratio_1_over_7  ratio_3_over_7  \\\n",
       "uid                                                                           \n",
       "533817             0.889454        0.288805        0.117454        0.406688   \n",
       "751824             0.933828        0.000000        0.000000        0.000000   \n",
       "924065             0.326098        0.659091        0.231383        0.351064   \n",
       "1342999            0.475512        0.739946        0.418816        0.566009   \n",
       "1620163            0.409716        0.000000        0.000000        0.000000   \n",
       "\n",
       "                   ...              device_ar  device_ip  major_song_type_0  \\\n",
       "uid                ...                                                        \n",
       "533817             ...                      1          0                  1   \n",
       "751824             ...                      1          0                  0   \n",
       "924065             ...                      1          0                  1   \n",
       "1342999            ...                      1          0                  1   \n",
       "1620163            ...                      1          0                  0   \n",
       "\n",
       "         major_song_type_1  major_song_type_2  major_song_type_3  \\\n",
       "uid                                                                \n",
       "533817                   0                  0                  0   \n",
       "751824                   1                  0                  0   \n",
       "924065                   0                  0                  0   \n",
       "1342999                  0                  0                  0   \n",
       "1620163                  1                  0                  0   \n",
       "\n",
       "         play_time_bins_[0, 200)  play_time_bins_[200, 1000)  \\\n",
       "uid                                                            \n",
       "533817                         0                           0   \n",
       "751824                         0                           0   \n",
       "924065                         0                           0   \n",
       "1342999                        0                           0   \n",
       "1620163                        0                           1   \n",
       "\n",
       "         play_time_bins_[1000, 2000)  play_time_bins_[2000,inf)  \n",
       "uid                                                              \n",
       "533817                             0                          1  \n",
       "751824                             0                          1  \n",
       "924065                             0                          1  \n",
       "1342999                            0                          1  \n",
       "1620163                            0                          0  \n",
       "\n",
       "[5 rows x 29 columns]"
      ]
     },
     "execution_count": 359,
     "metadata": {},
     "output_type": "execute_result"
    }
   ],
   "source": [
    "df_dummies = pd.get_dummies(df,columns = ['device','major_song_type','play_time_bins'])\n",
    "df_dummies = df_dummies.drop('label',axis = 1)\n",
    "df_dummies.head()"
   ]
  },
  {
   "cell_type": "code",
   "execution_count": 360,
   "metadata": {},
   "outputs": [],
   "source": [
    "X = df_dummies.values\n",
    "y = df.label.values"
   ]
  },
  {
   "cell_type": "code",
   "execution_count": 361,
   "metadata": {},
   "outputs": [
    {
     "data": {
      "text/plain": [
       "((25389L, 29L), (25389L,))"
      ]
     },
     "execution_count": 361,
     "metadata": {},
     "output_type": "execute_result"
    }
   ],
   "source": [
    "X.shape, y.shape"
   ]
  },
  {
   "cell_type": "code",
   "execution_count": 362,
   "metadata": {},
   "outputs": [
    {
     "data": {
      "text/plain": [
       "((7617L, 29L), (7617L,))"
      ]
     },
     "execution_count": 362,
     "metadata": {},
     "output_type": "execute_result"
    }
   ],
   "source": [
    "from sklearn.cross_validation import train_test_split\n",
    "X_train, X_test, y_train, y_test = train_test_split(X, y, test_size=0.3, random_state=42)\n",
    "\n",
    "X_test.shape, y_test.shape"
   ]
  },
  {
   "cell_type": "code",
   "execution_count": 363,
   "metadata": {
    "collapsed": true
   },
   "outputs": [],
   "source": [
    "from sklearn.metrics import confusion_matrix, classification_report, roc_curve, roc_auc_score"
   ]
  },
  {
   "cell_type": "code",
   "execution_count": 364,
   "metadata": {
    "scrolled": true
   },
   "outputs": [
    {
     "data": {
      "text/plain": [
       "RandomForestClassifier(bootstrap=True, class_weight=None, criterion='entropy',\n",
       "            max_depth=10, max_features='auto', max_leaf_nodes=None,\n",
       "            min_impurity_split=0.1, min_samples_leaf=20,\n",
       "            min_samples_split=50, min_weight_fraction_leaf=0.0,\n",
       "            n_estimators=200, n_jobs=-1, oob_score=False,\n",
       "            random_state=None, verbose=0, warm_start=False)"
      ]
     },
     "execution_count": 364,
     "metadata": {},
     "output_type": "execute_result"
    }
   ],
   "source": [
    "## from sklearn.ensemble import RandomForestClassifier\n",
    "\n",
    "model_rfc = RandomForestClassifier(max_depth=10, n_estimators=200, min_samples_leaf=20, criterion='entropy',\n",
    "                                   min_samples_split=50, min_impurity_split=0.1, max_features = 'auto', n_jobs = -1)\n",
    "\n",
    "model_rfc.fit(X_train, y_train)"
   ]
  },
  {
   "cell_type": "code",
   "execution_count": 365,
   "metadata": {},
   "outputs": [
    {
     "data": {
      "text/plain": [
       "(0.79304523970290342, 0.75909150584219509)"
      ]
     },
     "execution_count": 365,
     "metadata": {},
     "output_type": "execute_result"
    }
   ],
   "source": [
    "model_rfc.score(X_train, y_train),model_rfc.score(X_test, y_test)"
   ]
  },
  {
   "cell_type": "code",
   "execution_count": 366,
   "metadata": {},
   "outputs": [
    {
     "data": {
      "text/plain": [
       "0.75909411189624065"
      ]
     },
     "execution_count": 366,
     "metadata": {},
     "output_type": "execute_result"
    }
   ],
   "source": [
    "roc_auc_score(y_test, model_rfc.predict(X_test))"
   ]
  },
  {
   "cell_type": "code",
   "execution_count": 367,
   "metadata": {},
   "outputs": [
    {
     "data": {
      "text/plain": [
       "array([ 0.04569723,  0.02124966,  0.02153719,  0.00816793,  0.02594464,\n",
       "        0.0473065 ,  0.01818131,  0.02523562,  0.03115806,  0.10503994,\n",
       "        0.03415842,  0.08681818,  0.07843497,  0.02651713,  0.07371368,\n",
       "        0.07791938,  0.03696407,  0.06863216,  0.13867989,  0.00352584,\n",
       "        0.00362944,  0.00071853,  0.00067436,  0.        ,  0.        ,\n",
       "        0.01489924,  0.00304932,  0.00128086,  0.00086647])"
      ]
     },
     "execution_count": 367,
     "metadata": {},
     "output_type": "execute_result"
    }
   ],
   "source": [
    "importance_coeff = model_rfc.feature_importances_\n",
    "importance_coeff"
   ]
  },
  {
   "cell_type": "code",
   "execution_count": 368,
   "metadata": {},
   "outputs": [
    {
     "data": {
      "text/html": [
       "<div>\n",
       "<style>\n",
       "    .dataframe thead tr:only-child th {\n",
       "        text-align: right;\n",
       "    }\n",
       "\n",
       "    .dataframe thead th {\n",
       "        text-align: left;\n",
       "    }\n",
       "\n",
       "    .dataframe tbody tr th {\n",
       "        vertical-align: top;\n",
       "    }\n",
       "</style>\n",
       "<table border=\"1\" class=\"dataframe\">\n",
       "  <thead>\n",
       "    <tr style=\"text-align: right;\">\n",
       "      <th></th>\n",
       "      <th>feature</th>\n",
       "      <th>coeff</th>\n",
       "    </tr>\n",
       "  </thead>\n",
       "  <tbody>\n",
       "    <tr>\n",
       "      <th>18</th>\n",
       "      <td>days_since_last_play</td>\n",
       "      <td>0.138680</td>\n",
       "    </tr>\n",
       "    <tr>\n",
       "      <th>9</th>\n",
       "      <td>ratio_3_over_7</td>\n",
       "      <td>0.105040</td>\n",
       "    </tr>\n",
       "    <tr>\n",
       "      <th>11</th>\n",
       "      <td>ratio_3_over_14</td>\n",
       "      <td>0.086818</td>\n",
       "    </tr>\n",
       "    <tr>\n",
       "      <th>12</th>\n",
       "      <td>ratio_7_over_14</td>\n",
       "      <td>0.078435</td>\n",
       "    </tr>\n",
       "    <tr>\n",
       "      <th>15</th>\n",
       "      <td>ratio_7_over_23</td>\n",
       "      <td>0.077919</td>\n",
       "    </tr>\n",
       "    <tr>\n",
       "      <th>14</th>\n",
       "      <td>ratio_3_over_23</td>\n",
       "      <td>0.073714</td>\n",
       "    </tr>\n",
       "    <tr>\n",
       "      <th>17</th>\n",
       "      <td>active_days</td>\n",
       "      <td>0.068632</td>\n",
       "    </tr>\n",
       "    <tr>\n",
       "      <th>5</th>\n",
       "      <td>count_play_23</td>\n",
       "      <td>0.047306</td>\n",
       "    </tr>\n",
       "    <tr>\n",
       "      <th>0</th>\n",
       "      <td>total_play_time</td>\n",
       "      <td>0.045697</td>\n",
       "    </tr>\n",
       "    <tr>\n",
       "      <th>16</th>\n",
       "      <td>ratio_14_over_23</td>\n",
       "      <td>0.036964</td>\n",
       "    </tr>\n",
       "    <tr>\n",
       "      <th>10</th>\n",
       "      <td>ratio_1_over_14</td>\n",
       "      <td>0.034158</td>\n",
       "    </tr>\n",
       "    <tr>\n",
       "      <th>8</th>\n",
       "      <td>ratio_1_over_7</td>\n",
       "      <td>0.031158</td>\n",
       "    </tr>\n",
       "    <tr>\n",
       "      <th>13</th>\n",
       "      <td>ratio_1_over_23</td>\n",
       "      <td>0.026517</td>\n",
       "    </tr>\n",
       "    <tr>\n",
       "      <th>4</th>\n",
       "      <td>most_popular_count</td>\n",
       "      <td>0.025945</td>\n",
       "    </tr>\n",
       "  </tbody>\n",
       "</table>\n",
       "</div>"
      ],
      "text/plain": [
       "                 feature     coeff\n",
       "18  days_since_last_play  0.138680\n",
       "9         ratio_3_over_7  0.105040\n",
       "11       ratio_3_over_14  0.086818\n",
       "12       ratio_7_over_14  0.078435\n",
       "15       ratio_7_over_23  0.077919\n",
       "14       ratio_3_over_23  0.073714\n",
       "17           active_days  0.068632\n",
       "5          count_play_23  0.047306\n",
       "0        total_play_time  0.045697\n",
       "16      ratio_14_over_23  0.036964\n",
       "10       ratio_1_over_14  0.034158\n",
       "8         ratio_1_over_7  0.031158\n",
       "13       ratio_1_over_23  0.026517\n",
       "4     most_popular_count  0.025945"
      ]
     },
     "execution_count": 368,
     "metadata": {},
     "output_type": "execute_result"
    }
   ],
   "source": [
    "df_coeffs = pd.DataFrame(list(zip(df_dummies.columns, importance_coeff))).sort_values(by=[1], ascending=True)\n",
    "df_coeffs.columns = ['feature', 'coeff']\n",
    "df_coeffs.iloc[-1:-15:-1,:]"
   ]
  },
  {
   "cell_type": "code",
   "execution_count": 369,
   "metadata": {
    "collapsed": true
   },
   "outputs": [],
   "source": [
    "import matplotlib.pyplot as plt\n",
    "\n",
    "% matplotlib inline\n",
    "# Always make it pretty.\n",
    "plt.style.use('ggplot')"
   ]
  },
  {
   "cell_type": "code",
   "execution_count": 387,
   "metadata": {},
   "outputs": [
    {
     "data": {
      "image/png": "[encoded data removed]",
      "text/plain": [
       "<matplotlib.figure.Figure at 0x4bc21e48>"
      ]
     },
     "metadata": {},
     "output_type": "display_data"
    }
   ],
   "source": [
    "ax = df_coeffs.plot.barh()\n",
    "t = np.arange(X.shape[1])\n",
    "ax.set_yticks(t)\n",
    "ax.set_yticklabels(df_coeffs['feature'])\n",
    "plt.rcParams[\"figure.figsize\"] = (8,10)\n",
    "plt.show()"
   ]
  },
  {
   "cell_type": "code",
   "execution_count": 388,
   "metadata": {},
   "outputs": [
    {
     "data": {
      "text/plain": [
       "Index([u'device', u'major_song_type', u'total_play_time',\n",
       "       u'popular_songs_ratio', u'avg_play_time', u'least_popular_count',\n",
       "       u'most_popular_count', u'count_play_23', u'avg_complete_ratio',\n",
       "       u'ratio_1_over_3', u'ratio_1_over_7', u'ratio_3_over_7',\n",
       "       u'ratio_1_over_14', u'ratio_3_over_14', u'ratio_7_over_14',\n",
       "       u'ratio_1_over_23', u'ratio_3_over_23', u'ratio_7_over_23',\n",
       "       u'ratio_14_over_23', u'active_days', u'days_since_last_play', u'label',\n",
       "       u'play_time_bins'],\n",
       "      dtype='object')"
      ]
     },
     "execution_count": 388,
     "metadata": {},
     "output_type": "execute_result"
    }
   ],
   "source": [
    "df.columns"
   ]
  },
  {
   "cell_type": "code",
   "execution_count": 456,
   "metadata": {},
   "outputs": [],
   "source": [
    "df_selected_features = df.loc[:,['total_play_time','popular_songs_ratio','avg_play_time','least_popular_count',\\\n",
    "                             'most_popular_count','count_play_23','avg_complete_ratio',\\\n",
    "                              'ratio_1_over_23','ratio_3_over_23','ratio_7_over_23','ratio_14_over_23',\\\n",
    "                                 'ratio_1_over_14','ratio_3_over_14','ratio_7_over_14',\\\n",
    "                                 'ratio_1_over_7','ratio_3_over_7','ratio_1_over_3',\\\n",
    "                             'active_days','days_since_last_play','label']]"
   ]
  },
  {
   "cell_type": "code",
   "execution_count": 457,
   "metadata": {},
   "outputs": [],
   "source": [
    "df_selected_features['no_play_1'] = (df_selected_features.ratio_1_over_23==0).astype(int)\n",
    "df_selected_features['no_play_3'] = (df_selected_features.ratio_3_over_23==0).astype(int)\n",
    "df_selected_features['no_play_7'] = (df_selected_features.ratio_7_over_23==0).astype(int)\n",
    "df_selected_features['no_play_14'] = (df_selected_features.ratio_14_over_23==0).astype(int)"
   ]
  },
  {
   "cell_type": "code",
   "execution_count": 458,
   "metadata": {},
   "outputs": [
    {
     "data": {
      "text/html": [
       "<div>\n",
       "<style>\n",
       "    .dataframe thead tr:only-child th {\n",
       "        text-align: right;\n",
       "    }\n",
       "\n",
       "    .dataframe thead th {\n",
       "        text-align: left;\n",
       "    }\n",
       "\n",
       "    .dataframe tbody tr th {\n",
       "        vertical-align: top;\n",
       "    }\n",
       "</style>\n",
       "<table border=\"1\" class=\"dataframe\">\n",
       "  <thead>\n",
       "    <tr style=\"text-align: right;\">\n",
       "      <th></th>\n",
       "      <th>total_play_time</th>\n",
       "      <th>popular_songs_ratio</th>\n",
       "      <th>avg_play_time</th>\n",
       "      <th>least_popular_count</th>\n",
       "      <th>most_popular_count</th>\n",
       "      <th>count_play_23</th>\n",
       "      <th>avg_complete_ratio</th>\n",
       "      <th>ratio_1_over_23</th>\n",
       "      <th>ratio_3_over_23</th>\n",
       "      <th>ratio_7_over_23</th>\n",
       "      <th>...</th>\n",
       "      <th>ratio_1_over_7</th>\n",
       "      <th>ratio_3_over_7</th>\n",
       "      <th>ratio_1_over_3</th>\n",
       "      <th>active_days</th>\n",
       "      <th>days_since_last_play</th>\n",
       "      <th>label</th>\n",
       "      <th>no_play_1</th>\n",
       "      <th>no_play_3</th>\n",
       "      <th>no_play_7</th>\n",
       "      <th>no_play_14</th>\n",
       "    </tr>\n",
       "    <tr>\n",
       "      <th>uid</th>\n",
       "      <th></th>\n",
       "      <th></th>\n",
       "      <th></th>\n",
       "      <th></th>\n",
       "      <th></th>\n",
       "      <th></th>\n",
       "      <th></th>\n",
       "      <th></th>\n",
       "      <th></th>\n",
       "      <th></th>\n",
       "      <th></th>\n",
       "      <th></th>\n",
       "      <th></th>\n",
       "      <th></th>\n",
       "      <th></th>\n",
       "      <th></th>\n",
       "      <th></th>\n",
       "      <th></th>\n",
       "      <th></th>\n",
       "      <th></th>\n",
       "      <th></th>\n",
       "    </tr>\n",
       "  </thead>\n",
       "  <tbody>\n",
       "    <tr>\n",
       "      <th>533817</th>\n",
       "      <td>1.557662e+07</td>\n",
       "      <td>0.191024</td>\n",
       "      <td>11355.430927</td>\n",
       "      <td>262.0</td>\n",
       "      <td>23236.0</td>\n",
       "      <td>82304.0</td>\n",
       "      <td>0.889454</td>\n",
       "      <td>0.037301</td>\n",
       "      <td>0.129155</td>\n",
       "      <td>0.317579</td>\n",
       "      <td>...</td>\n",
       "      <td>0.117454</td>\n",
       "      <td>0.406688</td>\n",
       "      <td>0.288805</td>\n",
       "      <td>23</td>\n",
       "      <td>1</td>\n",
       "      <td>0</td>\n",
       "      <td>0</td>\n",
       "      <td>0</td>\n",
       "      <td>0</td>\n",
       "      <td>0</td>\n",
       "    </tr>\n",
       "    <tr>\n",
       "      <th>751824</th>\n",
       "      <td>3.848332e+07</td>\n",
       "      <td>0.173797</td>\n",
       "      <td>323888.268341</td>\n",
       "      <td>422.0</td>\n",
       "      <td>1866.0</td>\n",
       "      <td>7129.0</td>\n",
       "      <td>0.933828</td>\n",
       "      <td>0.000000</td>\n",
       "      <td>0.000000</td>\n",
       "      <td>0.237340</td>\n",
       "      <td>...</td>\n",
       "      <td>0.000000</td>\n",
       "      <td>0.000000</td>\n",
       "      <td>0.000000</td>\n",
       "      <td>4</td>\n",
       "      <td>4</td>\n",
       "      <td>0</td>\n",
       "      <td>1</td>\n",
       "      <td>1</td>\n",
       "      <td>0</td>\n",
       "      <td>0</td>\n",
       "    </tr>\n",
       "    <tr>\n",
       "      <th>924065</th>\n",
       "      <td>5.289638e+06</td>\n",
       "      <td>0.136762</td>\n",
       "      <td>10662.084456</td>\n",
       "      <td>8.0</td>\n",
       "      <td>8691.0</td>\n",
       "      <td>29767.0</td>\n",
       "      <td>0.326098</td>\n",
       "      <td>0.017536</td>\n",
       "      <td>0.026607</td>\n",
       "      <td>0.075789</td>\n",
       "      <td>...</td>\n",
       "      <td>0.231383</td>\n",
       "      <td>0.351064</td>\n",
       "      <td>0.659091</td>\n",
       "      <td>23</td>\n",
       "      <td>1</td>\n",
       "      <td>0</td>\n",
       "      <td>0</td>\n",
       "      <td>0</td>\n",
       "      <td>0</td>\n",
       "      <td>0</td>\n",
       "    </tr>\n",
       "    <tr>\n",
       "      <th>1342999</th>\n",
       "      <td>6.639750e+03</td>\n",
       "      <td>0.222527</td>\n",
       "      <td>99.496753</td>\n",
       "      <td>2.0</td>\n",
       "      <td>1479.0</td>\n",
       "      <td>4004.0</td>\n",
       "      <td>0.475512</td>\n",
       "      <td>0.137862</td>\n",
       "      <td>0.186314</td>\n",
       "      <td>0.329171</td>\n",
       "      <td>...</td>\n",
       "      <td>0.418816</td>\n",
       "      <td>0.566009</td>\n",
       "      <td>0.739946</td>\n",
       "      <td>20</td>\n",
       "      <td>1</td>\n",
       "      <td>0</td>\n",
       "      <td>0</td>\n",
       "      <td>0</td>\n",
       "      <td>0</td>\n",
       "      <td>0</td>\n",
       "    </tr>\n",
       "    <tr>\n",
       "      <th>1620163</th>\n",
       "      <td>4.837500e+02</td>\n",
       "      <td>0.097222</td>\n",
       "      <td>80.625000</td>\n",
       "      <td>2.0</td>\n",
       "      <td>51.0</td>\n",
       "      <td>360.0</td>\n",
       "      <td>0.409716</td>\n",
       "      <td>0.000000</td>\n",
       "      <td>0.000000</td>\n",
       "      <td>0.172222</td>\n",
       "      <td>...</td>\n",
       "      <td>0.000000</td>\n",
       "      <td>0.000000</td>\n",
       "      <td>0.000000</td>\n",
       "      <td>5</td>\n",
       "      <td>7</td>\n",
       "      <td>0</td>\n",
       "      <td>1</td>\n",
       "      <td>1</td>\n",
       "      <td>0</td>\n",
       "      <td>0</td>\n",
       "    </tr>\n",
       "  </tbody>\n",
       "</table>\n",
       "<p>5 rows × 24 columns</p>\n",
       "</div>"
      ],
      "text/plain": [
       "         total_play_time  popular_songs_ratio  avg_play_time  \\\n",
       "uid                                                            \n",
       "533817      1.557662e+07             0.191024   11355.430927   \n",
       "751824      3.848332e+07             0.173797  323888.268341   \n",
       "924065      5.289638e+06             0.136762   10662.084456   \n",
       "1342999     6.639750e+03             0.222527      99.496753   \n",
       "1620163     4.837500e+02             0.097222      80.625000   \n",
       "\n",
       "         least_popular_count  most_popular_count  count_play_23  \\\n",
       "uid                                                               \n",
       "533817                 262.0             23236.0        82304.0   \n",
       "751824                 422.0              1866.0         7129.0   \n",
       "924065                   8.0              8691.0        29767.0   \n",
       "1342999                  2.0              1479.0         4004.0   \n",
       "1620163                  2.0                51.0          360.0   \n",
       "\n",
       "         avg_complete_ratio  ratio_1_over_23  ratio_3_over_23  \\\n",
       "uid                                                             \n",
       "533817             0.889454         0.037301         0.129155   \n",
       "751824             0.933828         0.000000         0.000000   \n",
       "924065             0.326098         0.017536         0.026607   \n",
       "1342999            0.475512         0.137862         0.186314   \n",
       "1620163            0.409716         0.000000         0.000000   \n",
       "\n",
       "         ratio_7_over_23     ...      ratio_1_over_7  ratio_3_over_7  \\\n",
       "uid                          ...                                       \n",
       "533817          0.317579     ...            0.117454        0.406688   \n",
       "751824          0.237340     ...            0.000000        0.000000   \n",
       "924065          0.075789     ...            0.231383        0.351064   \n",
       "1342999         0.329171     ...            0.418816        0.566009   \n",
       "1620163         0.172222     ...            0.000000        0.000000   \n",
       "\n",
       "         ratio_1_over_3  active_days  days_since_last_play  label  no_play_1  \\\n",
       "uid                                                                            \n",
       "533817         0.288805           23                     1      0          0   \n",
       "751824         0.000000            4                     4      0          1   \n",
       "924065         0.659091           23                     1      0          0   \n",
       "1342999        0.739946           20                     1      0          0   \n",
       "1620163        0.000000            5                     7      0          1   \n",
       "\n",
       "         no_play_3  no_play_7  no_play_14  \n",
       "uid                                        \n",
       "533817           0          0           0  \n",
       "751824           1          0           0  \n",
       "924065           0          0           0  \n",
       "1342999          0          0           0  \n",
       "1620163          1          0           0  \n",
       "\n",
       "[5 rows x 24 columns]"
      ]
     },
     "execution_count": 458,
     "metadata": {},
     "output_type": "execute_result"
    }
   ],
   "source": [
    "df_selected_features.head()"
   ]
  },
  {
   "cell_type": "code",
   "execution_count": 459,
   "metadata": {},
   "outputs": [
    {
     "data": {
      "text/plain": [
       "(25389, 24)"
      ]
     },
     "execution_count": 459,
     "metadata": {},
     "output_type": "execute_result"
    }
   ],
   "source": [
    "df_selected_features.shape"
   ]
  },
  {
   "cell_type": "code",
   "execution_count": 460,
   "metadata": {},
   "outputs": [],
   "source": [
    "df_selected_features = df_selected_features.drop(df_selected_features.loc[df_selected_features.count_play_23>5000].index,axis =0)"
   ]
  },
  {
   "cell_type": "code",
   "execution_count": 461,
   "metadata": {},
   "outputs": [
    {
     "data": {
      "text/plain": [
       "(25377, 24)"
      ]
     },
     "execution_count": 461,
     "metadata": {},
     "output_type": "execute_result"
    }
   ],
   "source": [
    "df_selected_features.shape"
   ]
  },
  {
   "cell_type": "code",
   "execution_count": 462,
   "metadata": {
    "collapsed": true
   },
   "outputs": [],
   "source": [
    "y = df_selected_features.label.values"
   ]
  },
  {
   "cell_type": "code",
   "execution_count": 463,
   "metadata": {
    "collapsed": true
   },
   "outputs": [],
   "source": [
    "df_selected_features = df_selected_features.drop('label',axis = 1)\n",
    "X = df_selected_features.values"
   ]
  },
  {
   "cell_type": "code",
   "execution_count": 464,
   "metadata": {},
   "outputs": [
    {
     "data": {
      "text/plain": [
       "(0.7897877610763947, 0.76608878381928025)"
      ]
     },
     "execution_count": 464,
     "metadata": {},
     "output_type": "execute_result"
    }
   ],
   "source": [
    "X_train, X_test, y_train, y_test = train_test_split(X, y, test_size=0.3, random_state=42)\n",
    "model_rfc.fit(X_train,y_train)\n",
    "model_rfc.score(X_train, y_train),model_rfc.score(X_test, y_test)"
   ]
  },
  {
   "cell_type": "code",
   "execution_count": 465,
   "metadata": {
    "collapsed": true
   },
   "outputs": [],
   "source": [
    "importance_coeff = model_rfc.feature_importances_"
   ]
  },
  {
   "cell_type": "code",
   "execution_count": 466,
   "metadata": {},
   "outputs": [],
   "source": [
    "columns = list(df_selected_features.columns)"
   ]
  },
  {
   "cell_type": "code",
   "execution_count": 467,
   "metadata": {},
   "outputs": [
    {
     "data": {
      "text/html": [
       "<div>\n",
       "<style>\n",
       "    .dataframe thead tr:only-child th {\n",
       "        text-align: right;\n",
       "    }\n",
       "\n",
       "    .dataframe thead th {\n",
       "        text-align: left;\n",
       "    }\n",
       "\n",
       "    .dataframe tbody tr th {\n",
       "        vertical-align: top;\n",
       "    }\n",
       "</style>\n",
       "<table border=\"1\" class=\"dataframe\">\n",
       "  <thead>\n",
       "    <tr style=\"text-align: right;\">\n",
       "      <th></th>\n",
       "      <th>feature</th>\n",
       "      <th>coeff</th>\n",
       "    </tr>\n",
       "  </thead>\n",
       "  <tbody>\n",
       "    <tr>\n",
       "      <th>18</th>\n",
       "      <td>days_since_last_play</td>\n",
       "      <td>0.124304</td>\n",
       "    </tr>\n",
       "    <tr>\n",
       "      <th>12</th>\n",
       "      <td>ratio_3_over_14</td>\n",
       "      <td>0.084583</td>\n",
       "    </tr>\n",
       "    <tr>\n",
       "      <th>17</th>\n",
       "      <td>active_days</td>\n",
       "      <td>0.072665</td>\n",
       "    </tr>\n",
       "    <tr>\n",
       "      <th>8</th>\n",
       "      <td>ratio_3_over_23</td>\n",
       "      <td>0.072591</td>\n",
       "    </tr>\n",
       "    <tr>\n",
       "      <th>15</th>\n",
       "      <td>ratio_3_over_7</td>\n",
       "      <td>0.068730</td>\n",
       "    </tr>\n",
       "    <tr>\n",
       "      <th>13</th>\n",
       "      <td>ratio_7_over_14</td>\n",
       "      <td>0.062890</td>\n",
       "    </tr>\n",
       "    <tr>\n",
       "      <th>20</th>\n",
       "      <td>no_play_3</td>\n",
       "      <td>0.062351</td>\n",
       "    </tr>\n",
       "    <tr>\n",
       "      <th>9</th>\n",
       "      <td>ratio_7_over_23</td>\n",
       "      <td>0.059192</td>\n",
       "    </tr>\n",
       "    <tr>\n",
       "      <th>5</th>\n",
       "      <td>count_play_23</td>\n",
       "      <td>0.052409</td>\n",
       "    </tr>\n",
       "    <tr>\n",
       "      <th>21</th>\n",
       "      <td>no_play_7</td>\n",
       "      <td>0.047804</td>\n",
       "    </tr>\n",
       "    <tr>\n",
       "      <th>0</th>\n",
       "      <td>total_play_time</td>\n",
       "      <td>0.043659</td>\n",
       "    </tr>\n",
       "    <tr>\n",
       "      <th>10</th>\n",
       "      <td>ratio_14_over_23</td>\n",
       "      <td>0.030905</td>\n",
       "    </tr>\n",
       "    <tr>\n",
       "      <th>14</th>\n",
       "      <td>ratio_1_over_7</td>\n",
       "      <td>0.027158</td>\n",
       "    </tr>\n",
       "    <tr>\n",
       "      <th>16</th>\n",
       "      <td>ratio_1_over_3</td>\n",
       "      <td>0.026509</td>\n",
       "    </tr>\n",
       "    <tr>\n",
       "      <th>4</th>\n",
       "      <td>most_popular_count</td>\n",
       "      <td>0.025550</td>\n",
       "    </tr>\n",
       "    <tr>\n",
       "      <th>7</th>\n",
       "      <td>ratio_1_over_23</td>\n",
       "      <td>0.023895</td>\n",
       "    </tr>\n",
       "    <tr>\n",
       "      <th>11</th>\n",
       "      <td>ratio_1_over_14</td>\n",
       "      <td>0.022603</td>\n",
       "    </tr>\n",
       "    <tr>\n",
       "      <th>1</th>\n",
       "      <td>popular_songs_ratio</td>\n",
       "      <td>0.022413</td>\n",
       "    </tr>\n",
       "    <tr>\n",
       "      <th>2</th>\n",
       "      <td>avg_play_time</td>\n",
       "      <td>0.021894</td>\n",
       "    </tr>\n",
       "    <tr>\n",
       "      <th>6</th>\n",
       "      <td>avg_complete_ratio</td>\n",
       "      <td>0.019084</td>\n",
       "    </tr>\n",
       "    <tr>\n",
       "      <th>22</th>\n",
       "      <td>no_play_14</td>\n",
       "      <td>0.011248</td>\n",
       "    </tr>\n",
       "    <tr>\n",
       "      <th>19</th>\n",
       "      <td>no_play_1</td>\n",
       "      <td>0.008961</td>\n",
       "    </tr>\n",
       "    <tr>\n",
       "      <th>3</th>\n",
       "      <td>least_popular_count</td>\n",
       "      <td>0.008603</td>\n",
       "    </tr>\n",
       "  </tbody>\n",
       "</table>\n",
       "</div>"
      ],
      "text/plain": [
       "                 feature     coeff\n",
       "18  days_since_last_play  0.124304\n",
       "12       ratio_3_over_14  0.084583\n",
       "17           active_days  0.072665\n",
       "8        ratio_3_over_23  0.072591\n",
       "15        ratio_3_over_7  0.068730\n",
       "13       ratio_7_over_14  0.062890\n",
       "20             no_play_3  0.062351\n",
       "9        ratio_7_over_23  0.059192\n",
       "5          count_play_23  0.052409\n",
       "21             no_play_7  0.047804\n",
       "0        total_play_time  0.043659\n",
       "10      ratio_14_over_23  0.030905\n",
       "14        ratio_1_over_7  0.027158\n",
       "16        ratio_1_over_3  0.026509\n",
       "4     most_popular_count  0.025550\n",
       "7        ratio_1_over_23  0.023895\n",
       "11       ratio_1_over_14  0.022603\n",
       "1    popular_songs_ratio  0.022413\n",
       "2          avg_play_time  0.021894\n",
       "6     avg_complete_ratio  0.019084\n",
       "22            no_play_14  0.011248\n",
       "19             no_play_1  0.008961\n",
       "3    least_popular_count  0.008603"
      ]
     },
     "execution_count": 467,
     "metadata": {},
     "output_type": "execute_result"
    }
   ],
   "source": [
    "df_coeffs = pd.DataFrame(list(zip(columns, importance_coeff))).sort_values(by=[1], ascending=True)\n",
    "df_coeffs.columns = ['feature', 'coeff']\n",
    "df_coeffs.iloc[::-1,:]"
   ]
  },
  {
   "cell_type": "code",
   "execution_count": 468,
   "metadata": {},
   "outputs": [
    {
     "data": {
      "image/png": "[encoded data removed]",
      "text/plain": [
       "<matplotlib.figure.Figure at 0x4fe3f518>"
      ]
     },
     "metadata": {},
     "output_type": "display_data"
    }
   ],
   "source": [
    "ax = df_coeffs.plot.barh()\n",
    "t = np.arange(X.shape[1])\n",
    "ax.set_yticks(t)\n",
    "ax.set_yticklabels(df_coeffs['feature'])\n",
    "plt.rcParams[\"figure.figsize\"] = (8,10)\n",
    "plt.show()"
   ]
  },
  {
   "cell_type": "code",
   "execution_count": 469,
   "metadata": {},
   "outputs": [
    {
     "data": {
      "text/plain": [
       "(25377, 23)"
      ]
     },
     "execution_count": 469,
     "metadata": {},
     "output_type": "execute_result"
    }
   ],
   "source": [
    "df_selected_features.shape"
   ]
  },
  {
   "cell_type": "code",
   "execution_count": 470,
   "metadata": {},
   "outputs": [
    {
     "data": {
      "text/plain": [
       "(25377, 24)"
      ]
     },
     "execution_count": 470,
     "metadata": {},
     "output_type": "execute_result"
    }
   ],
   "source": [
    "df_selected_features['label'] = y\n",
    "df_selected_features.shape"
   ]
  },
  {
   "cell_type": "code",
   "execution_count": 471,
   "metadata": {
    "collapsed": true
   },
   "outputs": [],
   "source": [
    "filename_pickle = 'C:\\\\Users\\\\Sean\\\\Documents\\\\BitTiger\\\\Capston_music_player_python\\\\features_after_RandForest.pkl'\n",
    "df_selected_features.to_pickle(filename_pickle)"
   ]
  },
  {
   "cell_type": "code",
   "execution_count": null,
   "metadata": {
    "collapsed": true
   },
   "outputs": [],
   "source": []
  },
  {
   "cell_type": "code",
   "execution_count": 472,
   "metadata": {},
   "outputs": [
    {
     "data": {
      "text/plain": [
       "0.5939534620392912"
      ]
     },
     "execution_count": 472,
     "metadata": {},
     "output_type": "execute_result"
    }
   ],
   "source": [
    "df_selected_features.loc[df_selected_features.ratio_3_over_7 < 3.0/7,'label'].mean()"
   ]
  },
  {
   "cell_type": "code",
   "execution_count": 473,
   "metadata": {},
   "outputs": [
    {
     "data": {
      "text/plain": [
       "0.6960239587027623"
      ]
     },
     "execution_count": 473,
     "metadata": {},
     "output_type": "execute_result"
    }
   ],
   "source": [
    "df_selected_features.loc[df_selected_features.ratio_3_over_7 < 3.0/7,'label'].shape[0]/\\\n",
    "    float(df_selected_features.shape[0])"
   ]
  },
  {
   "cell_type": "code",
   "execution_count": null,
   "metadata": {
    "collapsed": true
   },
   "outputs": [],
   "source": []
  },
  {
   "cell_type": "code",
   "execution_count": null,
   "metadata": {
    "collapsed": true
   },
   "outputs": [],
   "source": []
  },
  {
   "cell_type": "code",
   "execution_count": null,
   "metadata": {
    "collapsed": true
   },
   "outputs": [],
   "source": []
  },
  {
   "cell_type": "code",
   "execution_count": 386,
   "metadata": {
    "collapsed": true
   },
   "outputs": [],
   "source": [
    "from sklearn.metrics import confusion_matrix\n",
    "\n",
    "def standard_confusion_matrix(y_true, y_predict):\n",
    "    \"\"\"Given y and predicted y, generate standard orientation\n",
    "    \n",
    "    Args:\n",
    "    =====\n",
    "    numpy array: y_true - array of true label\n",
    "    numpy array: y_predict - array of predicted label\n",
    "    \n",
    "    Return:\n",
    "    ======:\n",
    "    numpy array: confusion matrix, 2x2 numpy array\n",
    "    \"\"\"\n",
    "    [[tn, fp], [fn, tp]] = confusion_matrix(y_true, y_predict)\n",
    "    return np.array([[tp, fp], [fn, tn]])\n",
    "\n",
    "\n",
    "def profit_curve(cost_benefit_matrix, probabilities, y_true):\n",
    "    \"\"\"Given cost-benefit matrix, predicted probability, \n",
    "    and true label, calculate expected profit associated with \n",
    "    each threshold.\n",
    "    \n",
    "    Args:\n",
    "    =====\n",
    "    numpy array: cost_benefit_matrix, 2x2 array\n",
    "    numpy array: probabilities - array of predicted probabilities\n",
    "    numpy array: y_true - array of true label\n",
    "    \n",
    "    Return:\n",
    "    ======:\n",
    "    numpy array: threshold\n",
    "    numpy array: profit\n",
    "    \"\"\"\n",
    "    thresholds = sorted(probabilities, reverse=True)\n",
    "    profits = []\n",
    "    for threshold in thresholds:\n",
    "        #print 'checking %dth threshold...' % i\n",
    "        y_predict = probabilities > threshold\n",
    "        confusion_mat = standard_confusion_matrix(y_true, y_predict)\n",
    "        profit = np.sum(confusion_mat * cost_benefit_matrix) / float(len(y_true))\n",
    "        profits.append(profit)\n",
    "    return thresholds, profits\n",
    "\n",
    "\n",
    "def plot_profit_model(profits, label=\"Logistic Regression\"):\n",
    "    \"\"\"Plot profits against pertentage of test instance\n",
    "    \"\"\"\n",
    "    percentages = np.linspace(0, 100, len(profits))\n",
    "    plt.plot(percentages, profits, label=label)\n",
    "    plt.title(\"Profit Curve\")\n",
    "    plt.xlabel(\"Percentage of test instances (decreasing by score)\")\n",
    "    plt.ylabel(\"Profit\")\n",
    "    plt.legend(loc='best')\n",
    "    plt.savefig('profit_curve.png')\n",
    "    plt.show()\n",
    "    \n",
    "def find_best_threshold(thresholds, profits):\n",
    "    \"\"\"Find the best threshold that gives max profit\n",
    "    \n",
    "    Args:\n",
    "    =====\n",
    "    numpy array: thresholds - array of sorted threshold\n",
    "    numpy array: profits - array of profits\n",
    "    \n",
    "    Return:\n",
    "    ======:\n",
    "    float: threshold that corresponds to max profit\n",
    "    float: max profit\n",
    "    \"\"\"\n",
    "    return thresholds[np.argmax(profits)],np.max(profits)"
   ]
  },
  {
   "cell_type": "code",
   "execution_count": 373,
   "metadata": {},
   "outputs": [
    {
     "data": {
      "text/plain": [
       "array([[ 10, -10],\n",
       "       [ -5,   0]])"
      ]
     },
     "execution_count": 373,
     "metadata": {},
     "output_type": "execute_result"
    }
   ],
   "source": [
    "costbenefit =  np.array([[10,-10],[-5,0]])\n",
    "costbenefit"
   ]
  },
  {
   "cell_type": "code",
   "execution_count": 374,
   "metadata": {},
   "outputs": [
    {
     "data": {
      "text/plain": [
       "(7617L, 29L)"
      ]
     },
     "execution_count": 374,
     "metadata": {},
     "output_type": "execute_result"
    }
   ],
   "source": [
    "X_test.shape"
   ]
  },
  {
   "cell_type": "code",
   "execution_count": 375,
   "metadata": {},
   "outputs": [
    {
     "data": {
      "text/plain": [
       "(7617L,)"
      ]
     },
     "execution_count": 375,
     "metadata": {},
     "output_type": "execute_result"
    }
   ],
   "source": [
    "# Make prediction on the probabilities\n",
    "probabilities = model_rfc.predict_proba(X_test)[:, 1]\n",
    "probabilities.shape"
   ]
  },
  {
   "cell_type": "code",
   "execution_count": 376,
   "metadata": {},
   "outputs": [
    {
     "data": {
      "text/plain": [
       "(array([ 0.9708733 ,  0.51317326,  0.73277601,  0.94402161,  0.86340074,\n",
       "         0.74959648,  0.51456927,  0.16509723,  0.05666138,  0.82583703]),\n",
       " array([1, 1, 0, 1, 0, 0, 0, 0, 0, 1]))"
      ]
     },
     "execution_count": 376,
     "metadata": {},
     "output_type": "execute_result"
    }
   ],
   "source": [
    "probabilities[:10],y_test[:10]"
   ]
  },
  {
   "cell_type": "code",
   "execution_count": 377,
   "metadata": {},
   "outputs": [
    {
     "data": {
      "text/plain": [
       "array([[2903,  911],\n",
       "       [ 924, 2879]])"
      ]
     },
     "execution_count": 377,
     "metadata": {},
     "output_type": "execute_result"
    }
   ],
   "source": [
    "standard_confusion_matrix(y_test, probabilities>0.5)"
   ]
  },
  {
   "cell_type": "code",
   "execution_count": 378,
   "metadata": {},
   "outputs": [],
   "source": [
    "# Calculate expected profits corresponding to different threshold\n",
    "thresholds, profits = profit_curve(costbenefit, probabilities, y_test)"
   ]
  },
  {
   "cell_type": "code",
   "execution_count": 384,
   "metadata": {},
   "outputs": [
    {
     "data": {
      "image/png": "[encoded data removed]",
      "text/plain": [
       "<matplotlib.figure.Figure at 0x28fc8eb8>"
      ]
     },
     "metadata": {},
     "output_type": "display_data"
    }
   ],
   "source": [
    "# Plot!\n",
    "plt.rcParams[\"figure.figsize\"] = (8,6)\n",
    "plot_profit_model(profits, label=\"Random Forest Classier\")"
   ]
  },
  {
   "cell_type": "code",
   "execution_count": 380,
   "metadata": {},
   "outputs": [
    {
     "name": "stdout",
     "output_type": "stream",
     "text": [
      "The best threshold is 0.380075650758, which gives a max profit of 2.17342785874\n"
     ]
    }
   ],
   "source": [
    "best_threshold, max_profit = find_best_threshold(thresholds, profits)\n",
    "print(\"The best threshold is {}, which gives a max profit of {}\".format(best_threshold, max_profit))"
   ]
  },
  {
   "cell_type": "code",
   "execution_count": 381,
   "metadata": {},
   "outputs": [
    {
     "data": {
      "text/plain": [
       "array([[3270, 1336],\n",
       "       [ 557, 2454]])"
      ]
     },
     "execution_count": 381,
     "metadata": {},
     "output_type": "execute_result"
    }
   ],
   "source": [
    "y_predict = [int(x) for x in (probabilities > best_threshold)]\n",
    "standard_confusion_matrix(y_test, y_predict)"
   ]
  },
  {
   "cell_type": "code",
   "execution_count": 382,
   "metadata": {
    "collapsed": true
   },
   "outputs": [],
   "source": [
    "from sklearn.metrics import precision_score, accuracy_score, recall_score, f1_score\n",
    "def print_results(y_true, y_pred):\n",
    "    print(\"Accuracy: {}\".format(accuracy_score(y_true, y_pred)))\n",
    "    print(\"Precision: {}\".format(precision_score(y_true, y_pred)))\n",
    "    print(\"Recall: {}\".format(recall_score(y_true, y_pred)))\n",
    "    print(\"f1-score: {}\".format(f1_score(y_true, y_pred)))"
   ]
  },
  {
   "cell_type": "code",
   "execution_count": 383,
   "metadata": {},
   "outputs": [
    {
     "name": "stdout",
     "output_type": "stream",
     "text": [
      "Accuracy: 0.751476959433\n",
      "Precision: 0.709943551889\n",
      "Recall: 0.85445518683\n",
      "f1-score: 0.775524724297\n"
     ]
    }
   ],
   "source": [
    "print_results(y_test, probabilities > best_threshold)"
   ]
  },
  {
   "cell_type": "code",
   "execution_count": null,
   "metadata": {
    "collapsed": true
   },
   "outputs": [],
   "source": []
  },
  {
   "cell_type": "code",
   "execution_count": null,
   "metadata": {
    "collapsed": true
   },
   "outputs": [],
   "source": []
  },
  {
   "cell_type": "code",
   "execution_count": null,
   "metadata": {
    "collapsed": true
   },
   "outputs": [],
   "source": []
  },
  {
   "cell_type": "code",
   "execution_count": null,
   "metadata": {
    "collapsed": true
   },
   "outputs": [],
   "source": []
  },
  {
   "cell_type": "code",
   "execution_count": 311,
   "metadata": {},
   "outputs": [
    {
     "data": {
      "text/plain": [
       "DecisionTreeClassifier(class_weight=None, criterion='entropy', max_depth=10,\n",
       "            max_features='auto', max_leaf_nodes=None,\n",
       "            min_impurity_split=0.1, min_samples_leaf=20,\n",
       "            min_samples_split=50, min_weight_fraction_leaf=0.0,\n",
       "            presort=False, random_state=1733803899, splitter='best')"
      ]
     },
     "execution_count": 311,
     "metadata": {},
     "output_type": "execute_result"
    }
   ],
   "source": [
    "one_tree = model_rfc.estimators_[199]\n",
    "one_tree"
   ]
  },
  {
   "cell_type": "code",
   "execution_count": null,
   "metadata": {
    "collapsed": true
   },
   "outputs": [],
   "source": [
    "'''==visualize tree\n",
    "from sklearn import tree\n",
    "from IPython.display import Image\n",
    "import pydotplus\n",
    "\n",
    "dot_data = tree.export_graphviz(one_tree, out_file=None) \n",
    "graph = pydotplus.graph_from_dot_data(dot_data)\n",
    "Image(graph.create_png())\n",
    "'''"
   ]
  },
  {
   "cell_type": "code",
   "execution_count": 119,
   "metadata": {},
   "outputs": [
    {
     "data": {
      "text/plain": [
       "1437L"
      ]
     },
     "execution_count": 119,
     "metadata": {},
     "output_type": "execute_result"
    }
   ],
   "source": [
    "one_tree.tree_.node_count"
   ]
  },
  {
   "cell_type": "code",
   "execution_count": 256,
   "metadata": {},
   "outputs": [
    {
     "data": {
      "text/plain": [
       "0.72482604700013131"
      ]
     },
     "execution_count": 256,
     "metadata": {},
     "output_type": "execute_result"
    }
   ],
   "source": [
    "one_tree.score(X_test, y_test)"
   ]
  },
  {
   "cell_type": "code",
   "execution_count": null,
   "metadata": {
    "collapsed": true
   },
   "outputs": [],
   "source": []
  },
  {
   "cell_type": "code",
   "execution_count": null,
   "metadata": {
    "collapsed": true
   },
   "outputs": [],
   "source": []
  },
  {
   "cell_type": "code",
   "execution_count": 66,
   "metadata": {},
   "outputs": [
    {
     "data": {
      "text/plain": [
       "Index([u'days_since_last_play', u'ratio_3_over_23', u'ratio_7_over_23',\n",
       "       u'ratio_1_over_23', u'active_days', u'ratio_14_over_23',\n",
       "       u'total_play_time', u'count_play_23', u'most_popular_count',\n",
       "       u'popular_songs_ratio', u'avg_play_time', u'avg_complete_ratio',\n",
       "       u'least_popular_count', u'device_ip', u'device_ar',\n",
       "       u'major_song_type_1', u'major_song_type_0', u'major_song_type_2',\n",
       "       u'major_song_type_3'],\n",
       "      dtype='object')"
      ]
     },
     "execution_count": 66,
     "metadata": {},
     "output_type": "execute_result"
    }
   ],
   "source": [
    "df_dummies.columns[np.argsort(importance_coeff)][::-1]"
   ]
  },
  {
   "cell_type": "code",
   "execution_count": 97,
   "metadata": {},
   "outputs": [
    {
     "data": {
      "text/plain": [
       "DecisionTreeClassifier(class_weight=None, criterion='entropy', max_depth=None,\n",
       "            max_features='auto', max_leaf_nodes=None,\n",
       "            min_impurity_split=0.01, min_samples_leaf=10,\n",
       "            min_samples_split=2, min_weight_fraction_leaf=0.0,\n",
       "            presort=False, random_state=1700472314, splitter='best')"
      ]
     },
     "execution_count": 97,
     "metadata": {},
     "output_type": "execute_result"
    }
   ],
   "source": [
    "tree = model_rfc.estimators_[0]\n",
    "tree"
   ]
  },
  {
   "cell_type": "code",
   "execution_count": null,
   "metadata": {
    "collapsed": true
   },
   "outputs": [],
   "source": []
  },
  {
   "cell_type": "code",
   "execution_count": null,
   "metadata": {
    "collapsed": true
   },
   "outputs": [],
   "source": []
  },
  {
   "cell_type": "code",
   "execution_count": null,
   "metadata": {
    "collapsed": true
   },
   "outputs": [],
   "source": []
  },
  {
   "cell_type": "code",
   "execution_count": null,
   "metadata": {
    "collapsed": true
   },
   "outputs": [],
   "source": []
  },
  {
   "cell_type": "code",
   "execution_count": null,
   "metadata": {
    "collapsed": true
   },
   "outputs": [],
   "source": []
  },
  {
   "cell_type": "code",
   "execution_count": null,
   "metadata": {
    "collapsed": true
   },
   "outputs": [],
   "source": []
  },
  {
   "cell_type": "code",
   "execution_count": null,
   "metadata": {
    "collapsed": true
   },
   "outputs": [],
   "source": []
  },
  {
   "cell_type": "code",
   "execution_count": null,
   "metadata": {
    "collapsed": true
   },
   "outputs": [],
   "source": []
  }
 ],
 "metadata": {
  "kernelspec": {
   "display_name": "Python 2",
   "language": "python",
   "name": "python2"
  },
  "language_info": {
   "codemirror_mode": {
    "name": "ipython",
    "version": 2
   },
   "file_extension": ".py",
   "mimetype": "text/x-python",
   "name": "python",
   "nbconvert_exporter": "python",
   "pygments_lexer": "ipython2",
   "version": "2.7.13"
  }
 },
 "nbformat": 4,
 "nbformat_minor": 2
}
