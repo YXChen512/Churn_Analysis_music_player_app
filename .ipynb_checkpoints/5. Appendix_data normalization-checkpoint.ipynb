{
 "cells": [
  {
   "cell_type": "code",
   "execution_count": 1,
   "metadata": {
    "collapsed": true
   },
   "outputs": [],
   "source": [
    "import numpy as np\n",
    "import pandas as pd"
   ]
  },
  {
   "cell_type": "code",
   "execution_count": 4,
   "metadata": {
    "collapsed": true
   },
   "outputs": [],
   "source": [
    "import matplotlib.pyplot as plt\n",
    "% matplotlib inline\n",
    "plt.style.use('ggplot')"
   ]
  },
  {
   "cell_type": "code",
   "execution_count": 2,
   "metadata": {},
   "outputs": [
    {
     "data": {
      "text/html": [
       "<div>\n",
       "<style>\n",
       "    .dataframe thead tr:only-child th {\n",
       "        text-align: right;\n",
       "    }\n",
       "\n",
       "    .dataframe thead th {\n",
       "        text-align: left;\n",
       "    }\n",
       "\n",
       "    .dataframe tbody tr th {\n",
       "        vertical-align: top;\n",
       "    }\n",
       "</style>\n",
       "<table border=\"1\" class=\"dataframe\">\n",
       "  <thead>\n",
       "    <tr style=\"text-align: right;\">\n",
       "      <th></th>\n",
       "      <th>uid</th>\n",
       "      <th>device</th>\n",
       "      <th>major_song_type</th>\n",
       "      <th>total_play_time</th>\n",
       "      <th>popular_songs_ratio</th>\n",
       "      <th>avg_play_time</th>\n",
       "      <th>least_popular_count</th>\n",
       "      <th>most_popular_count</th>\n",
       "      <th>count_play_23</th>\n",
       "      <th>avg_complete_ratio</th>\n",
       "      <th>...</th>\n",
       "      <th>ratio_3_over_14</th>\n",
       "      <th>ratio_7_over_14</th>\n",
       "      <th>ratio_1_over_23</th>\n",
       "      <th>ratio_3_over_23</th>\n",
       "      <th>ratio_7_over_23</th>\n",
       "      <th>ratio_14_over_23</th>\n",
       "      <th>active_days</th>\n",
       "      <th>days_since_last_play</th>\n",
       "      <th>label</th>\n",
       "      <th>play_time_bins</th>\n",
       "    </tr>\n",
       "  </thead>\n",
       "  <tbody>\n",
       "    <tr>\n",
       "      <th>0</th>\n",
       "      <td>533817</td>\n",
       "      <td>ar</td>\n",
       "      <td>0</td>\n",
       "      <td>1.557662e+07</td>\n",
       "      <td>0.191024</td>\n",
       "      <td>11355.430927</td>\n",
       "      <td>262.0</td>\n",
       "      <td>23236.0</td>\n",
       "      <td>82304.0</td>\n",
       "      <td>0.889454</td>\n",
       "      <td>...</td>\n",
       "      <td>0.210679</td>\n",
       "      <td>0.518036</td>\n",
       "      <td>0.037301</td>\n",
       "      <td>0.129155</td>\n",
       "      <td>0.317579</td>\n",
       "      <td>0.613044</td>\n",
       "      <td>23</td>\n",
       "      <td>1</td>\n",
       "      <td>0</td>\n",
       "      <td>[2000,inf)</td>\n",
       "    </tr>\n",
       "    <tr>\n",
       "      <th>1</th>\n",
       "      <td>751824</td>\n",
       "      <td>ar</td>\n",
       "      <td>1</td>\n",
       "      <td>3.848332e+07</td>\n",
       "      <td>0.173797</td>\n",
       "      <td>323888.268341</td>\n",
       "      <td>422.0</td>\n",
       "      <td>1866.0</td>\n",
       "      <td>7129.0</td>\n",
       "      <td>0.933828</td>\n",
       "      <td>...</td>\n",
       "      <td>0.000000</td>\n",
       "      <td>0.237340</td>\n",
       "      <td>0.000000</td>\n",
       "      <td>0.000000</td>\n",
       "      <td>0.237340</td>\n",
       "      <td>1.000000</td>\n",
       "      <td>4</td>\n",
       "      <td>4</td>\n",
       "      <td>0</td>\n",
       "      <td>[2000,inf)</td>\n",
       "    </tr>\n",
       "    <tr>\n",
       "      <th>2</th>\n",
       "      <td>924065</td>\n",
       "      <td>ar</td>\n",
       "      <td>0</td>\n",
       "      <td>5.289638e+06</td>\n",
       "      <td>0.136762</td>\n",
       "      <td>10662.084456</td>\n",
       "      <td>8.0</td>\n",
       "      <td>8691.0</td>\n",
       "      <td>29767.0</td>\n",
       "      <td>0.326098</td>\n",
       "      <td>...</td>\n",
       "      <td>0.031905</td>\n",
       "      <td>0.090880</td>\n",
       "      <td>0.017536</td>\n",
       "      <td>0.026607</td>\n",
       "      <td>0.075789</td>\n",
       "      <td>0.833944</td>\n",
       "      <td>23</td>\n",
       "      <td>1</td>\n",
       "      <td>0</td>\n",
       "      <td>[2000,inf)</td>\n",
       "    </tr>\n",
       "    <tr>\n",
       "      <th>3</th>\n",
       "      <td>1342999</td>\n",
       "      <td>ar</td>\n",
       "      <td>0</td>\n",
       "      <td>6.639750e+03</td>\n",
       "      <td>0.222527</td>\n",
       "      <td>99.496753</td>\n",
       "      <td>2.0</td>\n",
       "      <td>1479.0</td>\n",
       "      <td>4004.0</td>\n",
       "      <td>0.475512</td>\n",
       "      <td>...</td>\n",
       "      <td>0.269023</td>\n",
       "      <td>0.475298</td>\n",
       "      <td>0.137862</td>\n",
       "      <td>0.186314</td>\n",
       "      <td>0.329171</td>\n",
       "      <td>0.692557</td>\n",
       "      <td>20</td>\n",
       "      <td>1</td>\n",
       "      <td>0</td>\n",
       "      <td>[2000,inf)</td>\n",
       "    </tr>\n",
       "    <tr>\n",
       "      <th>4</th>\n",
       "      <td>1620163</td>\n",
       "      <td>ar</td>\n",
       "      <td>1</td>\n",
       "      <td>4.837500e+02</td>\n",
       "      <td>0.097222</td>\n",
       "      <td>80.625000</td>\n",
       "      <td>2.0</td>\n",
       "      <td>51.0</td>\n",
       "      <td>360.0</td>\n",
       "      <td>0.409716</td>\n",
       "      <td>...</td>\n",
       "      <td>0.000000</td>\n",
       "      <td>0.400000</td>\n",
       "      <td>0.000000</td>\n",
       "      <td>0.000000</td>\n",
       "      <td>0.172222</td>\n",
       "      <td>0.430556</td>\n",
       "      <td>5</td>\n",
       "      <td>7</td>\n",
       "      <td>0</td>\n",
       "      <td>[200, 1000)</td>\n",
       "    </tr>\n",
       "  </tbody>\n",
       "</table>\n",
       "<p>5 rows × 24 columns</p>\n",
       "</div>"
      ],
      "text/plain": [
       "       uid device major_song_type  total_play_time  popular_songs_ratio  \\\n",
       "0   533817     ar               0     1.557662e+07             0.191024   \n",
       "1   751824     ar               1     3.848332e+07             0.173797   \n",
       "2   924065     ar               0     5.289638e+06             0.136762   \n",
       "3  1342999     ar               0     6.639750e+03             0.222527   \n",
       "4  1620163     ar               1     4.837500e+02             0.097222   \n",
       "\n",
       "   avg_play_time  least_popular_count  most_popular_count  count_play_23  \\\n",
       "0   11355.430927                262.0             23236.0        82304.0   \n",
       "1  323888.268341                422.0              1866.0         7129.0   \n",
       "2   10662.084456                  8.0              8691.0        29767.0   \n",
       "3      99.496753                  2.0              1479.0         4004.0   \n",
       "4      80.625000                  2.0                51.0          360.0   \n",
       "\n",
       "   avg_complete_ratio       ...        ratio_3_over_14  ratio_7_over_14  \\\n",
       "0            0.889454       ...               0.210679         0.518036   \n",
       "1            0.933828       ...               0.000000         0.237340   \n",
       "2            0.326098       ...               0.031905         0.090880   \n",
       "3            0.475512       ...               0.269023         0.475298   \n",
       "4            0.409716       ...               0.000000         0.400000   \n",
       "\n",
       "   ratio_1_over_23  ratio_3_over_23  ratio_7_over_23  ratio_14_over_23  \\\n",
       "0         0.037301         0.129155         0.317579          0.613044   \n",
       "1         0.000000         0.000000         0.237340          1.000000   \n",
       "2         0.017536         0.026607         0.075789          0.833944   \n",
       "3         0.137862         0.186314         0.329171          0.692557   \n",
       "4         0.000000         0.000000         0.172222          0.430556   \n",
       "\n",
       "   active_days  days_since_last_play  label  play_time_bins  \n",
       "0           23                     1      0      [2000,inf)  \n",
       "1            4                     4      0      [2000,inf)  \n",
       "2           23                     1      0      [2000,inf)  \n",
       "3           20                     1      0      [2000,inf)  \n",
       "4            5                     7      0     [200, 1000)  \n",
       "\n",
       "[5 rows x 24 columns]"
      ]
     },
     "execution_count": 2,
     "metadata": {},
     "output_type": "execute_result"
    }
   ],
   "source": [
    "feature_pickle = 'C:\\\\Users\\\\Sean\\\\Documents\\\\BitTiger\\\\Capston_music_player_python\\\\modified_features_and_label.pkl'\n",
    "df = pd.read_pickle(feature_pickle)\n",
    "df.head()"
   ]
  },
  {
   "cell_type": "code",
   "execution_count": 13,
   "metadata": {},
   "outputs": [
    {
     "data": {
      "text/plain": [
       "Index([u'uid', u'device', u'major_song_type', u'total_play_time',\n",
       "       u'popular_songs_ratio', u'avg_play_time', u'least_popular_count',\n",
       "       u'most_popular_count', u'count_play_23', u'avg_complete_ratio',\n",
       "       u'ratio_1_over_3', u'ratio_1_over_7', u'ratio_3_over_7',\n",
       "       u'ratio_1_over_14', u'ratio_3_over_14', u'ratio_7_over_14',\n",
       "       u'ratio_1_over_23', u'ratio_3_over_23', u'ratio_7_over_23',\n",
       "       u'ratio_14_over_23', u'active_days', u'days_since_last_play', u'label',\n",
       "       u'play_time_bins'],\n",
       "      dtype='object')"
      ]
     },
     "execution_count": 13,
     "metadata": {},
     "output_type": "execute_result"
    }
   ],
   "source": [
    "df.columns"
   ]
  },
  {
   "cell_type": "code",
   "execution_count": 16,
   "metadata": {},
   "outputs": [
    {
     "data": {
      "text/html": [
       "<div>\n",
       "<style>\n",
       "    .dataframe thead tr:only-child th {\n",
       "        text-align: right;\n",
       "    }\n",
       "\n",
       "    .dataframe thead th {\n",
       "        text-align: left;\n",
       "    }\n",
       "\n",
       "    .dataframe tbody tr th {\n",
       "        vertical-align: top;\n",
       "    }\n",
       "</style>\n",
       "<table border=\"1\" class=\"dataframe\">\n",
       "  <thead>\n",
       "    <tr style=\"text-align: right;\">\n",
       "      <th></th>\n",
       "      <th>total_play_time</th>\n",
       "      <th>popular_songs_ratio</th>\n",
       "      <th>avg_play_time</th>\n",
       "      <th>least_popular_count</th>\n",
       "      <th>most_popular_count</th>\n",
       "      <th>count_play_23</th>\n",
       "    </tr>\n",
       "  </thead>\n",
       "  <tbody>\n",
       "    <tr>\n",
       "      <th>count</th>\n",
       "      <td>2.538900e+04</td>\n",
       "      <td>25389.000000</td>\n",
       "      <td>2.538900e+04</td>\n",
       "      <td>25389.000000</td>\n",
       "      <td>25389.000000</td>\n",
       "      <td>25389.000000</td>\n",
       "    </tr>\n",
       "    <tr>\n",
       "      <th>mean</th>\n",
       "      <td>1.187713e+04</td>\n",
       "      <td>0.294788</td>\n",
       "      <td>3.367883e+03</td>\n",
       "      <td>5.253811</td>\n",
       "      <td>93.606680</td>\n",
       "      <td>254.372208</td>\n",
       "    </tr>\n",
       "    <tr>\n",
       "      <th>std</th>\n",
       "      <td>3.586473e+05</td>\n",
       "      <td>0.234241</td>\n",
       "      <td>2.968959e+04</td>\n",
       "      <td>20.184214</td>\n",
       "      <td>241.011158</td>\n",
       "      <td>694.607861</td>\n",
       "    </tr>\n",
       "    <tr>\n",
       "      <th>min</th>\n",
       "      <td>0.000000e+00</td>\n",
       "      <td>0.000000</td>\n",
       "      <td>0.000000e+00</td>\n",
       "      <td>0.000000</td>\n",
       "      <td>0.000000</td>\n",
       "      <td>1.000000</td>\n",
       "    </tr>\n",
       "    <tr>\n",
       "      <th>25%</th>\n",
       "      <td>1.184667e+02</td>\n",
       "      <td>0.108262</td>\n",
       "      <td>9.651786e+01</td>\n",
       "      <td>0.000000</td>\n",
       "      <td>17.000000</td>\n",
       "      <td>60.000000</td>\n",
       "    </tr>\n",
       "    <tr>\n",
       "      <th>50%</th>\n",
       "      <td>2.997667e+02</td>\n",
       "      <td>0.246637</td>\n",
       "      <td>1.450513e+02</td>\n",
       "      <td>1.000000</td>\n",
       "      <td>45.000000</td>\n",
       "      <td>134.000000</td>\n",
       "    </tr>\n",
       "    <tr>\n",
       "      <th>75%</th>\n",
       "      <td>7.198167e+02</td>\n",
       "      <td>0.429752</td>\n",
       "      <td>1.943693e+02</td>\n",
       "      <td>4.000000</td>\n",
       "      <td>107.000000</td>\n",
       "      <td>282.000000</td>\n",
       "    </tr>\n",
       "    <tr>\n",
       "      <th>max</th>\n",
       "      <td>3.848332e+07</td>\n",
       "      <td>1.000000</td>\n",
       "      <td>2.565816e+06</td>\n",
       "      <td>1407.000000</td>\n",
       "      <td>23236.000000</td>\n",
       "      <td>82304.000000</td>\n",
       "    </tr>\n",
       "  </tbody>\n",
       "</table>\n",
       "</div>"
      ],
      "text/plain": [
       "       total_play_time  popular_songs_ratio  avg_play_time  \\\n",
       "count     2.538900e+04         25389.000000   2.538900e+04   \n",
       "mean      1.187713e+04             0.294788   3.367883e+03   \n",
       "std       3.586473e+05             0.234241   2.968959e+04   \n",
       "min       0.000000e+00             0.000000   0.000000e+00   \n",
       "25%       1.184667e+02             0.108262   9.651786e+01   \n",
       "50%       2.997667e+02             0.246637   1.450513e+02   \n",
       "75%       7.198167e+02             0.429752   1.943693e+02   \n",
       "max       3.848332e+07             1.000000   2.565816e+06   \n",
       "\n",
       "       least_popular_count  most_popular_count  count_play_23  \n",
       "count         25389.000000        25389.000000   25389.000000  \n",
       "mean              5.253811           93.606680     254.372208  \n",
       "std              20.184214          241.011158     694.607861  \n",
       "min               0.000000            0.000000       1.000000  \n",
       "25%               0.000000           17.000000      60.000000  \n",
       "50%               1.000000           45.000000     134.000000  \n",
       "75%               4.000000          107.000000     282.000000  \n",
       "max            1407.000000        23236.000000   82304.000000  "
      ]
     },
     "execution_count": 16,
     "metadata": {},
     "output_type": "execute_result"
    }
   ],
   "source": [
    "df_to_normalize = df.loc[:,['total_play_time','popular_songs_ratio', 'avg_play_time', \\\n",
    "                            'least_popular_count','most_popular_count', 'count_play_23']]\n",
    "df_to_normalize.describe()"
   ]
  },
  {
   "cell_type": "code",
   "execution_count": 21,
   "metadata": {},
   "outputs": [
    {
     "data": {
      "text/plain": [
       "2.0"
      ]
     },
     "execution_count": 21,
     "metadata": {},
     "output_type": "execute_result"
    }
   ],
   "source": [
    "import math\n",
    "math.log(100,10)"
   ]
  },
  {
   "cell_type": "code",
   "execution_count": 42,
   "metadata": {},
   "outputs": [
    {
     "data": {
      "text/plain": [
       "<matplotlib.axes._subplots.AxesSubplot at 0x11c3f6d8>"
      ]
     },
     "execution_count": 42,
     "metadata": {},
     "output_type": "execute_result"
    },
    {
     "data": {
      "image/png": "[encoded data removed]",
      "text/plain": [
       "<matplotlib.figure.Figure at 0x10cef7f0>"
      ]
     },
     "metadata": {},
     "output_type": "display_data"
    }
   ],
   "source": [
    "df_to_normalize.least_popular_count.apply(lambda x : math.log(x+0.1,10)).plot.hist(bins = 100)"
   ]
  },
  {
   "cell_type": "code",
   "execution_count": 57,
   "metadata": {},
   "outputs": [
    {
     "data": {
      "text/html": [
       "<div>\n",
       "<style>\n",
       "    .dataframe thead tr:only-child th {\n",
       "        text-align: right;\n",
       "    }\n",
       "\n",
       "    .dataframe thead th {\n",
       "        text-align: left;\n",
       "    }\n",
       "\n",
       "    .dataframe tbody tr th {\n",
       "        vertical-align: top;\n",
       "    }\n",
       "</style>\n",
       "<table border=\"1\" class=\"dataframe\">\n",
       "  <thead>\n",
       "    <tr style=\"text-align: right;\">\n",
       "      <th></th>\n",
       "      <th>least_popular_count</th>\n",
       "      <th>label</th>\n",
       "    </tr>\n",
       "  </thead>\n",
       "  <tbody>\n",
       "    <tr>\n",
       "      <th>0</th>\n",
       "      <td>262.0</td>\n",
       "      <td>0</td>\n",
       "    </tr>\n",
       "    <tr>\n",
       "      <th>1</th>\n",
       "      <td>422.0</td>\n",
       "      <td>0</td>\n",
       "    </tr>\n",
       "    <tr>\n",
       "      <th>2</th>\n",
       "      <td>8.0</td>\n",
       "      <td>0</td>\n",
       "    </tr>\n",
       "    <tr>\n",
       "      <th>3</th>\n",
       "      <td>2.0</td>\n",
       "      <td>0</td>\n",
       "    </tr>\n",
       "    <tr>\n",
       "      <th>4</th>\n",
       "      <td>2.0</td>\n",
       "      <td>0</td>\n",
       "    </tr>\n",
       "  </tbody>\n",
       "</table>\n",
       "</div>"
      ],
      "text/plain": [
       "   least_popular_count  label\n",
       "0                262.0      0\n",
       "1                422.0      0\n",
       "2                  8.0      0\n",
       "3                  2.0      0\n",
       "4                  2.0      0"
      ]
     },
     "execution_count": 57,
     "metadata": {},
     "output_type": "execute_result"
    }
   ],
   "source": [
    "df_least_popular = df.loc[:,['least_popular_count','label']]\n",
    "df_least_popular.head()"
   ]
  },
  {
   "cell_type": "code",
   "execution_count": 70,
   "metadata": {},
   "outputs": [
    {
     "data": {
      "text/html": [
       "<div>\n",
       "<style>\n",
       "    .dataframe thead tr:only-child th {\n",
       "        text-align: right;\n",
       "    }\n",
       "\n",
       "    .dataframe thead th {\n",
       "        text-align: left;\n",
       "    }\n",
       "\n",
       "    .dataframe tbody tr th {\n",
       "        vertical-align: top;\n",
       "    }\n",
       "</style>\n",
       "<table border=\"1\" class=\"dataframe\">\n",
       "  <thead>\n",
       "    <tr style=\"text-align: right;\">\n",
       "      <th></th>\n",
       "      <th>least_popular_count</th>\n",
       "      <th>label</th>\n",
       "      <th>bins</th>\n",
       "    </tr>\n",
       "  </thead>\n",
       "  <tbody>\n",
       "    <tr>\n",
       "      <th>0</th>\n",
       "      <td>262.0</td>\n",
       "      <td>0</td>\n",
       "      <td>&gt;10</td>\n",
       "    </tr>\n",
       "    <tr>\n",
       "      <th>1</th>\n",
       "      <td>422.0</td>\n",
       "      <td>0</td>\n",
       "      <td>&gt;10</td>\n",
       "    </tr>\n",
       "    <tr>\n",
       "      <th>2</th>\n",
       "      <td>8.0</td>\n",
       "      <td>0</td>\n",
       "      <td>1-10</td>\n",
       "    </tr>\n",
       "    <tr>\n",
       "      <th>3</th>\n",
       "      <td>2.0</td>\n",
       "      <td>0</td>\n",
       "      <td>1-10</td>\n",
       "    </tr>\n",
       "    <tr>\n",
       "      <th>4</th>\n",
       "      <td>2.0</td>\n",
       "      <td>0</td>\n",
       "      <td>1-10</td>\n",
       "    </tr>\n",
       "  </tbody>\n",
       "</table>\n",
       "</div>"
      ],
      "text/plain": [
       "   least_popular_count  label  bins\n",
       "0                262.0      0   >10\n",
       "1                422.0      0   >10\n",
       "2                  8.0      0  1-10\n",
       "3                  2.0      0  1-10\n",
       "4                  2.0      0  1-10"
      ]
     },
     "execution_count": 70,
     "metadata": {},
     "output_type": "execute_result"
    }
   ],
   "source": [
    "df_least_popular = df.loc[:,['least_popular_count','label']]\n",
    "\n",
    "df_least_popular['bins'] = list(pd.cut(df_least_popular.least_popular_count,bins = [0,1,10.1,1500],\n",
    "                                      labels = ['0','1-10','>10'],\n",
    "                                       right=False, retbins=False, precision=1, include_lowest=True))\n",
    "\n",
    "df_least_popular.head()"
   ]
  },
  {
   "cell_type": "code",
   "execution_count": 71,
   "metadata": {},
   "outputs": [],
   "source": [
    "#df_least_popular.loc[df_least_popular.bins.isnull(),'bins'] = '10+'\n",
    "#df_least_popular.head()"
   ]
  },
  {
   "cell_type": "code",
   "execution_count": 100,
   "metadata": {},
   "outputs": [
    {
     "data": {
      "image/png": "[encoded data removed]",
      "text/plain": [
       "<matplotlib.figure.Figure at 0x11f6ec18>"
      ]
     },
     "metadata": {},
     "output_type": "display_data"
    }
   ],
   "source": [
    "plt.rcParams[\"figure.figsize\"] = (8,4)\n",
    "ax = df_least_popular.groupby(['bins','label']).size().unstack().fillna(0).plot.bar(alpha = 0.8, color = ['b','r'])\n",
    "plt.rcParams[\"figure.figsize\"] = (8,4)\n",
    "plt.show()"
   ]
  },
  {
   "cell_type": "code",
   "execution_count": null,
   "metadata": {
    "collapsed": true
   },
   "outputs": [],
   "source": []
  },
  {
   "cell_type": "code",
   "execution_count": 134,
   "metadata": {},
   "outputs": [
    {
     "data": {
      "text/plain": [
       "<matplotlib.axes._subplots.AxesSubplot at 0x1f65ec88>"
      ]
     },
     "execution_count": 134,
     "metadata": {},
     "output_type": "execute_result"
    },
    {
     "data": {
      "image/png": "[encoded data removed]",
      "text/plain": [
       "<matplotlib.figure.Figure at 0x1d8f7a20>"
      ]
     },
     "metadata": {},
     "output_type": "display_data"
    }
   ],
   "source": [
    "df_to_normalize.avg_play_time.apply(lambda x : math.log(x+0.1,2)).plot.hist(bins = 100)"
   ]
  },
  {
   "cell_type": "code",
   "execution_count": 132,
   "metadata": {},
   "outputs": [
    {
     "data": {
      "text/plain": [
       "<matplotlib.axes._subplots.AxesSubplot at 0x1e994ef0>"
      ]
     },
     "execution_count": 132,
     "metadata": {},
     "output_type": "execute_result"
    },
    {
     "data": {
      "image/png": "[encoded data removed]",
      "text/plain": [
       "<matplotlib.figure.Figure at 0x1d75d358>"
      ]
     },
     "metadata": {},
     "output_type": "display_data"
    }
   ],
   "source": [
    "df_to_normalize.total_play_time.apply(lambda x : math.log(x+0.1,10)).plot.hist(bins = 100)"
   ]
  },
  {
   "cell_type": "code",
   "execution_count": 131,
   "metadata": {},
   "outputs": [
    {
     "data": {
      "text/plain": [
       "<matplotlib.axes._subplots.AxesSubplot at 0x1da6a2b0>"
      ]
     },
     "execution_count": 131,
     "metadata": {},
     "output_type": "execute_result"
    },
    {
     "data": {
      "image/png": "[encoded data removed]",
      "text/plain": [
       "<matplotlib.figure.Figure at 0x1d8e0a20>"
      ]
     },
     "metadata": {},
     "output_type": "display_data"
    }
   ],
   "source": [
    "df_to_normalize.most_popular_count.apply(lambda x : math.log(x+1,10)).plot.hist(bins = 100)"
   ]
  },
  {
   "cell_type": "code",
   "execution_count": 44,
   "metadata": {},
   "outputs": [
    {
     "data": {
      "text/plain": [
       "<matplotlib.axes._subplots.AxesSubplot at 0xf8ec2b0>"
      ]
     },
     "execution_count": 44,
     "metadata": {},
     "output_type": "execute_result"
    },
    {
     "data": {
      "image/png": "[encoded data removed]",
      "text/plain": [
       "<matplotlib.figure.Figure at 0x11b9c470>"
      ]
     },
     "metadata": {},
     "output_type": "display_data"
    }
   ],
   "source": [
    "df_to_normalize.count_play_23.apply(lambda x : math.log(x,10)).plot.hist(bins = 100)"
   ]
  },
  {
   "cell_type": "code",
   "execution_count": 135,
   "metadata": {},
   "outputs": [
    {
     "data": {
      "text/plain": [
       "<matplotlib.axes._subplots.AxesSubplot at 0x1ed35780>"
      ]
     },
     "execution_count": 135,
     "metadata": {},
     "output_type": "execute_result"
    },
    {
     "data": {
      "image/png": "[encoded data removed]",
      "text/plain": [
       "<matplotlib.figure.Figure at 0x1fd814a8>"
      ]
     },
     "metadata": {},
     "output_type": "display_data"
    }
   ],
   "source": [
    "plt.figure();\n",
    "#plt.xlim(0,5000)\n",
    "df.avg_complete_ratio.apply(lambda x : math.log(1.01-x,10)+2).plot.hist(bins = 100)"
   ]
  },
  {
   "cell_type": "code",
   "execution_count": 125,
   "metadata": {},
   "outputs": [
    {
     "data": {
      "text/plain": [
       "<matplotlib.axes._subplots.AxesSubplot at 0x13e621d0>"
      ]
     },
     "execution_count": 125,
     "metadata": {},
     "output_type": "execute_result"
    },
    {
     "data": {
      "image/png": "[encoded data removed]",
      "text/plain": [
       "<matplotlib.figure.Figure at 0xedf0d68>"
      ]
     },
     "metadata": {},
     "output_type": "display_data"
    }
   ],
   "source": [
    "plt.figure();\n",
    "#plt.xlim(0,5000)\n",
    "df.popular_songs_ratio.apply(lambda x : math.log(x+0.01,10)+2).plot.hist(bins = 100)"
   ]
  },
  {
   "cell_type": "code",
   "execution_count": 119,
   "metadata": {},
   "outputs": [
    {
     "data": {
      "text/plain": [
       "(0.653899721448468, 0.4954285475723291)"
      ]
     },
     "execution_count": 119,
     "metadata": {},
     "output_type": "execute_result"
    }
   ],
   "source": [
    "df.loc[df.popular_songs_ratio==0,'label'].mean(),df.loc[df.popular_songs_ratio>0,'label'].mean()"
   ]
  },
  {
   "cell_type": "code",
   "execution_count": 85,
   "metadata": {},
   "outputs": [
    {
     "data": {
      "text/plain": [
       "<matplotlib.axes._subplots.AxesSubplot at 0xe5dfb38>"
      ]
     },
     "execution_count": 85,
     "metadata": {},
     "output_type": "execute_result"
    },
    {
     "data": {
      "image/png": "[encoded data removed]",
      "text/plain": [
       "<matplotlib.figure.Figure at 0x110eb518>"
      ]
     },
     "metadata": {},
     "output_type": "display_data"
    }
   ],
   "source": [
    "plt.figure();\n",
    "#plt.xlim(0,5000)\n",
    "df.days_since_last_play.plot.hist(bins = 25,width = 0.5)"
   ]
  },
  {
   "cell_type": "code",
   "execution_count": 88,
   "metadata": {},
   "outputs": [
    {
     "data": {
      "text/plain": [
       "days_since_last_play\n",
       "1     0.203719\n",
       "2     0.350114\n",
       "3     0.457874\n",
       "4     0.524265\n",
       "5     0.652789\n",
       "6     0.611755\n",
       "7     0.683060\n",
       "8     0.764253\n",
       "9     0.787456\n",
       "10    0.793677\n",
       "11    0.794425\n",
       "12    0.808403\n",
       "13    0.877722\n",
       "14    0.897921\n",
       "15    0.918782\n",
       "16    0.925722\n",
       "17    0.500000\n",
       "18    0.973684\n",
       "19    0.965686\n",
       "20    0.951282\n",
       "22    1.000000\n",
       "23    0.000000\n",
       "Name: label, dtype: float64"
      ]
     },
     "execution_count": 88,
     "metadata": {},
     "output_type": "execute_result"
    }
   ],
   "source": [
    "df.groupby('days_since_last_play').mean()['label']"
   ]
  },
  {
   "cell_type": "code",
   "execution_count": 101,
   "metadata": {},
   "outputs": [
    {
     "data": {
      "image/png": "[encoded data removed]",
      "text/plain": [
       "<matplotlib.figure.Figure at 0x111fc2b0>"
      ]
     },
     "metadata": {},
     "output_type": "display_data"
    }
   ],
   "source": [
    "plt.plot(df.groupby('days_since_last_play').mean().index, df.groupby('days_since_last_play').mean()['label'].values,'ro')\n",
    "plt.axis([0.5, 22.5, -0.1, 1.1])\n",
    "plt.show()"
   ]
  },
  {
   "cell_type": "code",
   "execution_count": 80,
   "metadata": {},
   "outputs": [
    {
     "data": {
      "text/plain": [
       "(0.7634778234258406, 0.2748477195067598)"
      ]
     },
     "execution_count": 80,
     "metadata": {},
     "output_type": "execute_result"
    }
   ],
   "source": [
    "df.loc[df.ratio_3_over_14==0,'label'].mean(), df.loc[df.ratio_3_over_14>0,'label'].mean()"
   ]
  },
  {
   "cell_type": "code",
   "execution_count": null,
   "metadata": {
    "collapsed": true
   },
   "outputs": [],
   "source": []
  },
  {
   "cell_type": "code",
   "execution_count": null,
   "metadata": {
    "collapsed": true
   },
   "outputs": [],
   "source": []
  },
  {
   "cell_type": "code",
   "execution_count": null,
   "metadata": {
    "collapsed": true
   },
   "outputs": [],
   "source": []
  },
  {
   "cell_type": "code",
   "execution_count": 49,
   "metadata": {},
   "outputs": [
    {
     "data": {
      "text/plain": [
       "array([ -0.5,   0.5,   1.5,   2.5,   3.5,   4.5,   5.5,   6.5,   7.5,\n",
       "         8.5,   9.5,  10.5])"
      ]
     },
     "execution_count": 49,
     "metadata": {},
     "output_type": "execute_result"
    }
   ],
   "source": [
    "np.linspace(-0.5,10.5,12)"
   ]
  },
  {
   "cell_type": "code",
   "execution_count": null,
   "metadata": {
    "collapsed": true
   },
   "outputs": [],
   "source": []
  },
  {
   "cell_type": "code",
   "execution_count": 121,
   "metadata": {},
   "outputs": [
    {
     "ename": "IOError",
     "evalue": "[Errno 2] No such file or directory: 'C:\\\\Users\\\\Sean\\\\Documents\\\\BitTiger\\\\Capston_music_player_python\\\\features__after_RandForest.pkl'",
     "output_type": "error",
     "traceback": [
      "\u001b[0;31m---------------------------------------------------------------------------\u001b[0m",
      "\u001b[0;31mIOError\u001b[0m                                   Traceback (most recent call last)",
      "\u001b[0;32m<ipython-input-121-4d573fd46d1f>\u001b[0m in \u001b[0;36m<module>\u001b[0;34m()\u001b[0m\n\u001b[1;32m      1\u001b[0m \u001b[0mfilename_pickle\u001b[0m \u001b[1;33m=\u001b[0m \u001b[1;34m'C:\\\\Users\\\\Sean\\\\Documents\\\\BitTiger\\\\Capston_music_player_python\\\\features_after_RandForest.pkl'\u001b[0m\u001b[1;33m\u001b[0m\u001b[0m\n\u001b[0;32m----> 2\u001b[0;31m \u001b[0mdf_new\u001b[0m \u001b[1;33m=\u001b[0m \u001b[0mpd\u001b[0m\u001b[1;33m.\u001b[0m\u001b[0mread_pickle\u001b[0m\u001b[1;33m(\u001b[0m\u001b[0mfeature_pickle\u001b[0m\u001b[1;33m)\u001b[0m\u001b[1;33m\u001b[0m\u001b[0m\n\u001b[0m\u001b[1;32m      3\u001b[0m \u001b[0mdf_new\u001b[0m\u001b[1;33m.\u001b[0m\u001b[0mhead\u001b[0m\u001b[1;33m(\u001b[0m\u001b[1;33m)\u001b[0m\u001b[1;33m\u001b[0m\u001b[0m\n",
      "\u001b[0;32mC:\\Users\\Sean\\Anaconda2\\lib\\site-packages\\pandas\\io\\pickle.pyc\u001b[0m in \u001b[0;36mread_pickle\u001b[0;34m(path, compression)\u001b[0m\n\u001b[1;32m     92\u001b[0m                     lambda f: pc.load(f, encoding=encoding, compat=True))\n\u001b[1;32m     93\u001b[0m     \u001b[1;32mtry\u001b[0m\u001b[1;33m:\u001b[0m\u001b[1;33m\u001b[0m\u001b[0m\n\u001b[0;32m---> 94\u001b[0;31m         \u001b[1;32mreturn\u001b[0m \u001b[0mtry_read\u001b[0m\u001b[1;33m(\u001b[0m\u001b[0mpath\u001b[0m\u001b[1;33m)\u001b[0m\u001b[1;33m\u001b[0m\u001b[0m\n\u001b[0m\u001b[1;32m     95\u001b[0m     \u001b[1;32mexcept\u001b[0m\u001b[1;33m:\u001b[0m\u001b[1;33m\u001b[0m\u001b[0m\n\u001b[1;32m     96\u001b[0m         \u001b[1;32mif\u001b[0m \u001b[0mPY3\u001b[0m\u001b[1;33m:\u001b[0m\u001b[1;33m\u001b[0m\u001b[0m\n",
      "\u001b[0;32mC:\\Users\\Sean\\Anaconda2\\lib\\site-packages\\pandas\\io\\pickle.pyc\u001b[0m in \u001b[0;36mtry_read\u001b[0;34m(path, encoding)\u001b[0m\n\u001b[1;32m     90\u001b[0m             \u001b[1;32mexcept\u001b[0m\u001b[1;33m:\u001b[0m\u001b[1;33m\u001b[0m\u001b[0m\n\u001b[1;32m     91\u001b[0m                 return read_wrapper(\n\u001b[0;32m---> 92\u001b[0;31m                     lambda f: pc.load(f, encoding=encoding, compat=True))\n\u001b[0m\u001b[1;32m     93\u001b[0m     \u001b[1;32mtry\u001b[0m\u001b[1;33m:\u001b[0m\u001b[1;33m\u001b[0m\u001b[0m\n\u001b[1;32m     94\u001b[0m         \u001b[1;32mreturn\u001b[0m \u001b[0mtry_read\u001b[0m\u001b[1;33m(\u001b[0m\u001b[0mpath\u001b[0m\u001b[1;33m)\u001b[0m\u001b[1;33m\u001b[0m\u001b[0m\n",
      "\u001b[0;32mC:\\Users\\Sean\\Anaconda2\\lib\\site-packages\\pandas\\io\\pickle.pyc\u001b[0m in \u001b[0;36mread_wrapper\u001b[0;34m(func)\u001b[0m\n\u001b[1;32m     64\u001b[0m         f, fh = _get_handle(path, 'rb',\n\u001b[1;32m     65\u001b[0m                             \u001b[0mcompression\u001b[0m\u001b[1;33m=\u001b[0m\u001b[0minferred_compression\u001b[0m\u001b[1;33m,\u001b[0m\u001b[1;33m\u001b[0m\u001b[0m\n\u001b[0;32m---> 66\u001b[0;31m                             is_text=False)\n\u001b[0m\u001b[1;32m     67\u001b[0m         \u001b[1;32mtry\u001b[0m\u001b[1;33m:\u001b[0m\u001b[1;33m\u001b[0m\u001b[0m\n\u001b[1;32m     68\u001b[0m             \u001b[1;32mreturn\u001b[0m \u001b[0mfunc\u001b[0m\u001b[1;33m(\u001b[0m\u001b[0mf\u001b[0m\u001b[1;33m)\u001b[0m\u001b[1;33m\u001b[0m\u001b[0m\n",
      "\u001b[0;32mC:\\Users\\Sean\\Anaconda2\\lib\\site-packages\\pandas\\io\\common.pyc\u001b[0m in \u001b[0;36m_get_handle\u001b[0;34m(path_or_buf, mode, encoding, compression, memory_map, is_text)\u001b[0m\n\u001b[1;32m    374\u001b[0m         \u001b[1;32mif\u001b[0m \u001b[0mcompat\u001b[0m\u001b[1;33m.\u001b[0m\u001b[0mPY2\u001b[0m\u001b[1;33m:\u001b[0m\u001b[1;33m\u001b[0m\u001b[0m\n\u001b[1;32m    375\u001b[0m             \u001b[1;31m# Python 2\u001b[0m\u001b[1;33m\u001b[0m\u001b[1;33m\u001b[0m\u001b[0m\n\u001b[0;32m--> 376\u001b[0;31m             \u001b[0mf\u001b[0m \u001b[1;33m=\u001b[0m \u001b[0mopen\u001b[0m\u001b[1;33m(\u001b[0m\u001b[0mpath_or_buf\u001b[0m\u001b[1;33m,\u001b[0m \u001b[0mmode\u001b[0m\u001b[1;33m)\u001b[0m\u001b[1;33m\u001b[0m\u001b[0m\n\u001b[0m\u001b[1;32m    377\u001b[0m         \u001b[1;32melif\u001b[0m \u001b[0mencoding\u001b[0m\u001b[1;33m:\u001b[0m\u001b[1;33m\u001b[0m\u001b[0m\n\u001b[1;32m    378\u001b[0m             \u001b[1;31m# Python 3 and encoding\u001b[0m\u001b[1;33m\u001b[0m\u001b[1;33m\u001b[0m\u001b[0m\n",
      "\u001b[0;31mIOError\u001b[0m: [Errno 2] No such file or directory: 'C:\\\\Users\\\\Sean\\\\Documents\\\\BitTiger\\\\Capston_music_player_python\\\\features__after_RandForest.pkl'"
     ]
    }
   ],
   "source": [
    "filename_pickle = 'C:\\\\Users\\\\Sean\\\\Documents\\\\BitTiger\\\\Capston_music_player_python\\\\features_after_RandForest.pkl'\n",
    "df_new = pd.read_pickle(feature_pickle)\n",
    "df_new.head()"
   ]
  },
  {
   "cell_type": "code",
   "execution_count": null,
   "metadata": {
    "collapsed": true
   },
   "outputs": [],
   "source": []
  },
  {
   "cell_type": "code",
   "execution_count": null,
   "metadata": {
    "collapsed": true
   },
   "outputs": [],
   "source": []
  }
 ],
 "metadata": {
  "kernelspec": {
   "display_name": "Python 2",
   "language": "python",
   "name": "python2"
  },
  "language_info": {
   "codemirror_mode": {
    "name": "ipython",
    "version": 2
   },
   "file_extension": ".py",
   "mimetype": "text/x-python",
   "name": "python",
   "nbconvert_exporter": "python",
   "pygments_lexer": "ipython2",
   "version": "2.7.13"
  }
 },
 "nbformat": 4,
 "nbformat_minor": 2
}
