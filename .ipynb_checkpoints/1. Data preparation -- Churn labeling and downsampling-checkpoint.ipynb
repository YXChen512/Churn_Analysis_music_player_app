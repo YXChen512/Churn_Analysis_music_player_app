{
 "cells": [
  {
   "cell_type": "markdown",
   "metadata": {},
   "source": [
    "# Data Preparation: Churn labeling and Downsampling\n",
    "\n",
    "    1. Read the *play.log files line by line, and write only the user ID, device and date of log into a separate\n",
    "    file.\n",
    "    \n",
    "    2. Label churn users: those who played more than three times before the cutoff day but had no acitivity after\n",
    "    the cutoff.\n",
    "    \n",
    "    3. Down sampling is necessary. There are more than 500,000 users and 15 GB log data, which is not necessary for\n",
    "    the churn prediction and which costs too much time to process. I used  a down sampling ratio of 1/10, to only\n",
    "    include 1/10 users from the active and churn users for the churn prediction model."
   ]
  },
  {
   "cell_type": "code",
   "execution_count": null,
   "metadata": {
    "collapsed": true
   },
   "outputs": [],
   "source": []
  },
  {
   "cell_type": "markdown",
   "metadata": {},
   "source": [
    "### 1. Churn labeling"
   ]
  },
  {
   "cell_type": "code",
   "execution_count": 20,
   "metadata": {
    "collapsed": true
   },
   "outputs": [],
   "source": [
    "import glob"
   ]
  },
  {
   "cell_type": "code",
   "execution_count": 22,
   "metadata": {},
   "outputs": [
    {
     "data": {
      "text/plain": [
       "127"
      ]
     },
     "execution_count": 22,
     "metadata": {},
     "output_type": "execute_result"
    }
   ],
   "source": [
    "filepath = 'C:\\\\Users\\\\Sean\\\\Documents\\\\BitTiger\\\\Capston_music_player_python\\\\data\\\\play\\\\*play.log'\n",
    "files = glob.glob(filepath)\n",
    "# amount of files\n",
    "len(files)"
   ]
  },
  {
   "cell_type": "code",
   "execution_count": 23,
   "metadata": {},
   "outputs": [
    {
     "data": {
      "text/plain": [
       "'C:\\\\Users\\\\Sean\\\\Documents\\\\BitTiger\\\\Capston_music_player_python\\\\data\\\\play\\\\20170330_3_play.log'"
      ]
     },
     "execution_count": 23,
     "metadata": {},
     "output_type": "execute_result"
    }
   ],
   "source": [
    "# take a look at one of the files\n",
    "files[0]"
   ]
  },
  {
   "cell_type": "code",
   "execution_count": 99,
   "metadata": {},
   "outputs": [
    {
     "data": {
      "text/plain": [
       "4760394"
      ]
     },
     "execution_count": 99,
     "metadata": {},
     "output_type": "execute_result"
    }
   ],
   "source": [
    "# get an idea how many lines are in one .log file\n",
    "with open(files[0],'r') as f:\n",
    "    lines = f.readlines()\n",
    "    log_lines = len(lines)\n",
    "log_lines"
   ]
  },
  {
   "cell_type": "code",
   "execution_count": 26,
   "metadata": {
    "collapsed": true
   },
   "outputs": [],
   "source": [
    "# 04/22 is the cutoff date for labeling churns\n",
    "cutoff = '20170422'"
   ]
  },
  {
   "cell_type": "markdown",
   "metadata": {},
   "source": [
    "##### Save reduced play logs to two log files.\n",
    "\n",
    "Only the first two items of each line, user id and device, and the date of the log are saved, so it's called reduced play logs."
   ]
  },
  {
   "cell_type": "code",
   "execution_count": 30,
   "metadata": {
    "collapsed": true
   },
   "outputs": [],
   "source": [
    "# destination file names to save the reduced logs.\n",
    "first_period_log = 'C:\\\\Users\\\\Sean\\\\Documents\\\\BitTiger\\\\Capston_music_player_python\\\\data\\\\play_till_0421.log'\n",
    "second_period_log = 'C:\\\\Users\\\\Sean\\\\Documents\\\\BitTiger\\\\Capston_music_player_python\\\\data\\\\play_till_0512.log'"
   ]
  },
  {
   "cell_type": "code",
   "execution_count": 34,
   "metadata": {},
   "outputs": [
    {
     "name": "stdout",
     "output_type": "stream",
     "text": [
      "processing file: 20170330_3_play.log\n",
      "...costs 10.36 seconds\n",
      "processing file: 20170331_1_play.log\n",
      "...costs 5.20 seconds\n",
      "processing file: 20170331_2_play.log\n",
      "...costs 3.71 seconds\n",
      "processing file: 20170331_3_play.log\n",
      "...costs 8.27 seconds\n",
      "processing file: 20170401_1_play.log\n",
      "...costs 5.08 seconds\n",
      "processing file: 20170401_2_play.log\n",
      "...costs 5.43 seconds\n",
      "processing file: 20170401_3_play.log\n",
      "...costs 6.07 seconds\n",
      "processing file: 20170402_1_play.log\n",
      "...costs 5.55 seconds\n",
      "processing file: 20170402_2_play.log\n",
      "...costs 4.91 seconds\n",
      "processing file: 20170402_3_play.log\n",
      "...costs 5.78 seconds\n",
      "processing file: 20170403_1_play.log\n",
      "...costs 5.41 seconds\n",
      "processing file: 20170403_2_play.log\n",
      "...costs 5.11 seconds\n",
      "processing file: 20170404_1_play.log\n",
      "...costs 4.93 seconds\n",
      "processing file: 20170404_2_play.log\n",
      "...costs 4.10 seconds\n",
      "processing file: 20170404_3_play.log\n",
      "...costs 0.65 seconds\n",
      "processing file: 20170405_1_play.log\n",
      "...costs 0.13 seconds\n",
      "processing file: 20170405_2_play.log\n",
      "...costs 3.70 seconds\n",
      "processing file: 20170405_3_play.log\n",
      "...costs 3.50 seconds\n",
      "processing file: 20170406_1_play.log\n",
      "...costs 0.12 seconds\n",
      "processing file: 20170406_2_play.log\n",
      "...costs 3.29 seconds\n",
      "processing file: 20170406_3_play.log\n",
      "...costs 3.88 seconds\n",
      "processing file: 20170407_1_play.log\n",
      "...costs 3.47 seconds\n",
      "processing file: 20170407_2_play.log\n",
      "...costs 3.50 seconds\n",
      "processing file: 20170407_3_play.log\n",
      "...costs 3.82 seconds\n",
      "processing file: 20170408_1_play.log\n",
      "...costs 3.60 seconds\n",
      "processing file: 20170408_2_play.log\n",
      "...costs 3.69 seconds\n",
      "processing file: 20170408_3_play.log\n",
      "...costs 4.09 seconds\n",
      "processing file: 20170409_1_play.log\n",
      "...costs 3.74 seconds\n",
      "processing file: 20170409_2_play.log\n",
      "...costs 3.54 seconds\n",
      "processing file: 20170409_3_play.log\n",
      "...costs 3.68 seconds\n",
      "processing file: 20170410_1_play.log\n",
      "...costs 3.11 seconds\n",
      "processing file: 20170410_2_play.log\n",
      "...costs 3.00 seconds\n",
      "processing file: 20170410_3_play.log\n",
      "...costs 2.84 seconds\n",
      "processing file: 20170411_1_play.log\n",
      "...costs 3.27 seconds\n",
      "processing file: 20170411_2_play.log\n",
      "...costs 3.53 seconds\n",
      "processing file: 20170412_1_play.log\n",
      "...costs 2.93 seconds\n",
      "processing file: 20170412_2_play.log\n",
      "...costs 3.49 seconds\n",
      "processing file: 20170412_3_play.log\n",
      "...costs 3.13 seconds\n",
      "processing file: 20170413_1_play.log\n",
      "...costs 2.80 seconds\n",
      "processing file: 20170413_2_play.log\n",
      "...costs 3.57 seconds\n",
      "processing file: 20170413_3_play.log\n",
      "...costs 2.92 seconds\n",
      "processing file: 20170414_1_play.log\n",
      "...costs 1.78 seconds\n",
      "processing file: 20170414_2_play.log\n",
      "...costs 1.60 seconds\n",
      "processing file: 20170414_3_play.log\n",
      "...costs 1.52 seconds\n",
      "processing file: 20170415_1_play.log\n",
      "...costs 3.48 seconds\n",
      "processing file: 20170415_2_play.log\n",
      "...costs 3.10 seconds\n",
      "processing file: 20170415_3_play.log\n",
      "...costs 4.25 seconds\n",
      "processing file: 20170416_1_play.log\n",
      "...costs 3.57 seconds\n",
      "processing file: 20170416_2_play.log\n",
      "...costs 2.97 seconds\n",
      "processing file: 20170416_3_play.log\n",
      "...costs 3.49 seconds\n",
      "processing file: 20170417_1_play.log\n",
      "...costs 2.83 seconds\n",
      "processing file: 20170417_2_play.log\n",
      "...costs 2.60 seconds\n",
      "processing file: 20170418_1_play.log\n",
      "...costs 2.51 seconds\n",
      "processing file: 20170418_2_play.log\n",
      "...costs 3.21 seconds\n",
      "processing file: 20170418_3_play.log\n",
      "...costs 3.40 seconds\n",
      "processing file: 20170419_1_play.log\n",
      "...costs 3.35 seconds\n",
      "processing file: 20170419_2_play.log\n",
      "...costs 3.09 seconds\n",
      "processing file: 20170419_3_play.log\n",
      "...costs 2.47 seconds\n",
      "processing file: 20170420_1_play.log\n",
      "...costs 2.88 seconds\n",
      "processing file: 20170420_2_play.log\n",
      "...costs 2.41 seconds\n",
      "processing file: 20170420_3_play.log\n",
      "...costs 3.34 seconds\n",
      "processing file: 20170421_1_play.log\n",
      "...costs 2.78 seconds\n",
      "processing file: 20170421_2_play.log\n",
      "...costs 2.99 seconds\n",
      "processing file: 20170421_3_play.log\n",
      "...costs 2.77 seconds\n",
      "processing file: 20170422_1_play.log\n",
      "...costs 3.30 seconds\n",
      "processing file: 20170422_2_play.log\n",
      "...costs 2.94 seconds\n",
      "processing file: 20170422_3_play.log\n",
      "...costs 2.89 seconds\n",
      "processing file: 20170423_1_play.log\n",
      "...costs 3.34 seconds\n",
      "processing file: 20170423_2_play.log\n",
      "...costs 1.94 seconds\n",
      "processing file: 20170423_3_play.log\n",
      "...costs 2.90 seconds\n",
      "processing file: 20170424_1_play.log\n",
      "...costs 1.66 seconds\n",
      "processing file: 20170424_2_play.log\n",
      "...costs 0.33 seconds\n",
      "processing file: 20170424_3_play.log\n",
      "...costs 2.41 seconds\n",
      "processing file: 20170425_1_play.log\n",
      "...costs 2.74 seconds\n",
      "processing file: 20170425_2_play.log\n",
      "...costs 2.56 seconds\n",
      "processing file: 20170425_3_play.log\n",
      "...costs 2.78 seconds\n",
      "processing file: 20170426_1_play.log\n",
      "...costs 2.66 seconds\n",
      "processing file: 20170426_2_play.log\n",
      "...costs 2.80 seconds\n",
      "processing file: 20170426_3_play.log\n",
      "...costs 2.41 seconds\n",
      "processing file: 20170427_1_play.log\n",
      "...costs 2.69 seconds\n",
      "processing file: 20170427_2_play.log\n",
      "...costs 2.24 seconds\n",
      "processing file: 20170427_3_play.log\n",
      "...costs 3.23 seconds\n",
      "processing file: 20170428_1_play.log\n",
      "...costs 2.37 seconds\n",
      "processing file: 20170428_2_play.log\n",
      "...costs 2.63 seconds\n",
      "processing file: 20170428_3_play.log\n",
      "...costs 2.39 seconds\n",
      "processing file: 20170429_1_play.log\n",
      "...costs 3.11 seconds\n",
      "processing file: 20170429_2_play.log\n",
      "...costs 2.92 seconds\n",
      "processing file: 20170429_3_play.log\n",
      "...costs 3.09 seconds\n",
      "processing file: 20170430_1_play.log\n",
      "...costs 2.69 seconds\n",
      "processing file: 20170430_2_play.log\n",
      "...costs 3.03 seconds\n",
      "processing file: 20170430_3_play.log\n",
      "...costs 3.09 seconds\n",
      "processing file: 20170501_1_play.log\n",
      "...costs 2.49 seconds\n",
      "processing file: 20170501_2_play.log\n",
      "...costs 3.12 seconds\n",
      "processing file: 20170501_3_play.log\n",
      "...costs 2.65 seconds\n",
      "processing file: 20170502_1_play.log\n",
      "...costs 2.28 seconds\n",
      "processing file: 20170502_2_play.log\n",
      "...costs 2.37 seconds\n",
      "processing file: 20170502_3_play.log\n",
      "...costs 2.05 seconds\n",
      "processing file: 20170503_1_play.log\n",
      "...costs 2.44 seconds\n",
      "processing file: 20170503_2_play.log\n",
      "...costs 2.35 seconds\n",
      "processing file: 20170503_3_play.log\n",
      "...costs 2.26 seconds\n",
      "processing file: 20170504_1_play.log\n",
      "...costs 2.15 seconds\n",
      "processing file: 20170504_2_play.log\n",
      "...costs 2.33 seconds\n",
      "processing file: 20170504_3_play.log\n",
      "...costs 2.13 seconds\n",
      "processing file: 20170505_1_play.log\n",
      "...costs 2.33 seconds\n",
      "processing file: 20170505_2_play.log\n",
      "...costs 2.62 seconds\n",
      "processing file: 20170505_3_play.log\n",
      "...costs 2.24 seconds\n",
      "processing file: 20170506_1_play.log\n",
      "...costs 2.09 seconds\n",
      "processing file: 20170506_2_play.log\n",
      "...costs 3.16 seconds\n",
      "processing file: 20170506_3_play.log\n",
      "...costs 2.98 seconds\n",
      "processing file: 20170507_1_play.log\n",
      "...costs 2.38 seconds\n",
      "processing file: 20170507_2_play.log\n",
      "...costs 2.95 seconds\n",
      "processing file: 20170507_3_play.log\n",
      "...costs 2.15 seconds\n",
      "processing file: 20170508_1_play.log\n",
      "...costs 2.62 seconds\n",
      "processing file: 20170508_2_play.log\n",
      "...costs 2.45 seconds\n",
      "processing file: 20170508_3_play.log\n",
      "...costs 2.21 seconds\n",
      "processing file: 20170509_1_play.log\n",
      "...costs 2.66 seconds\n",
      "processing file: 20170509_2_play.log\n",
      "...costs 2.56 seconds\n",
      "processing file: 20170509_3_play.log\n",
      "...costs 2.30 seconds\n",
      "processing file: 20170510_1_play.log\n",
      "...costs 2.53 seconds\n",
      "processing file: 20170510_2_play.log\n",
      "...costs 2.52 seconds\n",
      "processing file: 20170510_3_play.log\n",
      "...costs 1.92 seconds\n",
      "processing file: 20170511_1_play.log\n",
      "...costs 2.53 seconds\n",
      "processing file: 20170511_2_play.log\n",
      "...costs 2.61 seconds\n",
      "processing file: 20170511_3_play.log\n",
      "...costs 2.79 seconds\n",
      "processing file: 20170512_1_play.log\n",
      "...costs 2.79 seconds\n",
      "processing file: 20170512_2_play.log\n",
      "...costs 2.94 seconds\n",
      "processing file: 20170512_3_play.log\n",
      "...costs 2.53 seconds\n"
     ]
    }
   ],
   "source": [
    "import time\n",
    "\n",
    "for each_file in files:\n",
    "    current_time = time.clock()\n",
    "\n",
    "    with open(each_file, 'r') as f:\n",
    "        lines = f.readlines()\n",
    "        filename = f.name.split('\\\\')[-1]\n",
    "        print('processing file: %s' % filename)\n",
    "        #choose the output path\n",
    "        if filename < cutoff:\n",
    "            output_path = first_period_log\n",
    "        else:\n",
    "            output_path = second_period_log\n",
    "        # write to the output file\n",
    "        with open(output_path, 'a') as output:\n",
    "            for line in lines:\n",
    "                contents_to_keep = line.split('\\t')[:2]\n",
    "                contents_to_keep.append(filename)\n",
    "                output.write('\\t'.join(contents_to_keep)+'\\n')\n",
    "    print('...costs %.2f seconds' % (time.clock()-current_time))\n",
    "    current_time = time.clock()"
   ]
  },
  {
   "cell_type": "code",
   "execution_count": 52,
   "metadata": {},
   "outputs": [
    {
     "data": {
      "text/html": [
       "<div>\n",
       "<style>\n",
       "    .dataframe thead tr:only-child th {\n",
       "        text-align: right;\n",
       "    }\n",
       "\n",
       "    .dataframe thead th {\n",
       "        text-align: left;\n",
       "    }\n",
       "\n",
       "    .dataframe tbody tr th {\n",
       "        vertical-align: top;\n",
       "    }\n",
       "</style>\n",
       "<table border=\"1\" class=\"dataframe\">\n",
       "  <thead>\n",
       "    <tr style=\"text-align: right;\">\n",
       "      <th></th>\n",
       "      <th>uid</th>\n",
       "      <th>device</th>\n",
       "      <th>file_name</th>\n",
       "    </tr>\n",
       "  </thead>\n",
       "  <tbody>\n",
       "    <tr>\n",
       "      <th>0</th>\n",
       "      <td>168550892</td>\n",
       "      <td>ar</td>\n",
       "      <td>20170330_3_play.log</td>\n",
       "    </tr>\n",
       "    <tr>\n",
       "      <th>1</th>\n",
       "      <td>168540455</td>\n",
       "      <td>ar</td>\n",
       "      <td>20170330_3_play.log</td>\n",
       "    </tr>\n",
       "    <tr>\n",
       "      <th>2</th>\n",
       "      <td>168551247</td>\n",
       "      <td>ar</td>\n",
       "      <td>20170330_3_play.log</td>\n",
       "    </tr>\n",
       "    <tr>\n",
       "      <th>3</th>\n",
       "      <td>168549788</td>\n",
       "      <td>ip</td>\n",
       "      <td>20170330_3_play.log</td>\n",
       "    </tr>\n",
       "    <tr>\n",
       "      <th>4</th>\n",
       "      <td>168551248</td>\n",
       "      <td>ip</td>\n",
       "      <td>20170330_3_play.log</td>\n",
       "    </tr>\n",
       "  </tbody>\n",
       "</table>\n",
       "</div>"
      ],
      "text/plain": [
       "         uid device            file_name\n",
       "0  168550892     ar  20170330_3_play.log\n",
       "1  168540455     ar  20170330_3_play.log\n",
       "2  168551247     ar  20170330_3_play.log\n",
       "3  168549788     ip  20170330_3_play.log\n",
       "4  168551248     ip  20170330_3_play.log"
      ]
     },
     "execution_count": 52,
     "metadata": {},
     "output_type": "execute_result"
    }
   ],
   "source": [
    "import pandas as pd\n",
    "\n",
    "schema = ['uid','device','file_name']\n",
    "df_1 = pd.read_csv(first_period_log,delimiter='\\t',header=None,index_col=None,names=schema, dtype = {'uid':'str'})\n",
    "df_1.head()"
   ]
  },
  {
   "cell_type": "code",
   "execution_count": 100,
   "metadata": {},
   "outputs": [
    {
     "name": "stdout",
     "output_type": "stream",
     "text": [
      "<class 'pandas.core.frame.DataFrame'>\n",
      "RangeIndex: 82001784 entries, 0 to 82001783\n",
      "Data columns (total 3 columns):\n",
      "uid          object\n",
      "device       object\n",
      "file_name    object\n",
      "dtypes: object(3)\n",
      "memory usage: 1.8+ GB\n"
     ]
    }
   ],
   "source": [
    "df_1.info()"
   ]
  },
  {
   "cell_type": "markdown",
   "metadata": {},
   "source": [
    "##### Label active users in the first period.\n",
    "\n",
    "    Criteria: number of activities before the cutoff > 3"
   ]
  },
  {
   "cell_type": "code",
   "execution_count": 60,
   "metadata": {},
   "outputs": [
    {
     "data": {
      "text/plain": [
       "1685126      3617414\n",
       "37025504     2613945\n",
       "751824       2097443\n",
       "1791497      1888301\n",
       "497685       1393958\n",
       "1062806      1164170\n",
       "736305        856422\n",
       "0             568498\n",
       "1749320       372206\n",
       "1679121       244088\n",
       "46532274      233379\n",
       "28638487      200651\n",
       "637650        108488\n",
       "155948236      97851\n",
       "32166203       74229\n",
       "533817         74064\n",
       "64268006       65829\n",
       "168127634      35003\n",
       "22730453       31866\n",
       "16517426       31675\n",
       "32104145       29951\n",
       "924065         29727\n",
       "168922214      29260\n",
       "167982849      28483\n",
       "27954505       24917\n",
       "1710083        23176\n",
       "165313253      21655\n",
       "168674332      17807\n",
       "168751924      17717\n",
       "168334631      16474\n",
       "              ...   \n",
       "167731479          1\n",
       "168763247          1\n",
       "168859231          1\n",
       "168804426          1\n",
       "168761136          1\n",
       "169022327          1\n",
       "168969919          1\n",
       "168546198          1\n",
       "168444376          1\n",
       "168546199          1\n",
       "168801780          1\n",
       "168801781          1\n",
       "168001689          1\n",
       "167931183          1\n",
       "168791070          1\n",
       "168934216          1\n",
       "168791075          1\n",
       "168961109          1\n",
       "168399126          1\n",
       "169001697          1\n",
       "168761130          1\n",
       "168486670          1\n",
       "168704857          1\n",
       "168704855          1\n",
       "168103059          1\n",
       "168258503          1\n",
       "168402656          1\n",
       "168504640          1\n",
       "168581116          1\n",
       "168684368          1\n",
       "Name: uid, Length: 564624, dtype: int64"
      ]
     },
     "execution_count": 60,
     "metadata": {},
     "output_type": "execute_result"
    }
   ],
   "source": [
    "df_1.uid.value_counts()"
   ]
  },
  {
   "cell_type": "code",
   "execution_count": 101,
   "metadata": {},
   "outputs": [
    {
     "data": {
      "text/plain": [
       "(472632, 91992)"
      ]
     },
     "execution_count": 101,
     "metadata": {},
     "output_type": "execute_result"
    }
   ],
   "source": [
    "# total number of active users and inactive users\n",
    "active = df_1.uid.value_counts()>3\n",
    "sum(active),sum(active==0)"
   ]
  },
  {
   "cell_type": "code",
   "execution_count": 65,
   "metadata": {},
   "outputs": [
    {
     "data": {
      "text/plain": [
       "['1685126', '37025504', '751824', '1791497', '497685']"
      ]
     },
     "execution_count": 65,
     "metadata": {},
     "output_type": "execute_result"
    }
   ],
   "source": [
    "active_users = [active.index[i] for i in xrange(len(active)) if active[i]]\n",
    "active_users[:5]"
   ]
  },
  {
   "cell_type": "code",
   "execution_count": 67,
   "metadata": {
    "collapsed": true
   },
   "outputs": [],
   "source": [
    "active_set_1 = set(active_users)"
   ]
  },
  {
   "cell_type": "code",
   "execution_count": 68,
   "metadata": {},
   "outputs": [
    {
     "data": {
      "text/html": [
       "<div>\n",
       "<style>\n",
       "    .dataframe thead tr:only-child th {\n",
       "        text-align: right;\n",
       "    }\n",
       "\n",
       "    .dataframe thead th {\n",
       "        text-align: left;\n",
       "    }\n",
       "\n",
       "    .dataframe tbody tr th {\n",
       "        vertical-align: top;\n",
       "    }\n",
       "</style>\n",
       "<table border=\"1\" class=\"dataframe\">\n",
       "  <thead>\n",
       "    <tr style=\"text-align: right;\">\n",
       "      <th></th>\n",
       "      <th>uid</th>\n",
       "      <th>device</th>\n",
       "      <th>file_name</th>\n",
       "    </tr>\n",
       "  </thead>\n",
       "  <tbody>\n",
       "    <tr>\n",
       "      <th>0</th>\n",
       "      <td>751824</td>\n",
       "      <td>ar</td>\n",
       "      <td>20170422_1_play.log</td>\n",
       "    </tr>\n",
       "    <tr>\n",
       "      <th>1</th>\n",
       "      <td>167806444</td>\n",
       "      <td>ar</td>\n",
       "      <td>20170422_1_play.log</td>\n",
       "    </tr>\n",
       "    <tr>\n",
       "      <th>2</th>\n",
       "      <td>28638487</td>\n",
       "      <td>ar</td>\n",
       "      <td>20170422_1_play.log</td>\n",
       "    </tr>\n",
       "    <tr>\n",
       "      <th>3</th>\n",
       "      <td>167854540</td>\n",
       "      <td>ar</td>\n",
       "      <td>20170422_1_play.log</td>\n",
       "    </tr>\n",
       "    <tr>\n",
       "      <th>4</th>\n",
       "      <td>1685126</td>\n",
       "      <td>ar</td>\n",
       "      <td>20170422_1_play.log</td>\n",
       "    </tr>\n",
       "  </tbody>\n",
       "</table>\n",
       "</div>"
      ],
      "text/plain": [
       "         uid device            file_name\n",
       "0     751824     ar  20170422_1_play.log\n",
       "1  167806444     ar  20170422_1_play.log\n",
       "2   28638487     ar  20170422_1_play.log\n",
       "3  167854540     ar  20170422_1_play.log\n",
       "4    1685126     ar  20170422_1_play.log"
      ]
     },
     "execution_count": 68,
     "metadata": {},
     "output_type": "execute_result"
    }
   ],
   "source": [
    "df_2 = pd.read_csv(second_period_log,delimiter='\\t',header=None,index_col=None,names=schema, dtype = {'uid':'str'})\n",
    "df_2.head()"
   ]
  },
  {
   "cell_type": "code",
   "execution_count": 102,
   "metadata": {},
   "outputs": [
    {
     "name": "stdout",
     "output_type": "stream",
     "text": [
      "<class 'pandas.core.frame.DataFrame'>\n",
      "RangeIndex: 56753407 entries, 0 to 56753406\n",
      "Data columns (total 3 columns):\n",
      "uid          object\n",
      "device       object\n",
      "file_name    object\n",
      "dtypes: object(3)\n",
      "memory usage: 1.3+ GB\n"
     ]
    }
   ],
   "source": [
    "df_2.info()"
   ]
  },
  {
   "cell_type": "code",
   "execution_count": 70,
   "metadata": {},
   "outputs": [
    {
     "data": {
      "text/plain": [
       "1685126     3531544\n",
       "37025504    2570137\n",
       "751824      2221580\n",
       "497685      1518085\n",
       "1791497     1325354\n",
       "Name: uid, dtype: int64"
      ]
     },
     "execution_count": 70,
     "metadata": {},
     "output_type": "execute_result"
    }
   ],
   "source": [
    "active_2 = df_2.uid.value_counts()\n",
    "active_2[:5]"
   ]
  },
  {
   "cell_type": "code",
   "execution_count": 71,
   "metadata": {},
   "outputs": [
    {
     "data": {
      "text/plain": [
       "272501"
      ]
     },
     "execution_count": 71,
     "metadata": {},
     "output_type": "execute_result"
    }
   ],
   "source": [
    "active_set_2 = set(active_2.index)\n",
    "len(active_set_2)"
   ]
  },
  {
   "cell_type": "code",
   "execution_count": 73,
   "metadata": {},
   "outputs": [
    {
     "data": {
      "text/plain": [
       "238889"
      ]
     },
     "execution_count": 73,
     "metadata": {},
     "output_type": "execute_result"
    }
   ],
   "source": [
    "churn_set = active_set_1 - active_set_2\n",
    "len(churn_set)"
   ]
  },
  {
   "cell_type": "code",
   "execution_count": 74,
   "metadata": {},
   "outputs": [
    {
     "data": {
      "text/plain": [
       "233743"
      ]
     },
     "execution_count": 74,
     "metadata": {},
     "output_type": "execute_result"
    }
   ],
   "source": [
    "good_set = active_set_1 & active_set_2\n",
    "len(good_set)"
   ]
  },
  {
   "cell_type": "markdown",
   "metadata": {},
   "source": [
    "### Down Sampling"
   ]
  },
  {
   "cell_type": "code",
   "execution_count": 80,
   "metadata": {
    "collapsed": true
   },
   "outputs": [],
   "source": [
    "import random\n",
    "\n",
    "random.seed(42)"
   ]
  },
  {
   "cell_type": "code",
   "execution_count": 81,
   "metadata": {},
   "outputs": [
    {
     "data": {
      "text/plain": [
       "23374"
      ]
     },
     "execution_count": 81,
     "metadata": {},
     "output_type": "execute_result"
    }
   ],
   "source": [
    "good_sample = random.sample(good_set,len(good_set)/10)\n",
    "len(good_sample)"
   ]
  },
  {
   "cell_type": "code",
   "execution_count": 82,
   "metadata": {},
   "outputs": [
    {
     "data": {
      "text/plain": [
       "23888"
      ]
     },
     "execution_count": 82,
     "metadata": {},
     "output_type": "execute_result"
    }
   ],
   "source": [
    "churn_sample = random.sample(churn_set,len(churn_set)/10)\n",
    "len(churn_sample)"
   ]
  },
  {
   "cell_type": "code",
   "execution_count": 144,
   "metadata": {
    "collapsed": true
   },
   "outputs": [],
   "source": [
    "df_churn_log = df_1.loc[df_1.uid.isin(churn_sample),:]"
   ]
  },
  {
   "cell_type": "code",
   "execution_count": 90,
   "metadata": {},
   "outputs": [
    {
     "data": {
      "text/plain": [
       "(1507639, 3)"
      ]
     },
     "execution_count": 90,
     "metadata": {},
     "output_type": "execute_result"
    }
   ],
   "source": [
    "df_churn_log.shape"
   ]
  },
  {
   "cell_type": "code",
   "execution_count": 91,
   "metadata": {
    "collapsed": true
   },
   "outputs": [],
   "source": [
    "df_good_log = df_1.loc[df_1.uid.isin(good_sample),:]"
   ]
  },
  {
   "cell_type": "code",
   "execution_count": 92,
   "metadata": {},
   "outputs": [
    {
     "data": {
      "text/plain": [
       "(7577773, 3)"
      ]
     },
     "execution_count": 92,
     "metadata": {},
     "output_type": "execute_result"
    }
   ],
   "source": [
    "df_good_log.shape"
   ]
  },
  {
   "cell_type": "code",
   "execution_count": 145,
   "metadata": {},
   "outputs": [
    {
     "data": {
      "text/html": [
       "<div>\n",
       "<style>\n",
       "    .dataframe thead tr:only-child th {\n",
       "        text-align: right;\n",
       "    }\n",
       "\n",
       "    .dataframe thead th {\n",
       "        text-align: left;\n",
       "    }\n",
       "\n",
       "    .dataframe tbody tr th {\n",
       "        vertical-align: top;\n",
       "    }\n",
       "</style>\n",
       "<table border=\"1\" class=\"dataframe\">\n",
       "  <thead>\n",
       "    <tr style=\"text-align: right;\">\n",
       "      <th></th>\n",
       "      <th>uid</th>\n",
       "      <th>device</th>\n",
       "      <th>file_name</th>\n",
       "    </tr>\n",
       "  </thead>\n",
       "  <tbody>\n",
       "    <tr>\n",
       "      <th>23</th>\n",
       "      <td>168551179</td>\n",
       "      <td>ar</td>\n",
       "      <td>20170330_3_play.log</td>\n",
       "    </tr>\n",
       "    <tr>\n",
       "      <th>34</th>\n",
       "      <td>168551221</td>\n",
       "      <td>ar</td>\n",
       "      <td>20170330_3_play.log</td>\n",
       "    </tr>\n",
       "    <tr>\n",
       "      <th>45</th>\n",
       "      <td>168551397</td>\n",
       "      <td>ar</td>\n",
       "      <td>20170330_3_play.log</td>\n",
       "    </tr>\n",
       "    <tr>\n",
       "      <th>66</th>\n",
       "      <td>168549013</td>\n",
       "      <td>ip</td>\n",
       "      <td>20170330_3_play.log</td>\n",
       "    </tr>\n",
       "    <tr>\n",
       "      <th>76</th>\n",
       "      <td>168543049</td>\n",
       "      <td>ar</td>\n",
       "      <td>20170330_3_play.log</td>\n",
       "    </tr>\n",
       "  </tbody>\n",
       "</table>\n",
       "</div>"
      ],
      "text/plain": [
       "          uid device            file_name\n",
       "23  168551179     ar  20170330_3_play.log\n",
       "34  168551221     ar  20170330_3_play.log\n",
       "45  168551397     ar  20170330_3_play.log\n",
       "66  168549013     ip  20170330_3_play.log\n",
       "76  168543049     ar  20170330_3_play.log"
      ]
     },
     "execution_count": 145,
     "metadata": {},
     "output_type": "execute_result"
    }
   ],
   "source": [
    "df_churn_log.head()"
   ]
  },
  {
   "cell_type": "markdown",
   "metadata": {},
   "source": [
    "#####  play with the logs, and create features for churn prediction\n",
    "    \n",
    "    just a few examples"
   ]
  },
  {
   "cell_type": "code",
   "execution_count": 103,
   "metadata": {},
   "outputs": [
    {
     "data": {
      "text/plain": [
       "uid        file_name          \n",
       "100415077  20170331_1_play.log     39\n",
       "           20170402_1_play.log      3\n",
       "           20170403_1_play.log     13\n",
       "           20170408_1_play.log     31\n",
       "           20170411_1_play.log     13\n",
       "           20170415_1_play.log     32\n",
       "           20170417_1_play.log      7\n",
       "           20170418_1_play.log     66\n",
       "           20170419_1_play.log      1\n",
       "           20170420_1_play.log     27\n",
       "100549339  20170331_2_play.log     62\n",
       "           20170401_2_play.log     19\n",
       "           20170402_2_play.log     13\n",
       "           20170403_2_play.log     54\n",
       "           20170404_2_play.log     14\n",
       "           20170405_2_play.log     23\n",
       "           20170406_2_play.log     23\n",
       "           20170407_2_play.log     27\n",
       "           20170408_2_play.log      7\n",
       "           20170409_2_play.log      9\n",
       "           20170410_2_play.log      2\n",
       "           20170412_2_play.log      9\n",
       "           20170413_2_play.log      9\n",
       "           20170414_2_play.log      2\n",
       "           20170415_2_play.log     21\n",
       "           20170416_2_play.log     81\n",
       "           20170417_2_play.log      1\n",
       "           20170418_2_play.log     22\n",
       "           20170419_2_play.log     47\n",
       "           20170420_2_play.log     76\n",
       "                                 ... \n",
       "98574751   20170401_1_play.log     50\n",
       "           20170402_1_play.log     27\n",
       "           20170403_1_play.log    118\n",
       "           20170404_1_play.log     42\n",
       "           20170407_1_play.log     68\n",
       "           20170408_1_play.log     37\n",
       "           20170409_1_play.log    112\n",
       "           20170410_1_play.log     95\n",
       "           20170411_1_play.log    151\n",
       "           20170415_1_play.log      6\n",
       "           20170416_1_play.log      7\n",
       "           20170417_1_play.log    101\n",
       "           20170418_1_play.log     76\n",
       "           20170419_1_play.log     73\n",
       "           20170420_1_play.log     80\n",
       "           20170421_1_play.log    304\n",
       "99651190   20170330_3_play.log    190\n",
       "           20170331_3_play.log    129\n",
       "           20170401_3_play.log      8\n",
       "           20170402_3_play.log     35\n",
       "           20170405_3_play.log     10\n",
       "           20170406_3_play.log     10\n",
       "           20170409_3_play.log     34\n",
       "           20170410_3_play.log      1\n",
       "           20170412_3_play.log    111\n",
       "           20170415_3_play.log     24\n",
       "99725077   20170330_3_play.log     12\n",
       "           20170401_3_play.log     12\n",
       "           20170405_3_play.log      1\n",
       "           20170406_3_play.log      1\n",
       "Length: 188303, dtype: int64"
      ]
     },
     "execution_count": 103,
     "metadata": {},
     "output_type": "execute_result"
    }
   ],
   "source": [
    "df_good_log.groupby(['uid','file_name']).size()"
   ]
  },
  {
   "cell_type": "code",
   "execution_count": 105,
   "metadata": {},
   "outputs": [
    {
     "data": {
      "text/html": [
       "<div>\n",
       "<style>\n",
       "    .dataframe thead tr:only-child th {\n",
       "        text-align: right;\n",
       "    }\n",
       "\n",
       "    .dataframe thead th {\n",
       "        text-align: left;\n",
       "    }\n",
       "\n",
       "    .dataframe tbody tr th {\n",
       "        vertical-align: top;\n",
       "    }\n",
       "</style>\n",
       "<table border=\"1\" class=\"dataframe\">\n",
       "  <thead>\n",
       "    <tr style=\"text-align: right;\">\n",
       "      <th></th>\n",
       "      <th>uid</th>\n",
       "      <th>file_name</th>\n",
       "      <th>count</th>\n",
       "    </tr>\n",
       "  </thead>\n",
       "  <tbody>\n",
       "    <tr>\n",
       "      <th>0</th>\n",
       "      <td>100415077</td>\n",
       "      <td>20170331_1_play.log</td>\n",
       "      <td>39</td>\n",
       "    </tr>\n",
       "    <tr>\n",
       "      <th>1</th>\n",
       "      <td>100415077</td>\n",
       "      <td>20170402_1_play.log</td>\n",
       "      <td>3</td>\n",
       "    </tr>\n",
       "    <tr>\n",
       "      <th>2</th>\n",
       "      <td>100415077</td>\n",
       "      <td>20170403_1_play.log</td>\n",
       "      <td>13</td>\n",
       "    </tr>\n",
       "    <tr>\n",
       "      <th>3</th>\n",
       "      <td>100415077</td>\n",
       "      <td>20170408_1_play.log</td>\n",
       "      <td>31</td>\n",
       "    </tr>\n",
       "    <tr>\n",
       "      <th>4</th>\n",
       "      <td>100415077</td>\n",
       "      <td>20170411_1_play.log</td>\n",
       "      <td>13</td>\n",
       "    </tr>\n",
       "  </tbody>\n",
       "</table>\n",
       "</div>"
      ],
      "text/plain": [
       "         uid            file_name  count\n",
       "0  100415077  20170331_1_play.log     39\n",
       "1  100415077  20170402_1_play.log      3\n",
       "2  100415077  20170403_1_play.log     13\n",
       "3  100415077  20170408_1_play.log     31\n",
       "4  100415077  20170411_1_play.log     13"
      ]
     },
     "execution_count": 105,
     "metadata": {},
     "output_type": "execute_result"
    }
   ],
   "source": [
    "df_daily_good = df_good_log.groupby(['uid','file_name']).size().to_frame(name = 'count').reset_index()\n",
    "df_daily_good.head()"
   ]
  },
  {
   "cell_type": "code",
   "execution_count": 107,
   "metadata": {},
   "outputs": [
    {
     "data": {
      "text/html": [
       "<div>\n",
       "<style>\n",
       "    .dataframe thead tr:only-child th {\n",
       "        text-align: right;\n",
       "    }\n",
       "\n",
       "    .dataframe thead th {\n",
       "        text-align: left;\n",
       "    }\n",
       "\n",
       "    .dataframe tbody tr th {\n",
       "        vertical-align: top;\n",
       "    }\n",
       "</style>\n",
       "<table border=\"1\" class=\"dataframe\">\n",
       "  <thead>\n",
       "    <tr style=\"text-align: right;\">\n",
       "      <th></th>\n",
       "      <th>uid</th>\n",
       "      <th>device</th>\n",
       "      <th>count</th>\n",
       "    </tr>\n",
       "  </thead>\n",
       "  <tbody>\n",
       "    <tr>\n",
       "      <th>0</th>\n",
       "      <td>100415077</td>\n",
       "      <td>ar</td>\n",
       "      <td>232</td>\n",
       "    </tr>\n",
       "    <tr>\n",
       "      <th>1</th>\n",
       "      <td>100549339</td>\n",
       "      <td>ar</td>\n",
       "      <td>534</td>\n",
       "    </tr>\n",
       "    <tr>\n",
       "      <th>2</th>\n",
       "      <td>101372876</td>\n",
       "      <td>ar</td>\n",
       "      <td>328</td>\n",
       "    </tr>\n",
       "    <tr>\n",
       "      <th>3</th>\n",
       "      <td>102311569</td>\n",
       "      <td>ar</td>\n",
       "      <td>359</td>\n",
       "    </tr>\n",
       "    <tr>\n",
       "      <th>4</th>\n",
       "      <td>102393511</td>\n",
       "      <td>ar</td>\n",
       "      <td>356</td>\n",
       "    </tr>\n",
       "  </tbody>\n",
       "</table>\n",
       "</div>"
      ],
      "text/plain": [
       "         uid device  count\n",
       "0  100415077     ar    232\n",
       "1  100549339     ar    534\n",
       "2  101372876     ar    328\n",
       "3  102311569     ar    359\n",
       "4  102393511     ar    356"
      ]
     },
     "execution_count": 107,
     "metadata": {},
     "output_type": "execute_result"
    }
   ],
   "source": [
    "df_device_good = df_good_log.groupby(['uid','device']).size().to_frame(name = 'count').reset_index()\n",
    "df_device_good.head()"
   ]
  },
  {
   "cell_type": "code",
   "execution_count": 157,
   "metadata": {},
   "outputs": [
    {
     "name": "stderr",
     "output_type": "stream",
     "text": [
      "C:\\Users\\Sean\\Anaconda2\\lib\\site-packages\\ipykernel_launcher.py:3: SettingWithCopyWarning: \n",
      "A value is trying to be set on a copy of a slice from a DataFrame.\n",
      "Try using .loc[row_indexer,col_indexer] = value instead\n",
      "\n",
      "See the caveats in the documentation: http://pandas.pydata.org/pandas-docs/stable/indexing.html#indexing-view-versus-copy\n",
      "  This is separate from the ipykernel package so we can avoid doing imports until\n"
     ]
    },
    {
     "data": {
      "text/html": [
       "<div>\n",
       "<style>\n",
       "    .dataframe thead tr:only-child th {\n",
       "        text-align: right;\n",
       "    }\n",
       "\n",
       "    .dataframe thead th {\n",
       "        text-align: left;\n",
       "    }\n",
       "\n",
       "    .dataframe tbody tr th {\n",
       "        vertical-align: top;\n",
       "    }\n",
       "</style>\n",
       "<table border=\"1\" class=\"dataframe\">\n",
       "  <thead>\n",
       "    <tr style=\"text-align: right;\">\n",
       "      <th></th>\n",
       "      <th>uid</th>\n",
       "      <th>device</th>\n",
       "      <th>file_name</th>\n",
       "      <th>date</th>\n",
       "    </tr>\n",
       "  </thead>\n",
       "  <tbody>\n",
       "    <tr>\n",
       "      <th>23</th>\n",
       "      <td>168551179</td>\n",
       "      <td>ar</td>\n",
       "      <td>20170330_3_play.log</td>\n",
       "      <td>20170330</td>\n",
       "    </tr>\n",
       "    <tr>\n",
       "      <th>34</th>\n",
       "      <td>168551221</td>\n",
       "      <td>ar</td>\n",
       "      <td>20170330_3_play.log</td>\n",
       "      <td>20170330</td>\n",
       "    </tr>\n",
       "    <tr>\n",
       "      <th>45</th>\n",
       "      <td>168551397</td>\n",
       "      <td>ar</td>\n",
       "      <td>20170330_3_play.log</td>\n",
       "      <td>20170330</td>\n",
       "    </tr>\n",
       "    <tr>\n",
       "      <th>66</th>\n",
       "      <td>168549013</td>\n",
       "      <td>ip</td>\n",
       "      <td>20170330_3_play.log</td>\n",
       "      <td>20170330</td>\n",
       "    </tr>\n",
       "    <tr>\n",
       "      <th>76</th>\n",
       "      <td>168543049</td>\n",
       "      <td>ar</td>\n",
       "      <td>20170330_3_play.log</td>\n",
       "      <td>20170330</td>\n",
       "    </tr>\n",
       "  </tbody>\n",
       "</table>\n",
       "</div>"
      ],
      "text/plain": [
       "          uid device            file_name      date\n",
       "23  168551179     ar  20170330_3_play.log  20170330\n",
       "34  168551221     ar  20170330_3_play.log  20170330\n",
       "45  168551397     ar  20170330_3_play.log  20170330\n",
       "66  168549013     ip  20170330_3_play.log  20170330\n",
       "76  168543049     ar  20170330_3_play.log  20170330"
      ]
     },
     "execution_count": 157,
     "metadata": {},
     "output_type": "execute_result"
    }
   ],
   "source": [
    "import numpy as np\n",
    "\n",
    "df_churn_log['date'] = df_churn_log.file_name.str.split('_').apply(lambda x: x[0])\n",
    "df_churn_log.head()"
   ]
  },
  {
   "cell_type": "code",
   "execution_count": 161,
   "metadata": {},
   "outputs": [
    {
     "name": "stderr",
     "output_type": "stream",
     "text": [
      "C:\\Users\\Sean\\Anaconda2\\lib\\site-packages\\pandas\\core\\indexing.py:337: SettingWithCopyWarning: \n",
      "A value is trying to be set on a copy of a slice from a DataFrame.\n",
      "Try using .loc[row_indexer,col_indexer] = value instead\n",
      "\n",
      "See the caveats in the documentation: http://pandas.pydata.org/pandas-docs/stable/indexing.html#indexing-view-versus-copy\n",
      "  self.obj[key] = _infer_fill_value(value)\n",
      "C:\\Users\\Sean\\Anaconda2\\lib\\site-packages\\pandas\\core\\indexing.py:517: SettingWithCopyWarning: \n",
      "A value is trying to be set on a copy of a slice from a DataFrame.\n",
      "Try using .loc[row_indexer,col_indexer] = value instead\n",
      "\n",
      "See the caveats in the documentation: http://pandas.pydata.org/pandas-docs/stable/indexing.html#indexing-view-versus-copy\n",
      "  self.obj[item] = s\n"
     ]
    },
    {
     "data": {
      "text/html": [
       "<div>\n",
       "<style>\n",
       "    .dataframe thead tr:only-child th {\n",
       "        text-align: right;\n",
       "    }\n",
       "\n",
       "    .dataframe thead th {\n",
       "        text-align: left;\n",
       "    }\n",
       "\n",
       "    .dataframe tbody tr th {\n",
       "        vertical-align: top;\n",
       "    }\n",
       "</style>\n",
       "<table border=\"1\" class=\"dataframe\">\n",
       "  <thead>\n",
       "    <tr style=\"text-align: right;\">\n",
       "      <th></th>\n",
       "      <th>uid</th>\n",
       "      <th>device</th>\n",
       "      <th>file_name</th>\n",
       "      <th>date</th>\n",
       "      <th>label</th>\n",
       "    </tr>\n",
       "  </thead>\n",
       "  <tbody>\n",
       "    <tr>\n",
       "      <th>23</th>\n",
       "      <td>168551179</td>\n",
       "      <td>ar</td>\n",
       "      <td>20170330_3_play.log</td>\n",
       "      <td>20170330</td>\n",
       "      <td>1</td>\n",
       "    </tr>\n",
       "    <tr>\n",
       "      <th>34</th>\n",
       "      <td>168551221</td>\n",
       "      <td>ar</td>\n",
       "      <td>20170330_3_play.log</td>\n",
       "      <td>20170330</td>\n",
       "      <td>1</td>\n",
       "    </tr>\n",
       "    <tr>\n",
       "      <th>45</th>\n",
       "      <td>168551397</td>\n",
       "      <td>ar</td>\n",
       "      <td>20170330_3_play.log</td>\n",
       "      <td>20170330</td>\n",
       "      <td>1</td>\n",
       "    </tr>\n",
       "    <tr>\n",
       "      <th>66</th>\n",
       "      <td>168549013</td>\n",
       "      <td>ip</td>\n",
       "      <td>20170330_3_play.log</td>\n",
       "      <td>20170330</td>\n",
       "      <td>1</td>\n",
       "    </tr>\n",
       "    <tr>\n",
       "      <th>76</th>\n",
       "      <td>168543049</td>\n",
       "      <td>ar</td>\n",
       "      <td>20170330_3_play.log</td>\n",
       "      <td>20170330</td>\n",
       "      <td>1</td>\n",
       "    </tr>\n",
       "  </tbody>\n",
       "</table>\n",
       "</div>"
      ],
      "text/plain": [
       "          uid device            file_name      date  label\n",
       "23  168551179     ar  20170330_3_play.log  20170330      1\n",
       "34  168551221     ar  20170330_3_play.log  20170330      1\n",
       "45  168551397     ar  20170330_3_play.log  20170330      1\n",
       "66  168549013     ip  20170330_3_play.log  20170330      1\n",
       "76  168543049     ar  20170330_3_play.log  20170330      1"
      ]
     },
     "execution_count": 161,
     "metadata": {},
     "output_type": "execute_result"
    }
   ],
   "source": [
    "df_churn_log.loc[:,'label'] = 1\n",
    "df_churn_log.head()"
   ]
  },
  {
   "cell_type": "code",
   "execution_count": 167,
   "metadata": {},
   "outputs": [
    {
     "name": "stderr",
     "output_type": "stream",
     "text": [
      "C:\\Users\\Sean\\Anaconda2\\lib\\site-packages\\ipykernel_launcher.py:1: SettingWithCopyWarning: \n",
      "A value is trying to be set on a copy of a slice from a DataFrame.\n",
      "Try using .loc[row_indexer,col_indexer] = value instead\n",
      "\n",
      "See the caveats in the documentation: http://pandas.pydata.org/pandas-docs/stable/indexing.html#indexing-view-versus-copy\n",
      "  \"\"\"Entry point for launching an IPython kernel.\n"
     ]
    },
    {
     "data": {
      "text/html": [
       "<div>\n",
       "<style>\n",
       "    .dataframe thead tr:only-child th {\n",
       "        text-align: right;\n",
       "    }\n",
       "\n",
       "    .dataframe thead th {\n",
       "        text-align: left;\n",
       "    }\n",
       "\n",
       "    .dataframe tbody tr th {\n",
       "        vertical-align: top;\n",
       "    }\n",
       "</style>\n",
       "<table border=\"1\" class=\"dataframe\">\n",
       "  <thead>\n",
       "    <tr style=\"text-align: right;\">\n",
       "      <th></th>\n",
       "      <th>uid</th>\n",
       "      <th>device</th>\n",
       "      <th>file_name</th>\n",
       "      <th>date</th>\n",
       "    </tr>\n",
       "  </thead>\n",
       "  <tbody>\n",
       "    <tr>\n",
       "      <th>61</th>\n",
       "      <td>168534518</td>\n",
       "      <td>ar</td>\n",
       "      <td>20170330_3_play.log</td>\n",
       "      <td>20170330</td>\n",
       "    </tr>\n",
       "    <tr>\n",
       "      <th>80</th>\n",
       "      <td>751824</td>\n",
       "      <td>ar</td>\n",
       "      <td>20170330_3_play.log</td>\n",
       "      <td>20170330</td>\n",
       "    </tr>\n",
       "    <tr>\n",
       "      <th>99</th>\n",
       "      <td>168551186</td>\n",
       "      <td>ar</td>\n",
       "      <td>20170330_3_play.log</td>\n",
       "      <td>20170330</td>\n",
       "    </tr>\n",
       "    <tr>\n",
       "      <th>129</th>\n",
       "      <td>168548840</td>\n",
       "      <td>ip</td>\n",
       "      <td>20170330_3_play.log</td>\n",
       "      <td>20170330</td>\n",
       "    </tr>\n",
       "    <tr>\n",
       "      <th>135</th>\n",
       "      <td>168547123</td>\n",
       "      <td>ar</td>\n",
       "      <td>20170330_3_play.log</td>\n",
       "      <td>20170330</td>\n",
       "    </tr>\n",
       "  </tbody>\n",
       "</table>\n",
       "</div>"
      ],
      "text/plain": [
       "           uid device            file_name      date\n",
       "61   168534518     ar  20170330_3_play.log  20170330\n",
       "80      751824     ar  20170330_3_play.log  20170330\n",
       "99   168551186     ar  20170330_3_play.log  20170330\n",
       "129  168548840     ip  20170330_3_play.log  20170330\n",
       "135  168547123     ar  20170330_3_play.log  20170330"
      ]
     },
     "execution_count": 167,
     "metadata": {},
     "output_type": "execute_result"
    }
   ],
   "source": [
    "df_good_log['date'] = df_good_log.file_name.str.split('_').apply(lambda x: x[0])\n",
    "df_good_log.head()"
   ]
  },
  {
   "cell_type": "code",
   "execution_count": 168,
   "metadata": {},
   "outputs": [
    {
     "data": {
      "text/html": [
       "<div>\n",
       "<style>\n",
       "    .dataframe thead tr:only-child th {\n",
       "        text-align: right;\n",
       "    }\n",
       "\n",
       "    .dataframe thead th {\n",
       "        text-align: left;\n",
       "    }\n",
       "\n",
       "    .dataframe tbody tr th {\n",
       "        vertical-align: top;\n",
       "    }\n",
       "</style>\n",
       "<table border=\"1\" class=\"dataframe\">\n",
       "  <thead>\n",
       "    <tr style=\"text-align: right;\">\n",
       "      <th></th>\n",
       "      <th>uid</th>\n",
       "      <th>device</th>\n",
       "      <th>file_name</th>\n",
       "      <th>date</th>\n",
       "      <th>label</th>\n",
       "    </tr>\n",
       "  </thead>\n",
       "  <tbody>\n",
       "    <tr>\n",
       "      <th>61</th>\n",
       "      <td>168534518</td>\n",
       "      <td>ar</td>\n",
       "      <td>20170330_3_play.log</td>\n",
       "      <td>20170330</td>\n",
       "      <td>0</td>\n",
       "    </tr>\n",
       "    <tr>\n",
       "      <th>80</th>\n",
       "      <td>751824</td>\n",
       "      <td>ar</td>\n",
       "      <td>20170330_3_play.log</td>\n",
       "      <td>20170330</td>\n",
       "      <td>0</td>\n",
       "    </tr>\n",
       "    <tr>\n",
       "      <th>99</th>\n",
       "      <td>168551186</td>\n",
       "      <td>ar</td>\n",
       "      <td>20170330_3_play.log</td>\n",
       "      <td>20170330</td>\n",
       "      <td>0</td>\n",
       "    </tr>\n",
       "    <tr>\n",
       "      <th>129</th>\n",
       "      <td>168548840</td>\n",
       "      <td>ip</td>\n",
       "      <td>20170330_3_play.log</td>\n",
       "      <td>20170330</td>\n",
       "      <td>0</td>\n",
       "    </tr>\n",
       "    <tr>\n",
       "      <th>135</th>\n",
       "      <td>168547123</td>\n",
       "      <td>ar</td>\n",
       "      <td>20170330_3_play.log</td>\n",
       "      <td>20170330</td>\n",
       "      <td>0</td>\n",
       "    </tr>\n",
       "  </tbody>\n",
       "</table>\n",
       "</div>"
      ],
      "text/plain": [
       "           uid device            file_name      date  label\n",
       "61   168534518     ar  20170330_3_play.log  20170330      0\n",
       "80      751824     ar  20170330_3_play.log  20170330      0\n",
       "99   168551186     ar  20170330_3_play.log  20170330      0\n",
       "129  168548840     ip  20170330_3_play.log  20170330      0\n",
       "135  168547123     ar  20170330_3_play.log  20170330      0"
      ]
     },
     "execution_count": 168,
     "metadata": {},
     "output_type": "execute_result"
    }
   ],
   "source": [
    "df_good_log.loc[:,'label'] = 0\n",
    "df_good_log.head()"
   ]
  },
  {
   "cell_type": "code",
   "execution_count": 169,
   "metadata": {},
   "outputs": [
    {
     "name": "stdout",
     "output_type": "stream",
     "text": [
      "<class 'pandas.core.frame.DataFrame'>\n",
      "Int64Index: 9085412 entries, 61 to 82001380\n",
      "Data columns (total 5 columns):\n",
      "uid          object\n",
      "device       object\n",
      "file_name    object\n",
      "date         object\n",
      "label        int64\n",
      "dtypes: int64(1), object(4)\n",
      "memory usage: 415.9+ MB\n"
     ]
    }
   ],
   "source": [
    "df_complete = pd.concat([df_good_log,df_churn_log])\n",
    "df_complete.info()"
   ]
  },
  {
   "cell_type": "code",
   "execution_count": 170,
   "metadata": {},
   "outputs": [
    {
     "data": {
      "text/plain": [
       "array([0, 1], dtype=int64)"
      ]
     },
     "execution_count": 170,
     "metadata": {},
     "output_type": "execute_result"
    }
   ],
   "source": [
    "df_complete.label.unique()"
   ]
  },
  {
   "cell_type": "code",
   "execution_count": 171,
   "metadata": {},
   "outputs": [
    {
     "data": {
      "text/plain": [
       "array(['20170330', '20170331', '20170401', '20170402', '20170403',\n",
       "       '20170404', '20170405', '20170406', '20170407', '20170408',\n",
       "       '20170409', '20170410', '20170411', '20170412', '20170413',\n",
       "       '20170414', '20170415', '20170416', '20170417', '20170418',\n",
       "       '20170419', '20170420', '20170421'], dtype=object)"
      ]
     },
     "execution_count": 171,
     "metadata": {},
     "output_type": "execute_result"
    }
   ],
   "source": [
    "df_complete.date.unique()"
   ]
  },
  {
   "cell_type": "code",
   "execution_count": null,
   "metadata": {
    "collapsed": true
   },
   "outputs": [],
   "source": []
  }
 ],
 "metadata": {
  "kernelspec": {
   "display_name": "Python 2",
   "language": "python",
   "name": "python2"
  },
  "language_info": {
   "codemirror_mode": {
    "name": "ipython",
    "version": 2
   },
   "file_extension": ".py",
   "mimetype": "text/x-python",
   "name": "python",
   "nbconvert_exporter": "python",
   "pygments_lexer": "ipython2",
   "version": "2.7.13"
  }
 },
 "nbformat": 4,
 "nbformat_minor": 2
}
