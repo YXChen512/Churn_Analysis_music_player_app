{
 "cells": [
  {
   "cell_type": "code",
   "execution_count": 1,
   "metadata": {
    "collapsed": true
   },
   "outputs": [],
   "source": [
    "import numpy as np\n",
    "import pandas as pd"
   ]
  },
  {
   "cell_type": "code",
   "execution_count": 357,
   "metadata": {},
   "outputs": [
    {
     "data": {
      "text/html": [
       "<div>\n",
       "<style>\n",
       "    .dataframe thead tr:only-child th {\n",
       "        text-align: right;\n",
       "    }\n",
       "\n",
       "    .dataframe thead th {\n",
       "        text-align: left;\n",
       "    }\n",
       "\n",
       "    .dataframe tbody tr th {\n",
       "        vertical-align: top;\n",
       "    }\n",
       "</style>\n",
       "<table border=\"1\" class=\"dataframe\">\n",
       "  <thead>\n",
       "    <tr style=\"text-align: right;\">\n",
       "      <th></th>\n",
       "      <th>uid</th>\n",
       "      <th>device</th>\n",
       "      <th>major_song_type</th>\n",
       "      <th>total_play_time</th>\n",
       "      <th>popular_songs_ratio</th>\n",
       "      <th>avg_play_time</th>\n",
       "      <th>least_popular_count</th>\n",
       "      <th>most_popular_count</th>\n",
       "      <th>count_play_23</th>\n",
       "      <th>avg_complete_ratio</th>\n",
       "      <th>...</th>\n",
       "      <th>ratio_3_over_14</th>\n",
       "      <th>ratio_7_over_14</th>\n",
       "      <th>ratio_1_over_23</th>\n",
       "      <th>ratio_3_over_23</th>\n",
       "      <th>ratio_7_over_23</th>\n",
       "      <th>ratio_14_over_23</th>\n",
       "      <th>active_days</th>\n",
       "      <th>days_since_last_play</th>\n",
       "      <th>label</th>\n",
       "      <th>play_time_bins</th>\n",
       "    </tr>\n",
       "  </thead>\n",
       "  <tbody>\n",
       "    <tr>\n",
       "      <th>0</th>\n",
       "      <td>533817</td>\n",
       "      <td>ar</td>\n",
       "      <td>0</td>\n",
       "      <td>1.557662e+07</td>\n",
       "      <td>0.191024</td>\n",
       "      <td>11355.430927</td>\n",
       "      <td>262.0</td>\n",
       "      <td>23236.0</td>\n",
       "      <td>82304.0</td>\n",
       "      <td>0.889454</td>\n",
       "      <td>...</td>\n",
       "      <td>0.210679</td>\n",
       "      <td>0.518036</td>\n",
       "      <td>0.037301</td>\n",
       "      <td>0.129155</td>\n",
       "      <td>0.317579</td>\n",
       "      <td>0.613044</td>\n",
       "      <td>23</td>\n",
       "      <td>1</td>\n",
       "      <td>0</td>\n",
       "      <td>[2000,inf)</td>\n",
       "    </tr>\n",
       "    <tr>\n",
       "      <th>1</th>\n",
       "      <td>751824</td>\n",
       "      <td>ar</td>\n",
       "      <td>1</td>\n",
       "      <td>3.848332e+07</td>\n",
       "      <td>0.173797</td>\n",
       "      <td>323888.268341</td>\n",
       "      <td>422.0</td>\n",
       "      <td>1866.0</td>\n",
       "      <td>7129.0</td>\n",
       "      <td>0.933828</td>\n",
       "      <td>...</td>\n",
       "      <td>0.000000</td>\n",
       "      <td>0.237340</td>\n",
       "      <td>0.000000</td>\n",
       "      <td>0.000000</td>\n",
       "      <td>0.237340</td>\n",
       "      <td>1.000000</td>\n",
       "      <td>4</td>\n",
       "      <td>4</td>\n",
       "      <td>0</td>\n",
       "      <td>[2000,inf)</td>\n",
       "    </tr>\n",
       "    <tr>\n",
       "      <th>2</th>\n",
       "      <td>924065</td>\n",
       "      <td>ar</td>\n",
       "      <td>0</td>\n",
       "      <td>5.289638e+06</td>\n",
       "      <td>0.136762</td>\n",
       "      <td>10662.084456</td>\n",
       "      <td>8.0</td>\n",
       "      <td>8691.0</td>\n",
       "      <td>29767.0</td>\n",
       "      <td>0.326098</td>\n",
       "      <td>...</td>\n",
       "      <td>0.031905</td>\n",
       "      <td>0.090880</td>\n",
       "      <td>0.017536</td>\n",
       "      <td>0.026607</td>\n",
       "      <td>0.075789</td>\n",
       "      <td>0.833944</td>\n",
       "      <td>23</td>\n",
       "      <td>1</td>\n",
       "      <td>0</td>\n",
       "      <td>[2000,inf)</td>\n",
       "    </tr>\n",
       "    <tr>\n",
       "      <th>3</th>\n",
       "      <td>1342999</td>\n",
       "      <td>ar</td>\n",
       "      <td>0</td>\n",
       "      <td>6.639750e+03</td>\n",
       "      <td>0.222527</td>\n",
       "      <td>99.496753</td>\n",
       "      <td>2.0</td>\n",
       "      <td>1479.0</td>\n",
       "      <td>4004.0</td>\n",
       "      <td>0.475512</td>\n",
       "      <td>...</td>\n",
       "      <td>0.269023</td>\n",
       "      <td>0.475298</td>\n",
       "      <td>0.137862</td>\n",
       "      <td>0.186314</td>\n",
       "      <td>0.329171</td>\n",
       "      <td>0.692557</td>\n",
       "      <td>20</td>\n",
       "      <td>1</td>\n",
       "      <td>0</td>\n",
       "      <td>[2000,inf)</td>\n",
       "    </tr>\n",
       "    <tr>\n",
       "      <th>4</th>\n",
       "      <td>1620163</td>\n",
       "      <td>ar</td>\n",
       "      <td>1</td>\n",
       "      <td>4.837500e+02</td>\n",
       "      <td>0.097222</td>\n",
       "      <td>80.625000</td>\n",
       "      <td>2.0</td>\n",
       "      <td>51.0</td>\n",
       "      <td>360.0</td>\n",
       "      <td>0.409716</td>\n",
       "      <td>...</td>\n",
       "      <td>0.000000</td>\n",
       "      <td>0.400000</td>\n",
       "      <td>0.000000</td>\n",
       "      <td>0.000000</td>\n",
       "      <td>0.172222</td>\n",
       "      <td>0.430556</td>\n",
       "      <td>5</td>\n",
       "      <td>7</td>\n",
       "      <td>0</td>\n",
       "      <td>[200, 1000)</td>\n",
       "    </tr>\n",
       "  </tbody>\n",
       "</table>\n",
       "<p>5 rows × 24 columns</p>\n",
       "</div>"
      ],
      "text/plain": [
       "       uid device major_song_type  total_play_time  popular_songs_ratio  \\\n",
       "0   533817     ar               0     1.557662e+07             0.191024   \n",
       "1   751824     ar               1     3.848332e+07             0.173797   \n",
       "2   924065     ar               0     5.289638e+06             0.136762   \n",
       "3  1342999     ar               0     6.639750e+03             0.222527   \n",
       "4  1620163     ar               1     4.837500e+02             0.097222   \n",
       "\n",
       "   avg_play_time  least_popular_count  most_popular_count  count_play_23  \\\n",
       "0   11355.430927                262.0             23236.0        82304.0   \n",
       "1  323888.268341                422.0              1866.0         7129.0   \n",
       "2   10662.084456                  8.0              8691.0        29767.0   \n",
       "3      99.496753                  2.0              1479.0         4004.0   \n",
       "4      80.625000                  2.0                51.0          360.0   \n",
       "\n",
       "   avg_complete_ratio       ...        ratio_3_over_14  ratio_7_over_14  \\\n",
       "0            0.889454       ...               0.210679         0.518036   \n",
       "1            0.933828       ...               0.000000         0.237340   \n",
       "2            0.326098       ...               0.031905         0.090880   \n",
       "3            0.475512       ...               0.269023         0.475298   \n",
       "4            0.409716       ...               0.000000         0.400000   \n",
       "\n",
       "   ratio_1_over_23  ratio_3_over_23  ratio_7_over_23  ratio_14_over_23  \\\n",
       "0         0.037301         0.129155         0.317579          0.613044   \n",
       "1         0.000000         0.000000         0.237340          1.000000   \n",
       "2         0.017536         0.026607         0.075789          0.833944   \n",
       "3         0.137862         0.186314         0.329171          0.692557   \n",
       "4         0.000000         0.000000         0.172222          0.430556   \n",
       "\n",
       "   active_days  days_since_last_play  label  play_time_bins  \n",
       "0           23                     1      0      [2000,inf)  \n",
       "1            4                     4      0      [2000,inf)  \n",
       "2           23                     1      0      [2000,inf)  \n",
       "3           20                     1      0      [2000,inf)  \n",
       "4            5                     7      0     [200, 1000)  \n",
       "\n",
       "[5 rows x 24 columns]"
      ]
     },
     "execution_count": 357,
     "metadata": {},
     "output_type": "execute_result"
    }
   ],
   "source": [
    "feature_pickle = 'C:\\\\Users\\\\Sean\\\\Documents\\\\BitTiger\\\\Capston_music_player_python\\\\modified_features_and_label.pkl'\n",
    "df = pd.read_pickle(feature_pickle)\n",
    "df.head()"
   ]
  },
  {
   "cell_type": "code",
   "execution_count": 358,
   "metadata": {},
   "outputs": [
    {
     "data": {
      "text/plain": [
       "(25389, 23)"
      ]
     },
     "execution_count": 358,
     "metadata": {},
     "output_type": "execute_result"
    }
   ],
   "source": [
    "df = df.set_index('uid')\n",
    "df.shape"
   ]
  },
  {
   "cell_type": "code",
   "execution_count": 359,
   "metadata": {},
   "outputs": [
    {
     "data": {
      "text/html": [
       "<div>\n",
       "<style>\n",
       "    .dataframe thead tr:only-child th {\n",
       "        text-align: right;\n",
       "    }\n",
       "\n",
       "    .dataframe thead th {\n",
       "        text-align: left;\n",
       "    }\n",
       "\n",
       "    .dataframe tbody tr th {\n",
       "        vertical-align: top;\n",
       "    }\n",
       "</style>\n",
       "<table border=\"1\" class=\"dataframe\">\n",
       "  <thead>\n",
       "    <tr style=\"text-align: right;\">\n",
       "      <th></th>\n",
       "      <th>total_play_time</th>\n",
       "      <th>popular_songs_ratio</th>\n",
       "      <th>avg_play_time</th>\n",
       "      <th>least_popular_count</th>\n",
       "      <th>most_popular_count</th>\n",
       "      <th>count_play_23</th>\n",
       "      <th>avg_complete_ratio</th>\n",
       "      <th>ratio_1_over_3</th>\n",
       "      <th>ratio_1_over_7</th>\n",
       "      <th>ratio_3_over_7</th>\n",
       "      <th>...</th>\n",
       "      <th>device_ar</th>\n",
       "      <th>device_ip</th>\n",
       "      <th>major_song_type_0</th>\n",
       "      <th>major_song_type_1</th>\n",
       "      <th>major_song_type_2</th>\n",
       "      <th>major_song_type_3</th>\n",
       "      <th>play_time_bins_[0, 200)</th>\n",
       "      <th>play_time_bins_[200, 1000)</th>\n",
       "      <th>play_time_bins_[1000, 2000)</th>\n",
       "      <th>play_time_bins_[2000,inf)</th>\n",
       "    </tr>\n",
       "    <tr>\n",
       "      <th>uid</th>\n",
       "      <th></th>\n",
       "      <th></th>\n",
       "      <th></th>\n",
       "      <th></th>\n",
       "      <th></th>\n",
       "      <th></th>\n",
       "      <th></th>\n",
       "      <th></th>\n",
       "      <th></th>\n",
       "      <th></th>\n",
       "      <th></th>\n",
       "      <th></th>\n",
       "      <th></th>\n",
       "      <th></th>\n",
       "      <th></th>\n",
       "      <th></th>\n",
       "      <th></th>\n",
       "      <th></th>\n",
       "      <th></th>\n",
       "      <th></th>\n",
       "      <th></th>\n",
       "    </tr>\n",
       "  </thead>\n",
       "  <tbody>\n",
       "    <tr>\n",
       "      <th>533817</th>\n",
       "      <td>1.557662e+07</td>\n",
       "      <td>0.191024</td>\n",
       "      <td>11355.430927</td>\n",
       "      <td>262.0</td>\n",
       "      <td>23236.0</td>\n",
       "      <td>82304.0</td>\n",
       "      <td>0.889454</td>\n",
       "      <td>0.288805</td>\n",
       "      <td>0.117454</td>\n",
       "      <td>0.406688</td>\n",
       "      <td>...</td>\n",
       "      <td>1</td>\n",
       "      <td>0</td>\n",
       "      <td>1</td>\n",
       "      <td>0</td>\n",
       "      <td>0</td>\n",
       "      <td>0</td>\n",
       "      <td>0</td>\n",
       "      <td>0</td>\n",
       "      <td>0</td>\n",
       "      <td>1</td>\n",
       "    </tr>\n",
       "    <tr>\n",
       "      <th>751824</th>\n",
       "      <td>3.848332e+07</td>\n",
       "      <td>0.173797</td>\n",
       "      <td>323888.268341</td>\n",
       "      <td>422.0</td>\n",
       "      <td>1866.0</td>\n",
       "      <td>7129.0</td>\n",
       "      <td>0.933828</td>\n",
       "      <td>0.000000</td>\n",
       "      <td>0.000000</td>\n",
       "      <td>0.000000</td>\n",
       "      <td>...</td>\n",
       "      <td>1</td>\n",
       "      <td>0</td>\n",
       "      <td>0</td>\n",
       "      <td>1</td>\n",
       "      <td>0</td>\n",
       "      <td>0</td>\n",
       "      <td>0</td>\n",
       "      <td>0</td>\n",
       "      <td>0</td>\n",
       "      <td>1</td>\n",
       "    </tr>\n",
       "    <tr>\n",
       "      <th>924065</th>\n",
       "      <td>5.289638e+06</td>\n",
       "      <td>0.136762</td>\n",
       "      <td>10662.084456</td>\n",
       "      <td>8.0</td>\n",
       "      <td>8691.0</td>\n",
       "      <td>29767.0</td>\n",
       "      <td>0.326098</td>\n",
       "      <td>0.659091</td>\n",
       "      <td>0.231383</td>\n",
       "      <td>0.351064</td>\n",
       "      <td>...</td>\n",
       "      <td>1</td>\n",
       "      <td>0</td>\n",
       "      <td>1</td>\n",
       "      <td>0</td>\n",
       "      <td>0</td>\n",
       "      <td>0</td>\n",
       "      <td>0</td>\n",
       "      <td>0</td>\n",
       "      <td>0</td>\n",
       "      <td>1</td>\n",
       "    </tr>\n",
       "    <tr>\n",
       "      <th>1342999</th>\n",
       "      <td>6.639750e+03</td>\n",
       "      <td>0.222527</td>\n",
       "      <td>99.496753</td>\n",
       "      <td>2.0</td>\n",
       "      <td>1479.0</td>\n",
       "      <td>4004.0</td>\n",
       "      <td>0.475512</td>\n",
       "      <td>0.739946</td>\n",
       "      <td>0.418816</td>\n",
       "      <td>0.566009</td>\n",
       "      <td>...</td>\n",
       "      <td>1</td>\n",
       "      <td>0</td>\n",
       "      <td>1</td>\n",
       "      <td>0</td>\n",
       "      <td>0</td>\n",
       "      <td>0</td>\n",
       "      <td>0</td>\n",
       "      <td>0</td>\n",
       "      <td>0</td>\n",
       "      <td>1</td>\n",
       "    </tr>\n",
       "    <tr>\n",
       "      <th>1620163</th>\n",
       "      <td>4.837500e+02</td>\n",
       "      <td>0.097222</td>\n",
       "      <td>80.625000</td>\n",
       "      <td>2.0</td>\n",
       "      <td>51.0</td>\n",
       "      <td>360.0</td>\n",
       "      <td>0.409716</td>\n",
       "      <td>0.000000</td>\n",
       "      <td>0.000000</td>\n",
       "      <td>0.000000</td>\n",
       "      <td>...</td>\n",
       "      <td>1</td>\n",
       "      <td>0</td>\n",
       "      <td>0</td>\n",
       "      <td>1</td>\n",
       "      <td>0</td>\n",
       "      <td>0</td>\n",
       "      <td>0</td>\n",
       "      <td>1</td>\n",
       "      <td>0</td>\n",
       "      <td>0</td>\n",
       "    </tr>\n",
       "  </tbody>\n",
       "</table>\n",
       "<p>5 rows × 29 columns</p>\n",
       "</div>"
      ],
      "text/plain": [
       "         total_play_time  popular_songs_ratio  avg_play_time  \\\n",
       "uid                                                            \n",
       "533817      1.557662e+07             0.191024   11355.430927   \n",
       "751824      3.848332e+07             0.173797  323888.268341   \n",
       "924065      5.289638e+06             0.136762   10662.084456   \n",
       "1342999     6.639750e+03             0.222527      99.496753   \n",
       "1620163     4.837500e+02             0.097222      80.625000   \n",
       "\n",
       "         least_popular_count  most_popular_count  count_play_23  \\\n",
       "uid                                                               \n",
       "533817                 262.0             23236.0        82304.0   \n",
       "751824                 422.0              1866.0         7129.0   \n",
       "924065                   8.0              8691.0        29767.0   \n",
       "1342999                  2.0              1479.0         4004.0   \n",
       "1620163                  2.0                51.0          360.0   \n",
       "\n",
       "         avg_complete_ratio  ratio_1_over_3  ratio_1_over_7  ratio_3_over_7  \\\n",
       "uid                                                                           \n",
       "533817             0.889454        0.288805        0.117454        0.406688   \n",
       "751824             0.933828        0.000000        0.000000        0.000000   \n",
       "924065             0.326098        0.659091        0.231383        0.351064   \n",
       "1342999            0.475512        0.739946        0.418816        0.566009   \n",
       "1620163            0.409716        0.000000        0.000000        0.000000   \n",
       "\n",
       "                   ...              device_ar  device_ip  major_song_type_0  \\\n",
       "uid                ...                                                        \n",
       "533817             ...                      1          0                  1   \n",
       "751824             ...                      1          0                  0   \n",
       "924065             ...                      1          0                  1   \n",
       "1342999            ...                      1          0                  1   \n",
       "1620163            ...                      1          0                  0   \n",
       "\n",
       "         major_song_type_1  major_song_type_2  major_song_type_3  \\\n",
       "uid                                                                \n",
       "533817                   0                  0                  0   \n",
       "751824                   1                  0                  0   \n",
       "924065                   0                  0                  0   \n",
       "1342999                  0                  0                  0   \n",
       "1620163                  1                  0                  0   \n",
       "\n",
       "         play_time_bins_[0, 200)  play_time_bins_[200, 1000)  \\\n",
       "uid                                                            \n",
       "533817                         0                           0   \n",
       "751824                         0                           0   \n",
       "924065                         0                           0   \n",
       "1342999                        0                           0   \n",
       "1620163                        0                           1   \n",
       "\n",
       "         play_time_bins_[1000, 2000)  play_time_bins_[2000,inf)  \n",
       "uid                                                              \n",
       "533817                             0                          1  \n",
       "751824                             0                          1  \n",
       "924065                             0                          1  \n",
       "1342999                            0                          1  \n",
       "1620163                            0                          0  \n",
       "\n",
       "[5 rows x 29 columns]"
      ]
     },
     "execution_count": 359,
     "metadata": {},
     "output_type": "execute_result"
    }
   ],
   "source": [
    "df_dummies = pd.get_dummies(df,columns = ['device','major_song_type','play_time_bins'])\n",
    "df_dummies = df_dummies.drop('label',axis = 1)\n",
    "df_dummies.head()"
   ]
  },
  {
   "cell_type": "code",
   "execution_count": 360,
   "metadata": {},
   "outputs": [],
   "source": [
    "X = df_dummies.values\n",
    "y = df.label.values"
   ]
  },
  {
   "cell_type": "code",
   "execution_count": 361,
   "metadata": {},
   "outputs": [
    {
     "data": {
      "text/plain": [
       "((25389L, 29L), (25389L,))"
      ]
     },
     "execution_count": 361,
     "metadata": {},
     "output_type": "execute_result"
    }
   ],
   "source": [
    "X.shape, y.shape"
   ]
  },
  {
   "cell_type": "code",
   "execution_count": 362,
   "metadata": {},
   "outputs": [
    {
     "data": {
      "text/plain": [
       "((7617L, 29L), (7617L,))"
      ]
     },
     "execution_count": 362,
     "metadata": {},
     "output_type": "execute_result"
    }
   ],
   "source": [
    "from sklearn.cross_validation import train_test_split\n",
    "X_train, X_test, y_train, y_test = train_test_split(X, y, test_size=0.3, random_state=42)\n",
    "\n",
    "X_test.shape, y_test.shape"
   ]
  },
  {
   "cell_type": "code",
   "execution_count": 363,
   "metadata": {
    "collapsed": true
   },
   "outputs": [],
   "source": [
    "from sklearn.metrics import confusion_matrix, classification_report, roc_curve, roc_auc_score"
   ]
  },
  {
   "cell_type": "code",
   "execution_count": 364,
   "metadata": {
    "scrolled": true
   },
   "outputs": [
    {
     "data": {
      "text/plain": [
       "RandomForestClassifier(bootstrap=True, class_weight=None, criterion='entropy',\n",
       "            max_depth=10, max_features='auto', max_leaf_nodes=None,\n",
       "            min_impurity_split=0.1, min_samples_leaf=20,\n",
       "            min_samples_split=50, min_weight_fraction_leaf=0.0,\n",
       "            n_estimators=200, n_jobs=-1, oob_score=False,\n",
       "            random_state=None, verbose=0, warm_start=False)"
      ]
     },
     "execution_count": 364,
     "metadata": {},
     "output_type": "execute_result"
    }
   ],
   "source": [
    "from sklearn.ensemble import RandomForestClassifier\n",
    "\n",
    "model_rfc = RandomForestClassifier(max_depth=10, n_estimators=200, min_samples_leaf=20, criterion='entropy',\n",
    "                                   min_samples_split=50, min_impurity_split=0.1, max_features = 'auto', n_jobs = -1)\n",
    "\n",
    "model_rfc.fit(X_train, y_train)"
   ]
  },
  {
   "cell_type": "code",
   "execution_count": 365,
   "metadata": {},
   "outputs": [
    {
     "data": {
      "text/plain": [
       "(0.79304523970290342, 0.75909150584219509)"
      ]
     },
     "execution_count": 365,
     "metadata": {},
     "output_type": "execute_result"
    }
   ],
   "source": [
    "model_rfc.score(X_train, y_train),model_rfc.score(X_test, y_test)"
   ]
  },
  {
   "cell_type": "code",
   "execution_count": 366,
   "metadata": {},
   "outputs": [
    {
     "data": {
      "text/plain": [
       "0.75909411189624065"
      ]
     },
     "execution_count": 366,
     "metadata": {},
     "output_type": "execute_result"
    }
   ],
   "source": [
    "roc_auc_score(y_test, model_rfc.predict(X_test))"
   ]
  },
  {
   "cell_type": "code",
   "execution_count": 367,
   "metadata": {},
   "outputs": [
    {
     "data": {
      "text/plain": [
       "array([ 0.04569723,  0.02124966,  0.02153719,  0.00816793,  0.02594464,\n",
       "        0.0473065 ,  0.01818131,  0.02523562,  0.03115806,  0.10503994,\n",
       "        0.03415842,  0.08681818,  0.07843497,  0.02651713,  0.07371368,\n",
       "        0.07791938,  0.03696407,  0.06863216,  0.13867989,  0.00352584,\n",
       "        0.00362944,  0.00071853,  0.00067436,  0.        ,  0.        ,\n",
       "        0.01489924,  0.00304932,  0.00128086,  0.00086647])"
      ]
     },
     "execution_count": 367,
     "metadata": {},
     "output_type": "execute_result"
    }
   ],
   "source": [
    "importance_coeff = model_rfc.feature_importances_\n",
    "importance_coeff"
   ]
  },
  {
   "cell_type": "code",
   "execution_count": 368,
   "metadata": {},
   "outputs": [
    {
     "data": {
      "text/html": [
       "<div>\n",
       "<style>\n",
       "    .dataframe thead tr:only-child th {\n",
       "        text-align: right;\n",
       "    }\n",
       "\n",
       "    .dataframe thead th {\n",
       "        text-align: left;\n",
       "    }\n",
       "\n",
       "    .dataframe tbody tr th {\n",
       "        vertical-align: top;\n",
       "    }\n",
       "</style>\n",
       "<table border=\"1\" class=\"dataframe\">\n",
       "  <thead>\n",
       "    <tr style=\"text-align: right;\">\n",
       "      <th></th>\n",
       "      <th>feature</th>\n",
       "      <th>coeff</th>\n",
       "    </tr>\n",
       "  </thead>\n",
       "  <tbody>\n",
       "    <tr>\n",
       "      <th>18</th>\n",
       "      <td>days_since_last_play</td>\n",
       "      <td>0.138680</td>\n",
       "    </tr>\n",
       "    <tr>\n",
       "      <th>9</th>\n",
       "      <td>ratio_3_over_7</td>\n",
       "      <td>0.105040</td>\n",
       "    </tr>\n",
       "    <tr>\n",
       "      <th>11</th>\n",
       "      <td>ratio_3_over_14</td>\n",
       "      <td>0.086818</td>\n",
       "    </tr>\n",
       "    <tr>\n",
       "      <th>12</th>\n",
       "      <td>ratio_7_over_14</td>\n",
       "      <td>0.078435</td>\n",
       "    </tr>\n",
       "    <tr>\n",
       "      <th>15</th>\n",
       "      <td>ratio_7_over_23</td>\n",
       "      <td>0.077919</td>\n",
       "    </tr>\n",
       "    <tr>\n",
       "      <th>14</th>\n",
       "      <td>ratio_3_over_23</td>\n",
       "      <td>0.073714</td>\n",
       "    </tr>\n",
       "    <tr>\n",
       "      <th>17</th>\n",
       "      <td>active_days</td>\n",
       "      <td>0.068632</td>\n",
       "    </tr>\n",
       "    <tr>\n",
       "      <th>5</th>\n",
       "      <td>count_play_23</td>\n",
       "      <td>0.047306</td>\n",
       "    </tr>\n",
       "    <tr>\n",
       "      <th>0</th>\n",
       "      <td>total_play_time</td>\n",
       "      <td>0.045697</td>\n",
       "    </tr>\n",
       "    <tr>\n",
       "      <th>16</th>\n",
       "      <td>ratio_14_over_23</td>\n",
       "      <td>0.036964</td>\n",
       "    </tr>\n",
       "    <tr>\n",
       "      <th>10</th>\n",
       "      <td>ratio_1_over_14</td>\n",
       "      <td>0.034158</td>\n",
       "    </tr>\n",
       "    <tr>\n",
       "      <th>8</th>\n",
       "      <td>ratio_1_over_7</td>\n",
       "      <td>0.031158</td>\n",
       "    </tr>\n",
       "    <tr>\n",
       "      <th>13</th>\n",
       "      <td>ratio_1_over_23</td>\n",
       "      <td>0.026517</td>\n",
       "    </tr>\n",
       "    <tr>\n",
       "      <th>4</th>\n",
       "      <td>most_popular_count</td>\n",
       "      <td>0.025945</td>\n",
       "    </tr>\n",
       "  </tbody>\n",
       "</table>\n",
       "</div>"
      ],
      "text/plain": [
       "                 feature     coeff\n",
       "18  days_since_last_play  0.138680\n",
       "9         ratio_3_over_7  0.105040\n",
       "11       ratio_3_over_14  0.086818\n",
       "12       ratio_7_over_14  0.078435\n",
       "15       ratio_7_over_23  0.077919\n",
       "14       ratio_3_over_23  0.073714\n",
       "17           active_days  0.068632\n",
       "5          count_play_23  0.047306\n",
       "0        total_play_time  0.045697\n",
       "16      ratio_14_over_23  0.036964\n",
       "10       ratio_1_over_14  0.034158\n",
       "8         ratio_1_over_7  0.031158\n",
       "13       ratio_1_over_23  0.026517\n",
       "4     most_popular_count  0.025945"
      ]
     },
     "execution_count": 368,
     "metadata": {},
     "output_type": "execute_result"
    }
   ],
   "source": [
    "df_coeffs = pd.DataFrame(list(zip(df_dummies.columns, importance_coeff))).sort_values(by=[1], ascending=True)\n",
    "df_coeffs.columns = ['feature', 'coeff']\n",
    "df_coeffs.iloc[-1:-15:-1,:]"
   ]
  },
  {
   "cell_type": "code",
   "execution_count": 369,
   "metadata": {
    "collapsed": true
   },
   "outputs": [],
   "source": [
    "import matplotlib.pyplot as plt\n",
    "\n",
    "% matplotlib inline\n",
    "# Always make it pretty.\n",
    "plt.style.use('ggplot')"
   ]
  },
  {
   "cell_type": "code",
   "execution_count": 387,
   "metadata": {},
   "outputs": [
    {
     "data": {
      "image/png": "[encoded data removed]",
      "text/plain": [
       "<matplotlib.figure.Figure at 0x4bc21e48>"
      ]
     },
     "metadata": {},
     "output_type": "display_data"
    }
   ],
   "source": [
    "ax = df_coeffs.plot.barh()\n",
    "t = np.arange(X.shape[1])\n",
    "ax.set_yticks(t)\n",
    "ax.set_yticklabels(df_coeffs['feature'])\n",
    "plt.rcParams[\"figure.figsize\"] = (8,10)\n",
    "plt.show()"
   ]
  },
  {
   "cell_type": "code",
   "execution_count": 388,
   "metadata": {},
   "outputs": [
    {
     "data": {
      "text/plain": [
       "Index([u'device', u'major_song_type', u'total_play_time',\n",
       "       u'popular_songs_ratio', u'avg_play_time', u'least_popular_count',\n",
       "       u'most_popular_count', u'count_play_23', u'avg_complete_ratio',\n",
       "       u'ratio_1_over_3', u'ratio_1_over_7', u'ratio_3_over_7',\n",
       "       u'ratio_1_over_14', u'ratio_3_over_14', u'ratio_7_over_14',\n",
       "       u'ratio_1_over_23', u'ratio_3_over_23', u'ratio_7_over_23',\n",
       "       u'ratio_14_over_23', u'active_days', u'days_since_last_play', u'label',\n",
       "       u'play_time_bins'],\n",
       "      dtype='object')"
      ]
     },
     "execution_count": 388,
     "metadata": {},
     "output_type": "execute_result"
    }
   ],
   "source": [
    "df.columns"
   ]
  },
  {
   "cell_type": "code",
   "execution_count": 633,
   "metadata": {},
   "outputs": [],
   "source": [
    "df_selected_features = df.loc[:,['total_play_time','popular_songs_ratio','avg_play_time','least_popular_count',\\\n",
    "                             'most_popular_count','count_play_23','avg_complete_ratio',\\\n",
    "                              'ratio_1_over_23','ratio_3_over_23','ratio_7_over_23','ratio_14_over_23',\\\n",
    "                                 'ratio_1_over_14','ratio_3_over_14','ratio_7_over_14',\\\n",
    "                                 'ratio_1_over_7','ratio_3_over_7','ratio_1_over_3',\\\n",
    "                             'active_days','days_since_last_play','device','label']]"
   ]
  },
  {
   "cell_type": "code",
   "execution_count": 634,
   "metadata": {},
   "outputs": [],
   "source": [
    "df_selected_features['no_play_1'] = (df_selected_features.ratio_1_over_23==0).astype(int)\n",
    "df_selected_features['no_play_3'] = (df_selected_features.ratio_3_over_23==0).astype(int)\n",
    "df_selected_features['no_play_7'] = (df_selected_features.ratio_7_over_23==0).astype(int)\n",
    "df_selected_features['no_play_14'] = (df_selected_features.ratio_14_over_23==0).astype(int)"
   ]
  },
  {
   "cell_type": "code",
   "execution_count": 635,
   "metadata": {},
   "outputs": [
    {
     "data": {
      "text/html": [
       "<div>\n",
       "<style>\n",
       "    .dataframe thead tr:only-child th {\n",
       "        text-align: right;\n",
       "    }\n",
       "\n",
       "    .dataframe thead th {\n",
       "        text-align: left;\n",
       "    }\n",
       "\n",
       "    .dataframe tbody tr th {\n",
       "        vertical-align: top;\n",
       "    }\n",
       "</style>\n",
       "<table border=\"1\" class=\"dataframe\">\n",
       "  <thead>\n",
       "    <tr style=\"text-align: right;\">\n",
       "      <th></th>\n",
       "      <th>total_play_time</th>\n",
       "      <th>popular_songs_ratio</th>\n",
       "      <th>avg_play_time</th>\n",
       "      <th>least_popular_count</th>\n",
       "      <th>most_popular_count</th>\n",
       "      <th>count_play_23</th>\n",
       "      <th>avg_complete_ratio</th>\n",
       "      <th>ratio_1_over_23</th>\n",
       "      <th>ratio_3_over_23</th>\n",
       "      <th>ratio_7_over_23</th>\n",
       "      <th>...</th>\n",
       "      <th>ratio_3_over_7</th>\n",
       "      <th>ratio_1_over_3</th>\n",
       "      <th>active_days</th>\n",
       "      <th>days_since_last_play</th>\n",
       "      <th>device</th>\n",
       "      <th>label</th>\n",
       "      <th>no_play_1</th>\n",
       "      <th>no_play_3</th>\n",
       "      <th>no_play_7</th>\n",
       "      <th>no_play_14</th>\n",
       "    </tr>\n",
       "    <tr>\n",
       "      <th>uid</th>\n",
       "      <th></th>\n",
       "      <th></th>\n",
       "      <th></th>\n",
       "      <th></th>\n",
       "      <th></th>\n",
       "      <th></th>\n",
       "      <th></th>\n",
       "      <th></th>\n",
       "      <th></th>\n",
       "      <th></th>\n",
       "      <th></th>\n",
       "      <th></th>\n",
       "      <th></th>\n",
       "      <th></th>\n",
       "      <th></th>\n",
       "      <th></th>\n",
       "      <th></th>\n",
       "      <th></th>\n",
       "      <th></th>\n",
       "      <th></th>\n",
       "      <th></th>\n",
       "    </tr>\n",
       "  </thead>\n",
       "  <tbody>\n",
       "    <tr>\n",
       "      <th>533817</th>\n",
       "      <td>1.557662e+07</td>\n",
       "      <td>0.191024</td>\n",
       "      <td>11355.430927</td>\n",
       "      <td>262.0</td>\n",
       "      <td>23236.0</td>\n",
       "      <td>82304.0</td>\n",
       "      <td>0.889454</td>\n",
       "      <td>0.037301</td>\n",
       "      <td>0.129155</td>\n",
       "      <td>0.317579</td>\n",
       "      <td>...</td>\n",
       "      <td>0.406688</td>\n",
       "      <td>0.288805</td>\n",
       "      <td>23</td>\n",
       "      <td>1</td>\n",
       "      <td>ar</td>\n",
       "      <td>0</td>\n",
       "      <td>0</td>\n",
       "      <td>0</td>\n",
       "      <td>0</td>\n",
       "      <td>0</td>\n",
       "    </tr>\n",
       "    <tr>\n",
       "      <th>751824</th>\n",
       "      <td>3.848332e+07</td>\n",
       "      <td>0.173797</td>\n",
       "      <td>323888.268341</td>\n",
       "      <td>422.0</td>\n",
       "      <td>1866.0</td>\n",
       "      <td>7129.0</td>\n",
       "      <td>0.933828</td>\n",
       "      <td>0.000000</td>\n",
       "      <td>0.000000</td>\n",
       "      <td>0.237340</td>\n",
       "      <td>...</td>\n",
       "      <td>0.000000</td>\n",
       "      <td>0.000000</td>\n",
       "      <td>4</td>\n",
       "      <td>4</td>\n",
       "      <td>ar</td>\n",
       "      <td>0</td>\n",
       "      <td>1</td>\n",
       "      <td>1</td>\n",
       "      <td>0</td>\n",
       "      <td>0</td>\n",
       "    </tr>\n",
       "    <tr>\n",
       "      <th>924065</th>\n",
       "      <td>5.289638e+06</td>\n",
       "      <td>0.136762</td>\n",
       "      <td>10662.084456</td>\n",
       "      <td>8.0</td>\n",
       "      <td>8691.0</td>\n",
       "      <td>29767.0</td>\n",
       "      <td>0.326098</td>\n",
       "      <td>0.017536</td>\n",
       "      <td>0.026607</td>\n",
       "      <td>0.075789</td>\n",
       "      <td>...</td>\n",
       "      <td>0.351064</td>\n",
       "      <td>0.659091</td>\n",
       "      <td>23</td>\n",
       "      <td>1</td>\n",
       "      <td>ar</td>\n",
       "      <td>0</td>\n",
       "      <td>0</td>\n",
       "      <td>0</td>\n",
       "      <td>0</td>\n",
       "      <td>0</td>\n",
       "    </tr>\n",
       "    <tr>\n",
       "      <th>1342999</th>\n",
       "      <td>6.639750e+03</td>\n",
       "      <td>0.222527</td>\n",
       "      <td>99.496753</td>\n",
       "      <td>2.0</td>\n",
       "      <td>1479.0</td>\n",
       "      <td>4004.0</td>\n",
       "      <td>0.475512</td>\n",
       "      <td>0.137862</td>\n",
       "      <td>0.186314</td>\n",
       "      <td>0.329171</td>\n",
       "      <td>...</td>\n",
       "      <td>0.566009</td>\n",
       "      <td>0.739946</td>\n",
       "      <td>20</td>\n",
       "      <td>1</td>\n",
       "      <td>ar</td>\n",
       "      <td>0</td>\n",
       "      <td>0</td>\n",
       "      <td>0</td>\n",
       "      <td>0</td>\n",
       "      <td>0</td>\n",
       "    </tr>\n",
       "    <tr>\n",
       "      <th>1620163</th>\n",
       "      <td>4.837500e+02</td>\n",
       "      <td>0.097222</td>\n",
       "      <td>80.625000</td>\n",
       "      <td>2.0</td>\n",
       "      <td>51.0</td>\n",
       "      <td>360.0</td>\n",
       "      <td>0.409716</td>\n",
       "      <td>0.000000</td>\n",
       "      <td>0.000000</td>\n",
       "      <td>0.172222</td>\n",
       "      <td>...</td>\n",
       "      <td>0.000000</td>\n",
       "      <td>0.000000</td>\n",
       "      <td>5</td>\n",
       "      <td>7</td>\n",
       "      <td>ar</td>\n",
       "      <td>0</td>\n",
       "      <td>1</td>\n",
       "      <td>1</td>\n",
       "      <td>0</td>\n",
       "      <td>0</td>\n",
       "    </tr>\n",
       "  </tbody>\n",
       "</table>\n",
       "<p>5 rows × 25 columns</p>\n",
       "</div>"
      ],
      "text/plain": [
       "         total_play_time  popular_songs_ratio  avg_play_time  \\\n",
       "uid                                                            \n",
       "533817      1.557662e+07             0.191024   11355.430927   \n",
       "751824      3.848332e+07             0.173797  323888.268341   \n",
       "924065      5.289638e+06             0.136762   10662.084456   \n",
       "1342999     6.639750e+03             0.222527      99.496753   \n",
       "1620163     4.837500e+02             0.097222      80.625000   \n",
       "\n",
       "         least_popular_count  most_popular_count  count_play_23  \\\n",
       "uid                                                               \n",
       "533817                 262.0             23236.0        82304.0   \n",
       "751824                 422.0              1866.0         7129.0   \n",
       "924065                   8.0              8691.0        29767.0   \n",
       "1342999                  2.0              1479.0         4004.0   \n",
       "1620163                  2.0                51.0          360.0   \n",
       "\n",
       "         avg_complete_ratio  ratio_1_over_23  ratio_3_over_23  \\\n",
       "uid                                                             \n",
       "533817             0.889454         0.037301         0.129155   \n",
       "751824             0.933828         0.000000         0.000000   \n",
       "924065             0.326098         0.017536         0.026607   \n",
       "1342999            0.475512         0.137862         0.186314   \n",
       "1620163            0.409716         0.000000         0.000000   \n",
       "\n",
       "         ratio_7_over_23    ...      ratio_3_over_7  ratio_1_over_3  \\\n",
       "uid                         ...                                       \n",
       "533817          0.317579    ...            0.406688        0.288805   \n",
       "751824          0.237340    ...            0.000000        0.000000   \n",
       "924065          0.075789    ...            0.351064        0.659091   \n",
       "1342999         0.329171    ...            0.566009        0.739946   \n",
       "1620163         0.172222    ...            0.000000        0.000000   \n",
       "\n",
       "         active_days  days_since_last_play  device  label  no_play_1  \\\n",
       "uid                                                                    \n",
       "533817            23                     1      ar      0          0   \n",
       "751824             4                     4      ar      0          1   \n",
       "924065            23                     1      ar      0          0   \n",
       "1342999           20                     1      ar      0          0   \n",
       "1620163            5                     7      ar      0          1   \n",
       "\n",
       "         no_play_3  no_play_7 no_play_14  \n",
       "uid                                       \n",
       "533817           0          0          0  \n",
       "751824           1          0          0  \n",
       "924065           0          0          0  \n",
       "1342999          0          0          0  \n",
       "1620163          1          0          0  \n",
       "\n",
       "[5 rows x 25 columns]"
      ]
     },
     "execution_count": 635,
     "metadata": {},
     "output_type": "execute_result"
    }
   ],
   "source": [
    "df_selected_features.head()"
   ]
  },
  {
   "cell_type": "code",
   "execution_count": 636,
   "metadata": {},
   "outputs": [
    {
     "data": {
      "text/plain": [
       "(25389, 25)"
      ]
     },
     "execution_count": 636,
     "metadata": {},
     "output_type": "execute_result"
    }
   ],
   "source": [
    "df_selected_features.shape"
   ]
  },
  {
   "cell_type": "code",
   "execution_count": 637,
   "metadata": {},
   "outputs": [],
   "source": [
    "df_selected_features = df_selected_features.drop(df_selected_features.loc[df_selected_features.count_play_23>5000].index,axis =0)"
   ]
  },
  {
   "cell_type": "code",
   "execution_count": 638,
   "metadata": {},
   "outputs": [
    {
     "data": {
      "text/plain": [
       "(25377, 25)"
      ]
     },
     "execution_count": 638,
     "metadata": {},
     "output_type": "execute_result"
    }
   ],
   "source": [
    "df_selected_features.shape"
   ]
  },
  {
   "cell_type": "code",
   "execution_count": 639,
   "metadata": {
    "collapsed": true
   },
   "outputs": [],
   "source": [
    "y = df_selected_features.label.values"
   ]
  },
  {
   "cell_type": "code",
   "execution_count": 463,
   "metadata": {
    "collapsed": true
   },
   "outputs": [],
   "source": [
    "df_selected_features = df_selected_features.drop('label',axis = 1)\n",
    "X = df_selected_features.values"
   ]
  },
  {
   "cell_type": "code",
   "execution_count": 464,
   "metadata": {},
   "outputs": [
    {
     "data": {
      "text/plain": [
       "(0.7897877610763947, 0.76608878381928025)"
      ]
     },
     "execution_count": 464,
     "metadata": {},
     "output_type": "execute_result"
    }
   ],
   "source": [
    "X_train, X_test, y_train, y_test = train_test_split(X, y, test_size=0.3, random_state=42)\n",
    "model_rfc.fit(X_train,y_train)\n",
    "model_rfc.score(X_train, y_train),model_rfc.score(X_test, y_test)"
   ]
  },
  {
   "cell_type": "code",
   "execution_count": 465,
   "metadata": {
    "collapsed": true
   },
   "outputs": [],
   "source": [
    "importance_coeff = model_rfc.feature_importances_"
   ]
  },
  {
   "cell_type": "code",
   "execution_count": 466,
   "metadata": {},
   "outputs": [],
   "source": [
    "columns = list(df_selected_features.columns)"
   ]
  },
  {
   "cell_type": "code",
   "execution_count": 467,
   "metadata": {},
   "outputs": [
    {
     "data": {
      "text/html": [
       "<div>\n",
       "<style>\n",
       "    .dataframe thead tr:only-child th {\n",
       "        text-align: right;\n",
       "    }\n",
       "\n",
       "    .dataframe thead th {\n",
       "        text-align: left;\n",
       "    }\n",
       "\n",
       "    .dataframe tbody tr th {\n",
       "        vertical-align: top;\n",
       "    }\n",
       "</style>\n",
       "<table border=\"1\" class=\"dataframe\">\n",
       "  <thead>\n",
       "    <tr style=\"text-align: right;\">\n",
       "      <th></th>\n",
       "      <th>feature</th>\n",
       "      <th>coeff</th>\n",
       "    </tr>\n",
       "  </thead>\n",
       "  <tbody>\n",
       "    <tr>\n",
       "      <th>18</th>\n",
       "      <td>days_since_last_play</td>\n",
       "      <td>0.124304</td>\n",
       "    </tr>\n",
       "    <tr>\n",
       "      <th>12</th>\n",
       "      <td>ratio_3_over_14</td>\n",
       "      <td>0.084583</td>\n",
       "    </tr>\n",
       "    <tr>\n",
       "      <th>17</th>\n",
       "      <td>active_days</td>\n",
       "      <td>0.072665</td>\n",
       "    </tr>\n",
       "    <tr>\n",
       "      <th>8</th>\n",
       "      <td>ratio_3_over_23</td>\n",
       "      <td>0.072591</td>\n",
       "    </tr>\n",
       "    <tr>\n",
       "      <th>15</th>\n",
       "      <td>ratio_3_over_7</td>\n",
       "      <td>0.068730</td>\n",
       "    </tr>\n",
       "    <tr>\n",
       "      <th>13</th>\n",
       "      <td>ratio_7_over_14</td>\n",
       "      <td>0.062890</td>\n",
       "    </tr>\n",
       "    <tr>\n",
       "      <th>20</th>\n",
       "      <td>no_play_3</td>\n",
       "      <td>0.062351</td>\n",
       "    </tr>\n",
       "    <tr>\n",
       "      <th>9</th>\n",
       "      <td>ratio_7_over_23</td>\n",
       "      <td>0.059192</td>\n",
       "    </tr>\n",
       "    <tr>\n",
       "      <th>5</th>\n",
       "      <td>count_play_23</td>\n",
       "      <td>0.052409</td>\n",
       "    </tr>\n",
       "    <tr>\n",
       "      <th>21</th>\n",
       "      <td>no_play_7</td>\n",
       "      <td>0.047804</td>\n",
       "    </tr>\n",
       "    <tr>\n",
       "      <th>0</th>\n",
       "      <td>total_play_time</td>\n",
       "      <td>0.043659</td>\n",
       "    </tr>\n",
       "    <tr>\n",
       "      <th>10</th>\n",
       "      <td>ratio_14_over_23</td>\n",
       "      <td>0.030905</td>\n",
       "    </tr>\n",
       "    <tr>\n",
       "      <th>14</th>\n",
       "      <td>ratio_1_over_7</td>\n",
       "      <td>0.027158</td>\n",
       "    </tr>\n",
       "    <tr>\n",
       "      <th>16</th>\n",
       "      <td>ratio_1_over_3</td>\n",
       "      <td>0.026509</td>\n",
       "    </tr>\n",
       "    <tr>\n",
       "      <th>4</th>\n",
       "      <td>most_popular_count</td>\n",
       "      <td>0.025550</td>\n",
       "    </tr>\n",
       "    <tr>\n",
       "      <th>7</th>\n",
       "      <td>ratio_1_over_23</td>\n",
       "      <td>0.023895</td>\n",
       "    </tr>\n",
       "    <tr>\n",
       "      <th>11</th>\n",
       "      <td>ratio_1_over_14</td>\n",
       "      <td>0.022603</td>\n",
       "    </tr>\n",
       "    <tr>\n",
       "      <th>1</th>\n",
       "      <td>popular_songs_ratio</td>\n",
       "      <td>0.022413</td>\n",
       "    </tr>\n",
       "    <tr>\n",
       "      <th>2</th>\n",
       "      <td>avg_play_time</td>\n",
       "      <td>0.021894</td>\n",
       "    </tr>\n",
       "    <tr>\n",
       "      <th>6</th>\n",
       "      <td>avg_complete_ratio</td>\n",
       "      <td>0.019084</td>\n",
       "    </tr>\n",
       "    <tr>\n",
       "      <th>22</th>\n",
       "      <td>no_play_14</td>\n",
       "      <td>0.011248</td>\n",
       "    </tr>\n",
       "    <tr>\n",
       "      <th>19</th>\n",
       "      <td>no_play_1</td>\n",
       "      <td>0.008961</td>\n",
       "    </tr>\n",
       "    <tr>\n",
       "      <th>3</th>\n",
       "      <td>least_popular_count</td>\n",
       "      <td>0.008603</td>\n",
       "    </tr>\n",
       "  </tbody>\n",
       "</table>\n",
       "</div>"
      ],
      "text/plain": [
       "                 feature     coeff\n",
       "18  days_since_last_play  0.124304\n",
       "12       ratio_3_over_14  0.084583\n",
       "17           active_days  0.072665\n",
       "8        ratio_3_over_23  0.072591\n",
       "15        ratio_3_over_7  0.068730\n",
       "13       ratio_7_over_14  0.062890\n",
       "20             no_play_3  0.062351\n",
       "9        ratio_7_over_23  0.059192\n",
       "5          count_play_23  0.052409\n",
       "21             no_play_7  0.047804\n",
       "0        total_play_time  0.043659\n",
       "10      ratio_14_over_23  0.030905\n",
       "14        ratio_1_over_7  0.027158\n",
       "16        ratio_1_over_3  0.026509\n",
       "4     most_popular_count  0.025550\n",
       "7        ratio_1_over_23  0.023895\n",
       "11       ratio_1_over_14  0.022603\n",
       "1    popular_songs_ratio  0.022413\n",
       "2          avg_play_time  0.021894\n",
       "6     avg_complete_ratio  0.019084\n",
       "22            no_play_14  0.011248\n",
       "19             no_play_1  0.008961\n",
       "3    least_popular_count  0.008603"
      ]
     },
     "execution_count": 467,
     "metadata": {},
     "output_type": "execute_result"
    }
   ],
   "source": [
    "df_coeffs = pd.DataFrame(list(zip(columns, importance_coeff))).sort_values(by=[1], ascending=True)\n",
    "df_coeffs.columns = ['feature', 'coeff']\n",
    "df_coeffs.iloc[::-1,:]"
   ]
  },
  {
   "cell_type": "code",
   "execution_count": 468,
   "metadata": {},
   "outputs": [
    {
     "data": {
      "image/png": "[encoded data removed]",
      "text/plain": [
       "<matplotlib.figure.Figure at 0x4fe3f518>"
      ]
     },
     "metadata": {},
     "output_type": "display_data"
    }
   ],
   "source": [
    "ax = df_coeffs.plot.barh()\n",
    "t = np.arange(X.shape[1])\n",
    "ax.set_yticks(t)\n",
    "ax.set_yticklabels(df_coeffs['feature'])\n",
    "plt.rcParams[\"figure.figsize\"] = (8,10)\n",
    "plt.show()"
   ]
  },
  {
   "cell_type": "code",
   "execution_count": 640,
   "metadata": {},
   "outputs": [
    {
     "data": {
      "text/plain": [
       "(25377, 25)"
      ]
     },
     "execution_count": 640,
     "metadata": {},
     "output_type": "execute_result"
    }
   ],
   "source": [
    "df_selected_features.shape"
   ]
  },
  {
   "cell_type": "code",
   "execution_count": 641,
   "metadata": {},
   "outputs": [
    {
     "data": {
      "text/plain": [
       "(25377, 25)"
      ]
     },
     "execution_count": 641,
     "metadata": {},
     "output_type": "execute_result"
    }
   ],
   "source": [
    "df_selected_features['label'] = y\n",
    "df_selected_features.shape"
   ]
  },
  {
   "cell_type": "code",
   "execution_count": 471,
   "metadata": {
    "collapsed": true
   },
   "outputs": [],
   "source": [
    "filename_pickle = 'C:\\\\Users\\\\Sean\\\\Documents\\\\BitTiger\\\\Capston_music_player_python\\\\features_after_RandForest.pkl'\n",
    "df_selected_features.to_pickle(filename_pickle)"
   ]
  },
  {
   "cell_type": "code",
   "execution_count": 629,
   "metadata": {
    "collapsed": true
   },
   "outputs": [],
   "source": [
    "del df_lr"
   ]
  },
  {
   "cell_type": "code",
   "execution_count": 642,
   "metadata": {},
   "outputs": [
    {
     "data": {
      "text/html": [
       "<div>\n",
       "<style>\n",
       "    .dataframe thead tr:only-child th {\n",
       "        text-align: right;\n",
       "    }\n",
       "\n",
       "    .dataframe thead th {\n",
       "        text-align: left;\n",
       "    }\n",
       "\n",
       "    .dataframe tbody tr th {\n",
       "        vertical-align: top;\n",
       "    }\n",
       "</style>\n",
       "<table border=\"1\" class=\"dataframe\">\n",
       "  <thead>\n",
       "    <tr style=\"text-align: right;\">\n",
       "      <th></th>\n",
       "      <th>device</th>\n",
       "      <th>days_since_last_play</th>\n",
       "      <th>active_days</th>\n",
       "      <th>ratio_3_over_23</th>\n",
       "      <th>ratio_7_over_23</th>\n",
       "      <th>ratio_14_over_23</th>\n",
       "      <th>no_play_3</th>\n",
       "      <th>no_play_7</th>\n",
       "    </tr>\n",
       "    <tr>\n",
       "      <th>uid</th>\n",
       "      <th></th>\n",
       "      <th></th>\n",
       "      <th></th>\n",
       "      <th></th>\n",
       "      <th></th>\n",
       "      <th></th>\n",
       "      <th></th>\n",
       "      <th></th>\n",
       "    </tr>\n",
       "  </thead>\n",
       "  <tbody>\n",
       "    <tr>\n",
       "      <th>1342999</th>\n",
       "      <td>ar</td>\n",
       "      <td>1</td>\n",
       "      <td>20</td>\n",
       "      <td>0.186314</td>\n",
       "      <td>0.329171</td>\n",
       "      <td>0.692557</td>\n",
       "      <td>0</td>\n",
       "      <td>0</td>\n",
       "    </tr>\n",
       "    <tr>\n",
       "      <th>1620163</th>\n",
       "      <td>ar</td>\n",
       "      <td>7</td>\n",
       "      <td>5</td>\n",
       "      <td>0.000000</td>\n",
       "      <td>0.172222</td>\n",
       "      <td>0.430556</td>\n",
       "      <td>1</td>\n",
       "      <td>0</td>\n",
       "    </tr>\n",
       "    <tr>\n",
       "      <th>1726025</th>\n",
       "      <td>ar</td>\n",
       "      <td>1</td>\n",
       "      <td>20</td>\n",
       "      <td>0.112853</td>\n",
       "      <td>0.219436</td>\n",
       "      <td>0.354232</td>\n",
       "      <td>0</td>\n",
       "      <td>0</td>\n",
       "    </tr>\n",
       "    <tr>\n",
       "      <th>1749320</th>\n",
       "      <td>ar</td>\n",
       "      <td>4</td>\n",
       "      <td>4</td>\n",
       "      <td>0.000000</td>\n",
       "      <td>0.220635</td>\n",
       "      <td>1.000000</td>\n",
       "      <td>1</td>\n",
       "      <td>0</td>\n",
       "    </tr>\n",
       "    <tr>\n",
       "      <th>1918744</th>\n",
       "      <td>ar</td>\n",
       "      <td>3</td>\n",
       "      <td>6</td>\n",
       "      <td>0.074074</td>\n",
       "      <td>0.185185</td>\n",
       "      <td>1.000000</td>\n",
       "      <td>0</td>\n",
       "      <td>0</td>\n",
       "    </tr>\n",
       "  </tbody>\n",
       "</table>\n",
       "</div>"
      ],
      "text/plain": [
       "        device  days_since_last_play  active_days  ratio_3_over_23  \\\n",
       "uid                                                                  \n",
       "1342999     ar                     1           20         0.186314   \n",
       "1620163     ar                     7            5         0.000000   \n",
       "1726025     ar                     1           20         0.112853   \n",
       "1749320     ar                     4            4         0.000000   \n",
       "1918744     ar                     3            6         0.074074   \n",
       "\n",
       "         ratio_7_over_23  ratio_14_over_23  no_play_3  no_play_7  \n",
       "uid                                                               \n",
       "1342999         0.329171          0.692557          0          0  \n",
       "1620163         0.172222          0.430556          1          0  \n",
       "1726025         0.219436          0.354232          0          0  \n",
       "1749320         0.220635          1.000000          1          0  \n",
       "1918744         0.185185          1.000000          0          0  "
      ]
     },
     "execution_count": 642,
     "metadata": {},
     "output_type": "execute_result"
    }
   ],
   "source": [
    "# logistic regression data\n",
    "df_lr = df_selected_features.loc[:,['device','days_since_last_play','active_days','ratio_3_over_23','ratio_7_over_23',\\\n",
    "                                   'ratio_14_over_23','no_play_3','no_play_7']]\n",
    "df_lr.head()"
   ]
  },
  {
   "cell_type": "code",
   "execution_count": 643,
   "metadata": {},
   "outputs": [
    {
     "data": {
      "text/plain": [
       "(25377, 8)"
      ]
     },
     "execution_count": 643,
     "metadata": {},
     "output_type": "execute_result"
    }
   ],
   "source": [
    "df_lr.shape"
   ]
  },
  {
   "cell_type": "code",
   "execution_count": 644,
   "metadata": {},
   "outputs": [],
   "source": [
    "import math\n",
    "df_lr['log_total_count'] = df_selected_features.count_play_23.apply(lambda x : math.log(x+0.1,10)).values"
   ]
  },
  {
   "cell_type": "code",
   "execution_count": 645,
   "metadata": {
    "collapsed": true
   },
   "outputs": [],
   "source": [
    "df_lr['log_total_time'] = df_selected_features.total_play_time.apply(lambda x : math.log(x+0.1,10)).values"
   ]
  },
  {
   "cell_type": "code",
   "execution_count": 646,
   "metadata": {
    "collapsed": true
   },
   "outputs": [],
   "source": [
    "df_lr['log_total_count'] = df_selected_features.count_play_23.apply(lambda x : math.log(x,10)).values"
   ]
  },
  {
   "cell_type": "code",
   "execution_count": 647,
   "metadata": {
    "collapsed": true
   },
   "outputs": [],
   "source": [
    "df_lr['log_most_popular_count'] = df_selected_features.most_popular_count.apply(lambda x : math.log(x+1,10)).values"
   ]
  },
  {
   "cell_type": "code",
   "execution_count": 648,
   "metadata": {
    "collapsed": true
   },
   "outputs": [],
   "source": [
    "df_lr['log_play_time'] = df_selected_features.avg_play_time.apply(lambda x : math.log(x+0.1,10)).values"
   ]
  },
  {
   "cell_type": "code",
   "execution_count": 649,
   "metadata": {
    "collapsed": true
   },
   "outputs": [],
   "source": [
    "df_lr['log_incomplete_ratio'] = df_selected_features.avg_complete_ratio.apply(lambda x : math.log(1.01-x,10)+2)"
   ]
  },
  {
   "cell_type": "code",
   "execution_count": 650,
   "metadata": {},
   "outputs": [],
   "source": [
    "df_lr['all_complete'] = df_selected_features.avg_complete_ratio.apply(lambda x: x == 1).astype(int)"
   ]
  },
  {
   "cell_type": "code",
   "execution_count": 651,
   "metadata": {
    "collapsed": true
   },
   "outputs": [],
   "source": [
    "df_lr['least_popular_count'] = list(pd.cut(df_selected_features.least_popular_count,bins = [0,1,10.1,1500],\n",
    "                                      labels = ['0','1-10','>10'],\n",
    "                                       right=False, retbins=False, precision=1, include_lowest=True))"
   ]
  },
  {
   "cell_type": "code",
   "execution_count": 652,
   "metadata": {
    "collapsed": true
   },
   "outputs": [],
   "source": [
    "df_lr['log_popular_ratio'] = df_selected_features.popular_songs_ratio.apply(lambda x : math.log(x+0.01,10)+2).values"
   ]
  },
  {
   "cell_type": "code",
   "execution_count": 653,
   "metadata": {},
   "outputs": [],
   "source": [
    "df_lr['no_popular_song'] = df_selected_features.most_popular_count.apply(lambda x: x == 0).astype(int)"
   ]
  },
  {
   "cell_type": "code",
   "execution_count": 654,
   "metadata": {},
   "outputs": [
    {
     "data": {
      "text/html": [
       "<div>\n",
       "<style>\n",
       "    .dataframe thead tr:only-child th {\n",
       "        text-align: right;\n",
       "    }\n",
       "\n",
       "    .dataframe thead th {\n",
       "        text-align: left;\n",
       "    }\n",
       "\n",
       "    .dataframe tbody tr th {\n",
       "        vertical-align: top;\n",
       "    }\n",
       "</style>\n",
       "<table border=\"1\" class=\"dataframe\">\n",
       "  <thead>\n",
       "    <tr style=\"text-align: right;\">\n",
       "      <th></th>\n",
       "      <th>device</th>\n",
       "      <th>days_since_last_play</th>\n",
       "      <th>active_days</th>\n",
       "      <th>ratio_3_over_23</th>\n",
       "      <th>ratio_7_over_23</th>\n",
       "      <th>ratio_14_over_23</th>\n",
       "      <th>no_play_3</th>\n",
       "      <th>no_play_7</th>\n",
       "      <th>log_total_count</th>\n",
       "      <th>log_total_time</th>\n",
       "      <th>log_most_popular_count</th>\n",
       "      <th>log_play_time</th>\n",
       "      <th>log_incomplete_ratio</th>\n",
       "      <th>all_complete</th>\n",
       "      <th>least_popular_count</th>\n",
       "      <th>log_popular_ratio</th>\n",
       "      <th>no_popular_song</th>\n",
       "    </tr>\n",
       "    <tr>\n",
       "      <th>uid</th>\n",
       "      <th></th>\n",
       "      <th></th>\n",
       "      <th></th>\n",
       "      <th></th>\n",
       "      <th></th>\n",
       "      <th></th>\n",
       "      <th></th>\n",
       "      <th></th>\n",
       "      <th></th>\n",
       "      <th></th>\n",
       "      <th></th>\n",
       "      <th></th>\n",
       "      <th></th>\n",
       "      <th></th>\n",
       "      <th></th>\n",
       "      <th></th>\n",
       "      <th></th>\n",
       "    </tr>\n",
       "  </thead>\n",
       "  <tbody>\n",
       "    <tr>\n",
       "      <th>1342999</th>\n",
       "      <td>ar</td>\n",
       "      <td>1</td>\n",
       "      <td>20</td>\n",
       "      <td>0.186314</td>\n",
       "      <td>0.329171</td>\n",
       "      <td>0.692557</td>\n",
       "      <td>0</td>\n",
       "      <td>0</td>\n",
       "      <td>3.602494</td>\n",
       "      <td>3.822158</td>\n",
       "      <td>3.170262</td>\n",
       "      <td>1.998245</td>\n",
       "      <td>1.727938</td>\n",
       "      <td>0</td>\n",
       "      <td>1-10</td>\n",
       "      <td>1.366474</td>\n",
       "      <td>0</td>\n",
       "    </tr>\n",
       "    <tr>\n",
       "      <th>1620163</th>\n",
       "      <td>ar</td>\n",
       "      <td>7</td>\n",
       "      <td>5</td>\n",
       "      <td>0.000000</td>\n",
       "      <td>0.172222</td>\n",
       "      <td>0.430556</td>\n",
       "      <td>1</td>\n",
       "      <td>0</td>\n",
       "      <td>2.556303</td>\n",
       "      <td>2.684711</td>\n",
       "      <td>1.716003</td>\n",
       "      <td>1.907008</td>\n",
       "      <td>1.778357</td>\n",
       "      <td>0</td>\n",
       "      <td>1-10</td>\n",
       "      <td>1.030285</td>\n",
       "      <td>0</td>\n",
       "    </tr>\n",
       "    <tr>\n",
       "      <th>1726025</th>\n",
       "      <td>ar</td>\n",
       "      <td>1</td>\n",
       "      <td>20</td>\n",
       "      <td>0.112853</td>\n",
       "      <td>0.219436</td>\n",
       "      <td>0.354232</td>\n",
       "      <td>0</td>\n",
       "      <td>0</td>\n",
       "      <td>2.503791</td>\n",
       "      <td>3.087231</td>\n",
       "      <td>1.643453</td>\n",
       "      <td>2.361745</td>\n",
       "      <td>0.120085</td>\n",
       "      <td>0</td>\n",
       "      <td>1-10</td>\n",
       "      <td>1.100327</td>\n",
       "      <td>0</td>\n",
       "    </tr>\n",
       "    <tr>\n",
       "      <th>1749320</th>\n",
       "      <td>ar</td>\n",
       "      <td>4</td>\n",
       "      <td>4</td>\n",
       "      <td>0.000000</td>\n",
       "      <td>0.220635</td>\n",
       "      <td>1.000000</td>\n",
       "      <td>1</td>\n",
       "      <td>0</td>\n",
       "      <td>3.100371</td>\n",
       "      <td>5.520139</td>\n",
       "      <td>2.522444</td>\n",
       "      <td>4.197923</td>\n",
       "      <td>1.231907</td>\n",
       "      <td>0</td>\n",
       "      <td>&gt;10</td>\n",
       "      <td>1.271805</td>\n",
       "      <td>0</td>\n",
       "    </tr>\n",
       "    <tr>\n",
       "      <th>1918744</th>\n",
       "      <td>ar</td>\n",
       "      <td>3</td>\n",
       "      <td>6</td>\n",
       "      <td>0.074074</td>\n",
       "      <td>0.185185</td>\n",
       "      <td>1.000000</td>\n",
       "      <td>0</td>\n",
       "      <td>0</td>\n",
       "      <td>1.431364</td>\n",
       "      <td>1.839268</td>\n",
       "      <td>1.113943</td>\n",
       "      <td>2.185710</td>\n",
       "      <td>1.254447</td>\n",
       "      <td>0</td>\n",
       "      <td>1-10</td>\n",
       "      <td>1.580207</td>\n",
       "      <td>0</td>\n",
       "    </tr>\n",
       "  </tbody>\n",
       "</table>\n",
       "</div>"
      ],
      "text/plain": [
       "        device  days_since_last_play  active_days  ratio_3_over_23  \\\n",
       "uid                                                                  \n",
       "1342999     ar                     1           20         0.186314   \n",
       "1620163     ar                     7            5         0.000000   \n",
       "1726025     ar                     1           20         0.112853   \n",
       "1749320     ar                     4            4         0.000000   \n",
       "1918744     ar                     3            6         0.074074   \n",
       "\n",
       "         ratio_7_over_23  ratio_14_over_23  no_play_3  no_play_7  \\\n",
       "uid                                                                \n",
       "1342999         0.329171          0.692557          0          0   \n",
       "1620163         0.172222          0.430556          1          0   \n",
       "1726025         0.219436          0.354232          0          0   \n",
       "1749320         0.220635          1.000000          1          0   \n",
       "1918744         0.185185          1.000000          0          0   \n",
       "\n",
       "         log_total_count  log_total_time  log_most_popular_count  \\\n",
       "uid                                                                \n",
       "1342999         3.602494        3.822158                3.170262   \n",
       "1620163         2.556303        2.684711                1.716003   \n",
       "1726025         2.503791        3.087231                1.643453   \n",
       "1749320         3.100371        5.520139                2.522444   \n",
       "1918744         1.431364        1.839268                1.113943   \n",
       "\n",
       "         log_play_time  log_incomplete_ratio  all_complete  \\\n",
       "uid                                                          \n",
       "1342999       1.998245              1.727938             0   \n",
       "1620163       1.907008              1.778357             0   \n",
       "1726025       2.361745              0.120085             0   \n",
       "1749320       4.197923              1.231907             0   \n",
       "1918744       2.185710              1.254447             0   \n",
       "\n",
       "        least_popular_count  log_popular_ratio  no_popular_song  \n",
       "uid                                                              \n",
       "1342999                1-10           1.366474                0  \n",
       "1620163                1-10           1.030285                0  \n",
       "1726025                1-10           1.100327                0  \n",
       "1749320                 >10           1.271805                0  \n",
       "1918744                1-10           1.580207                0  "
      ]
     },
     "execution_count": 654,
     "metadata": {},
     "output_type": "execute_result"
    }
   ],
   "source": [
    "df_lr.head()"
   ]
  },
  {
   "cell_type": "code",
   "execution_count": 655,
   "metadata": {},
   "outputs": [
    {
     "data": {
      "text/plain": [
       "(25377, 17)"
      ]
     },
     "execution_count": 655,
     "metadata": {},
     "output_type": "execute_result"
    }
   ],
   "source": [
    "df_lr.shape"
   ]
  },
  {
   "cell_type": "code",
   "execution_count": 563,
   "metadata": {},
   "outputs": [
    {
     "data": {
      "text/html": [
       "<div>\n",
       "<style>\n",
       "    .dataframe thead tr:only-child th {\n",
       "        text-align: right;\n",
       "    }\n",
       "\n",
       "    .dataframe thead th {\n",
       "        text-align: left;\n",
       "    }\n",
       "\n",
       "    .dataframe tbody tr th {\n",
       "        vertical-align: top;\n",
       "    }\n",
       "</style>\n",
       "<table border=\"1\" class=\"dataframe\">\n",
       "  <thead>\n",
       "    <tr style=\"text-align: right;\">\n",
       "      <th></th>\n",
       "      <th>days_since_last_play</th>\n",
       "      <th>active_days</th>\n",
       "      <th>ratio_3_over_23</th>\n",
       "      <th>ratio_7_over_23</th>\n",
       "      <th>ratio_14_over_23</th>\n",
       "      <th>no_play_3</th>\n",
       "      <th>no_play_7</th>\n",
       "      <th>log_total_count</th>\n",
       "      <th>log_total_time</th>\n",
       "      <th>log_most_popular_count</th>\n",
       "      <th>log_play_time</th>\n",
       "      <th>log_incomplete_ratio</th>\n",
       "      <th>all_complete</th>\n",
       "      <th>log_popular_ratio</th>\n",
       "      <th>no_popular_song</th>\n",
       "    </tr>\n",
       "  </thead>\n",
       "  <tbody>\n",
       "    <tr>\n",
       "      <th>count</th>\n",
       "      <td>25377.000000</td>\n",
       "      <td>25377.000000</td>\n",
       "      <td>25377.000000</td>\n",
       "      <td>25377.000000</td>\n",
       "      <td>25377.000000</td>\n",
       "      <td>25377.000000</td>\n",
       "      <td>25377.000000</td>\n",
       "      <td>25377.000000</td>\n",
       "      <td>25377.000000</td>\n",
       "      <td>25377.000000</td>\n",
       "      <td>25377.000000</td>\n",
       "      <td>2.537700e+04</td>\n",
       "      <td>25377.000000</td>\n",
       "      <td>2.537700e+04</td>\n",
       "      <td>25377.000000</td>\n",
       "    </tr>\n",
       "    <tr>\n",
       "      <th>mean</th>\n",
       "      <td>5.582693</td>\n",
       "      <td>9.533790</td>\n",
       "      <td>0.091355</td>\n",
       "      <td>0.220661</td>\n",
       "      <td>0.461351</td>\n",
       "      <td>0.469914</td>\n",
       "      <td>0.278520</td>\n",
       "      <td>2.119434</td>\n",
       "      <td>2.502460</td>\n",
       "      <td>1.599400</td>\n",
       "      <td>2.160506</td>\n",
       "      <td>1.470690e+00</td>\n",
       "      <td>0.011467</td>\n",
       "      <td>1.293252e+00</td>\n",
       "      <td>0.036056</td>\n",
       "    </tr>\n",
       "    <tr>\n",
       "      <th>std</th>\n",
       "      <td>5.522883</td>\n",
       "      <td>5.069626</td>\n",
       "      <td>0.147386</td>\n",
       "      <td>0.233252</td>\n",
       "      <td>0.301299</td>\n",
       "      <td>0.499104</td>\n",
       "      <td>0.448279</td>\n",
       "      <td>0.492905</td>\n",
       "      <td>0.695764</td>\n",
       "      <td>0.622465</td>\n",
       "      <td>0.510630</td>\n",
       "      <td>3.603453e-01</td>\n",
       "      <td>0.106471</td>\n",
       "      <td>4.918834e-01</td>\n",
       "      <td>0.186434</td>\n",
       "    </tr>\n",
       "    <tr>\n",
       "      <th>min</th>\n",
       "      <td>1.000000</td>\n",
       "      <td>1.000000</td>\n",
       "      <td>0.000000</td>\n",
       "      <td>0.000000</td>\n",
       "      <td>0.000000</td>\n",
       "      <td>0.000000</td>\n",
       "      <td>0.000000</td>\n",
       "      <td>0.000000</td>\n",
       "      <td>-1.000000</td>\n",
       "      <td>0.000000</td>\n",
       "      <td>-1.000000</td>\n",
       "      <td>4.440892e-16</td>\n",
       "      <td>0.000000</td>\n",
       "      <td>4.440892e-16</td>\n",
       "      <td>0.000000</td>\n",
       "    </tr>\n",
       "    <tr>\n",
       "      <th>25%</th>\n",
       "      <td>1.000000</td>\n",
       "      <td>5.000000</td>\n",
       "      <td>0.000000</td>\n",
       "      <td>0.000000</td>\n",
       "      <td>0.205607</td>\n",
       "      <td>0.000000</td>\n",
       "      <td>0.000000</td>\n",
       "      <td>1.778151</td>\n",
       "      <td>2.073779</td>\n",
       "      <td>1.255273</td>\n",
       "      <td>1.985127</td>\n",
       "      <td>1.309508e+00</td>\n",
       "      <td>0.000000</td>\n",
       "      <td>1.072519e+00</td>\n",
       "      <td>0.000000</td>\n",
       "    </tr>\n",
       "    <tr>\n",
       "      <th>50%</th>\n",
       "      <td>3.000000</td>\n",
       "      <td>8.000000</td>\n",
       "      <td>0.013081</td>\n",
       "      <td>0.163462</td>\n",
       "      <td>0.484076</td>\n",
       "      <td>0.000000</td>\n",
       "      <td>0.000000</td>\n",
       "      <td>2.127105</td>\n",
       "      <td>2.476518</td>\n",
       "      <td>1.662758</td>\n",
       "      <td>2.161821</td>\n",
       "      <td>1.554443e+00</td>\n",
       "      <td>0.000000</td>\n",
       "      <td>1.409369e+00</td>\n",
       "      <td>0.000000</td>\n",
       "    </tr>\n",
       "    <tr>\n",
       "      <th>75%</th>\n",
       "      <td>9.000000</td>\n",
       "      <td>13.000000</td>\n",
       "      <td>0.135294</td>\n",
       "      <td>0.355555</td>\n",
       "      <td>0.693103</td>\n",
       "      <td>1.000000</td>\n",
       "      <td>1.000000</td>\n",
       "      <td>2.448706</td>\n",
       "      <td>2.856588</td>\n",
       "      <td>2.033424</td>\n",
       "      <td>2.288830</td>\n",
       "      <td>1.722668e+00</td>\n",
       "      <td>0.000000</td>\n",
       "      <td>1.643279e+00</td>\n",
       "      <td>0.000000</td>\n",
       "    </tr>\n",
       "    <tr>\n",
       "      <th>max</th>\n",
       "      <td>23.000000</td>\n",
       "      <td>22.000000</td>\n",
       "      <td>0.999999</td>\n",
       "      <td>1.000000</td>\n",
       "      <td>1.000000</td>\n",
       "      <td>1.000000</td>\n",
       "      <td>1.000000</td>\n",
       "      <td>3.693815</td>\n",
       "      <td>7.553800</td>\n",
       "      <td>3.682867</td>\n",
       "      <td>6.409225</td>\n",
       "      <td>2.004321e+00</td>\n",
       "      <td>1.000000</td>\n",
       "      <td>2.004321e+00</td>\n",
       "      <td>1.000000</td>\n",
       "    </tr>\n",
       "  </tbody>\n",
       "</table>\n",
       "</div>"
      ],
      "text/plain": [
       "       days_since_last_play   active_days  ratio_3_over_23  ratio_7_over_23  \\\n",
       "count          25377.000000  25377.000000     25377.000000     25377.000000   \n",
       "mean               5.582693      9.533790         0.091355         0.220661   \n",
       "std                5.522883      5.069626         0.147386         0.233252   \n",
       "min                1.000000      1.000000         0.000000         0.000000   \n",
       "25%                1.000000      5.000000         0.000000         0.000000   \n",
       "50%                3.000000      8.000000         0.013081         0.163462   \n",
       "75%                9.000000     13.000000         0.135294         0.355555   \n",
       "max               23.000000     22.000000         0.999999         1.000000   \n",
       "\n",
       "       ratio_14_over_23     no_play_3     no_play_7  log_total_count  \\\n",
       "count      25377.000000  25377.000000  25377.000000     25377.000000   \n",
       "mean           0.461351      0.469914      0.278520         2.119434   \n",
       "std            0.301299      0.499104      0.448279         0.492905   \n",
       "min            0.000000      0.000000      0.000000         0.000000   \n",
       "25%            0.205607      0.000000      0.000000         1.778151   \n",
       "50%            0.484076      0.000000      0.000000         2.127105   \n",
       "75%            0.693103      1.000000      1.000000         2.448706   \n",
       "max            1.000000      1.000000      1.000000         3.693815   \n",
       "\n",
       "       log_total_time  log_most_popular_count  log_play_time  \\\n",
       "count    25377.000000            25377.000000   25377.000000   \n",
       "mean         2.502460                1.599400       2.160506   \n",
       "std          0.695764                0.622465       0.510630   \n",
       "min         -1.000000                0.000000      -1.000000   \n",
       "25%          2.073779                1.255273       1.985127   \n",
       "50%          2.476518                1.662758       2.161821   \n",
       "75%          2.856588                2.033424       2.288830   \n",
       "max          7.553800                3.682867       6.409225   \n",
       "\n",
       "       log_incomplete_ratio  all_complete  log_popular_ratio  no_popular_song  \n",
       "count          2.537700e+04  25377.000000       2.537700e+04     25377.000000  \n",
       "mean           1.470690e+00      0.011467       1.293252e+00         0.036056  \n",
       "std            3.603453e-01      0.106471       4.918834e-01         0.186434  \n",
       "min            4.440892e-16      0.000000       4.440892e-16         0.000000  \n",
       "25%            1.309508e+00      0.000000       1.072519e+00         0.000000  \n",
       "50%            1.554443e+00      0.000000       1.409369e+00         0.000000  \n",
       "75%            1.722668e+00      0.000000       1.643279e+00         0.000000  \n",
       "max            2.004321e+00      1.000000       2.004321e+00         1.000000  "
      ]
     },
     "execution_count": 563,
     "metadata": {},
     "output_type": "execute_result"
    }
   ],
   "source": [
    "df_lr.describe()"
   ]
  },
  {
   "cell_type": "code",
   "execution_count": 656,
   "metadata": {},
   "outputs": [
    {
     "data": {
      "text/plain": [
       "(25377, 20)"
      ]
     },
     "execution_count": 656,
     "metadata": {},
     "output_type": "execute_result"
    }
   ],
   "source": [
    "df_dummies = pd.get_dummies(df_lr,columns = ['device','least_popular_count'])\n",
    "df_dummies.shape"
   ]
  },
  {
   "cell_type": "code",
   "execution_count": 657,
   "metadata": {},
   "outputs": [],
   "source": [
    "def norm(pd_series):\n",
    "    return (pd_series - pd_series.mean()) / pd_series.std()\n",
    "\n",
    "df_dummies.days_since_last_play = norm(df_dummies.days_since_last_play)\n",
    "df_dummies.active_days = norm(df_dummies.active_days)"
   ]
  },
  {
   "cell_type": "code",
   "execution_count": 658,
   "metadata": {},
   "outputs": [
    {
     "data": {
      "text/html": [
       "<div>\n",
       "<style>\n",
       "    .dataframe thead tr:only-child th {\n",
       "        text-align: right;\n",
       "    }\n",
       "\n",
       "    .dataframe thead th {\n",
       "        text-align: left;\n",
       "    }\n",
       "\n",
       "    .dataframe tbody tr th {\n",
       "        vertical-align: top;\n",
       "    }\n",
       "</style>\n",
       "<table border=\"1\" class=\"dataframe\">\n",
       "  <thead>\n",
       "    <tr style=\"text-align: right;\">\n",
       "      <th></th>\n",
       "      <th>days_since_last_play</th>\n",
       "      <th>active_days</th>\n",
       "      <th>ratio_3_over_23</th>\n",
       "      <th>ratio_7_over_23</th>\n",
       "      <th>ratio_14_over_23</th>\n",
       "      <th>no_play_3</th>\n",
       "      <th>no_play_7</th>\n",
       "      <th>log_total_count</th>\n",
       "      <th>log_total_time</th>\n",
       "      <th>log_most_popular_count</th>\n",
       "      <th>log_play_time</th>\n",
       "      <th>log_incomplete_ratio</th>\n",
       "      <th>all_complete</th>\n",
       "      <th>log_popular_ratio</th>\n",
       "      <th>no_popular_song</th>\n",
       "      <th>device_ar</th>\n",
       "      <th>device_ip</th>\n",
       "      <th>least_popular_count_0</th>\n",
       "      <th>least_popular_count_1-10</th>\n",
       "      <th>least_popular_count_&gt;10</th>\n",
       "    </tr>\n",
       "    <tr>\n",
       "      <th>uid</th>\n",
       "      <th></th>\n",
       "      <th></th>\n",
       "      <th></th>\n",
       "      <th></th>\n",
       "      <th></th>\n",
       "      <th></th>\n",
       "      <th></th>\n",
       "      <th></th>\n",
       "      <th></th>\n",
       "      <th></th>\n",
       "      <th></th>\n",
       "      <th></th>\n",
       "      <th></th>\n",
       "      <th></th>\n",
       "      <th></th>\n",
       "      <th></th>\n",
       "      <th></th>\n",
       "      <th></th>\n",
       "      <th></th>\n",
       "      <th></th>\n",
       "    </tr>\n",
       "  </thead>\n",
       "  <tbody>\n",
       "    <tr>\n",
       "      <th>1342999</th>\n",
       "      <td>-0.829765</td>\n",
       "      <td>2.064493</td>\n",
       "      <td>0.186314</td>\n",
       "      <td>0.329171</td>\n",
       "      <td>0.692557</td>\n",
       "      <td>0</td>\n",
       "      <td>0</td>\n",
       "      <td>3.602494</td>\n",
       "      <td>3.822158</td>\n",
       "      <td>3.170262</td>\n",
       "      <td>1.998245</td>\n",
       "      <td>1.727938</td>\n",
       "      <td>0</td>\n",
       "      <td>1.366474</td>\n",
       "      <td>0</td>\n",
       "      <td>1</td>\n",
       "      <td>0</td>\n",
       "      <td>0</td>\n",
       "      <td>1</td>\n",
       "      <td>0</td>\n",
       "    </tr>\n",
       "    <tr>\n",
       "      <th>1620163</th>\n",
       "      <td>0.256624</td>\n",
       "      <td>-0.894305</td>\n",
       "      <td>0.000000</td>\n",
       "      <td>0.172222</td>\n",
       "      <td>0.430556</td>\n",
       "      <td>1</td>\n",
       "      <td>0</td>\n",
       "      <td>2.556303</td>\n",
       "      <td>2.684711</td>\n",
       "      <td>1.716003</td>\n",
       "      <td>1.907008</td>\n",
       "      <td>1.778357</td>\n",
       "      <td>0</td>\n",
       "      <td>1.030285</td>\n",
       "      <td>0</td>\n",
       "      <td>1</td>\n",
       "      <td>0</td>\n",
       "      <td>0</td>\n",
       "      <td>1</td>\n",
       "      <td>0</td>\n",
       "    </tr>\n",
       "    <tr>\n",
       "      <th>1726025</th>\n",
       "      <td>-0.829765</td>\n",
       "      <td>2.064493</td>\n",
       "      <td>0.112853</td>\n",
       "      <td>0.219436</td>\n",
       "      <td>0.354232</td>\n",
       "      <td>0</td>\n",
       "      <td>0</td>\n",
       "      <td>2.503791</td>\n",
       "      <td>3.087231</td>\n",
       "      <td>1.643453</td>\n",
       "      <td>2.361745</td>\n",
       "      <td>0.120085</td>\n",
       "      <td>0</td>\n",
       "      <td>1.100327</td>\n",
       "      <td>0</td>\n",
       "      <td>1</td>\n",
       "      <td>0</td>\n",
       "      <td>0</td>\n",
       "      <td>1</td>\n",
       "      <td>0</td>\n",
       "    </tr>\n",
       "    <tr>\n",
       "      <th>1749320</th>\n",
       "      <td>-0.286570</td>\n",
       "      <td>-1.091558</td>\n",
       "      <td>0.000000</td>\n",
       "      <td>0.220635</td>\n",
       "      <td>1.000000</td>\n",
       "      <td>1</td>\n",
       "      <td>0</td>\n",
       "      <td>3.100371</td>\n",
       "      <td>5.520139</td>\n",
       "      <td>2.522444</td>\n",
       "      <td>4.197923</td>\n",
       "      <td>1.231907</td>\n",
       "      <td>0</td>\n",
       "      <td>1.271805</td>\n",
       "      <td>0</td>\n",
       "      <td>1</td>\n",
       "      <td>0</td>\n",
       "      <td>0</td>\n",
       "      <td>0</td>\n",
       "      <td>1</td>\n",
       "    </tr>\n",
       "    <tr>\n",
       "      <th>1918744</th>\n",
       "      <td>-0.467635</td>\n",
       "      <td>-0.697052</td>\n",
       "      <td>0.074074</td>\n",
       "      <td>0.185185</td>\n",
       "      <td>1.000000</td>\n",
       "      <td>0</td>\n",
       "      <td>0</td>\n",
       "      <td>1.431364</td>\n",
       "      <td>1.839268</td>\n",
       "      <td>1.113943</td>\n",
       "      <td>2.185710</td>\n",
       "      <td>1.254447</td>\n",
       "      <td>0</td>\n",
       "      <td>1.580207</td>\n",
       "      <td>0</td>\n",
       "      <td>1</td>\n",
       "      <td>0</td>\n",
       "      <td>0</td>\n",
       "      <td>1</td>\n",
       "      <td>0</td>\n",
       "    </tr>\n",
       "  </tbody>\n",
       "</table>\n",
       "</div>"
      ],
      "text/plain": [
       "         days_since_last_play  active_days  ratio_3_over_23  ratio_7_over_23  \\\n",
       "uid                                                                            \n",
       "1342999             -0.829765     2.064493         0.186314         0.329171   \n",
       "1620163              0.256624    -0.894305         0.000000         0.172222   \n",
       "1726025             -0.829765     2.064493         0.112853         0.219436   \n",
       "1749320             -0.286570    -1.091558         0.000000         0.220635   \n",
       "1918744             -0.467635    -0.697052         0.074074         0.185185   \n",
       "\n",
       "         ratio_14_over_23  no_play_3  no_play_7  log_total_count  \\\n",
       "uid                                                                \n",
       "1342999          0.692557          0          0         3.602494   \n",
       "1620163          0.430556          1          0         2.556303   \n",
       "1726025          0.354232          0          0         2.503791   \n",
       "1749320          1.000000          1          0         3.100371   \n",
       "1918744          1.000000          0          0         1.431364   \n",
       "\n",
       "         log_total_time  log_most_popular_count  log_play_time  \\\n",
       "uid                                                              \n",
       "1342999        3.822158                3.170262       1.998245   \n",
       "1620163        2.684711                1.716003       1.907008   \n",
       "1726025        3.087231                1.643453       2.361745   \n",
       "1749320        5.520139                2.522444       4.197923   \n",
       "1918744        1.839268                1.113943       2.185710   \n",
       "\n",
       "         log_incomplete_ratio  all_complete  log_popular_ratio  \\\n",
       "uid                                                              \n",
       "1342999              1.727938             0           1.366474   \n",
       "1620163              1.778357             0           1.030285   \n",
       "1726025              0.120085             0           1.100327   \n",
       "1749320              1.231907             0           1.271805   \n",
       "1918744              1.254447             0           1.580207   \n",
       "\n",
       "         no_popular_song  device_ar  device_ip  least_popular_count_0  \\\n",
       "uid                                                                     \n",
       "1342999                0          1          0                      0   \n",
       "1620163                0          1          0                      0   \n",
       "1726025                0          1          0                      0   \n",
       "1749320                0          1          0                      0   \n",
       "1918744                0          1          0                      0   \n",
       "\n",
       "         least_popular_count_1-10  least_popular_count_>10  \n",
       "uid                                                         \n",
       "1342999                         1                        0  \n",
       "1620163                         1                        0  \n",
       "1726025                         1                        0  \n",
       "1749320                         0                        1  \n",
       "1918744                         1                        0  "
      ]
     },
     "execution_count": 658,
     "metadata": {},
     "output_type": "execute_result"
    }
   ],
   "source": [
    "df_dummies.head()"
   ]
  },
  {
   "cell_type": "code",
   "execution_count": 659,
   "metadata": {},
   "outputs": [
    {
     "data": {
      "text/plain": [
       "(25377, 19)"
      ]
     },
     "execution_count": 659,
     "metadata": {},
     "output_type": "execute_result"
    }
   ],
   "source": [
    "df_dummies = df_dummies.drop('device_ar',axis = 1)\n",
    "df_dummies.shape"
   ]
  },
  {
   "cell_type": "code",
   "execution_count": 660,
   "metadata": {
    "collapsed": true
   },
   "outputs": [],
   "source": [
    "X_lr = df_dummies.values"
   ]
  },
  {
   "cell_type": "code",
   "execution_count": 661,
   "metadata": {
    "collapsed": true
   },
   "outputs": [],
   "source": [
    "X_train, X_test, y_train, y_test = train_test_split(X_lr, y, test_size=0.3, random_state=42)"
   ]
  },
  {
   "cell_type": "code",
   "execution_count": 572,
   "metadata": {
    "collapsed": true
   },
   "outputs": [],
   "source": [
    "from sklearn.linear_model import LogisticRegression\n",
    "\n",
    "model_lr = LogisticRegression(penalty = 'l2',C= 1, n_jobs = -1)"
   ]
  },
  {
   "cell_type": "code",
   "execution_count": 664,
   "metadata": {},
   "outputs": [
    {
     "data": {
      "text/plain": [
       "[[0.001, 0.74334290378877443, 0.74914630942999738],\n",
       " [0.01, 0.74869109947643975, 0.75295508274231682],\n",
       " [0.1, 0.74891628666328891, 0.75479380089309167],\n",
       " [1, 0.74919777064685023, 0.75610717100078806],\n",
       " [10, 0.74919777064685023, 0.75584449697924871],\n",
       " [100, 0.7490851770534257, 0.7557131599684791],\n",
       " [1000, 0.7490851770534257, 0.7557131599684791]]"
      ]
     },
     "execution_count": 664,
     "metadata": {},
     "output_type": "execute_result"
    }
   ],
   "source": [
    "accuracies = []\n",
    "#accuracies.columns = ['regularization','Accuracy_score_train','Accuracy_score_test']\n",
    "for c in [1e-3,1e-2,0.1,1,10,100,1000]:\n",
    "    model_lr = LogisticRegression(penalty = 'l2',C= c, n_jobs = -1)\n",
    "    model_lr.fit(X_train, y_train)\n",
    "    accuracies.append([c,model_lr.score(X_train, y_train), model_lr.score(X_test, y_test)])\n",
    "    \n",
    "accuracies"
   ]
  },
  {
   "cell_type": "code",
   "execution_count": 753,
   "metadata": {},
   "outputs": [
    {
     "data": {
      "text/plain": [
       "(0.74919777064685023, 0.75610717100078806)"
      ]
     },
     "execution_count": 753,
     "metadata": {},
     "output_type": "execute_result"
    }
   ],
   "source": [
    "model_lr = LogisticRegression(penalty = 'l2',C= 1, n_jobs = -1)\n",
    "model_lr.fit(X_train, y_train)\n",
    "model_lr.score(X_train, y_train), model_lr.score(X_test, y_test)"
   ]
  },
  {
   "cell_type": "code",
   "execution_count": 754,
   "metadata": {},
   "outputs": [
    {
     "data": {
      "text/plain": [
       "(1L, 19L)"
      ]
     },
     "execution_count": 754,
     "metadata": {},
     "output_type": "execute_result"
    }
   ],
   "source": [
    "model_lr.coef_.shape"
   ]
  },
  {
   "cell_type": "code",
   "execution_count": 755,
   "metadata": {},
   "outputs": [
    {
     "data": {
      "text/plain": [
       "(17763L, 19L)"
      ]
     },
     "execution_count": 755,
     "metadata": {},
     "output_type": "execute_result"
    }
   ],
   "source": [
    "X_train.shape"
   ]
  },
  {
   "cell_type": "code",
   "execution_count": 756,
   "metadata": {},
   "outputs": [
    {
     "data": {
      "text/plain": [
       "array([[ 0.91780841, -0.34171496,  0.10816575, -0.56495254, -0.26603855,\n",
       "         0.34870487, -0.08169177, -0.27711448, -0.20338536, -0.06855245,\n",
       "         0.2922184 , -0.04188007,  0.13129072,  0.17016119,  0.2833361 ,\n",
       "        -0.44687938,  0.30369902,  0.11785249,  0.08696071]])"
      ]
     },
     "execution_count": 756,
     "metadata": {},
     "output_type": "execute_result"
    }
   ],
   "source": [
    "model_lr.coef_"
   ]
  },
  {
   "cell_type": "code",
   "execution_count": 757,
   "metadata": {},
   "outputs": [
    {
     "data": {
      "text/plain": [
       "11"
      ]
     },
     "execution_count": 757,
     "metadata": {},
     "output_type": "execute_result"
    }
   ],
   "source": [
    "sum(abs(model_lr.coef_[0])>0.2)"
   ]
  },
  {
   "cell_type": "code",
   "execution_count": 758,
   "metadata": {},
   "outputs": [
    {
     "data": {
      "text/html": [
       "<div>\n",
       "<style>\n",
       "    .dataframe thead tr:only-child th {\n",
       "        text-align: right;\n",
       "    }\n",
       "\n",
       "    .dataframe thead th {\n",
       "        text-align: left;\n",
       "    }\n",
       "\n",
       "    .dataframe tbody tr th {\n",
       "        vertical-align: top;\n",
       "    }\n",
       "</style>\n",
       "<table border=\"1\" class=\"dataframe\">\n",
       "  <thead>\n",
       "    <tr style=\"text-align: right;\">\n",
       "      <th></th>\n",
       "      <th>feature</th>\n",
       "      <th>coeff</th>\n",
       "    </tr>\n",
       "  </thead>\n",
       "  <tbody>\n",
       "    <tr>\n",
       "      <th>0</th>\n",
       "      <td>days_since_last_play</td>\n",
       "      <td>0.917808</td>\n",
       "    </tr>\n",
       "    <tr>\n",
       "      <th>5</th>\n",
       "      <td>no_play_3</td>\n",
       "      <td>0.348705</td>\n",
       "    </tr>\n",
       "    <tr>\n",
       "      <th>16</th>\n",
       "      <td>least_popular_count_0</td>\n",
       "      <td>0.303699</td>\n",
       "    </tr>\n",
       "    <tr>\n",
       "      <th>10</th>\n",
       "      <td>log_play_time</td>\n",
       "      <td>0.292218</td>\n",
       "    </tr>\n",
       "    <tr>\n",
       "      <th>14</th>\n",
       "      <td>no_popular_song</td>\n",
       "      <td>0.283336</td>\n",
       "    </tr>\n",
       "    <tr>\n",
       "      <th>13</th>\n",
       "      <td>log_popular_ratio</td>\n",
       "      <td>0.170161</td>\n",
       "    </tr>\n",
       "    <tr>\n",
       "      <th>12</th>\n",
       "      <td>all_complete</td>\n",
       "      <td>0.131291</td>\n",
       "    </tr>\n",
       "    <tr>\n",
       "      <th>17</th>\n",
       "      <td>least_popular_count_1-10</td>\n",
       "      <td>0.117852</td>\n",
       "    </tr>\n",
       "    <tr>\n",
       "      <th>2</th>\n",
       "      <td>ratio_3_over_23</td>\n",
       "      <td>0.108166</td>\n",
       "    </tr>\n",
       "    <tr>\n",
       "      <th>18</th>\n",
       "      <td>least_popular_count_&gt;10</td>\n",
       "      <td>0.086961</td>\n",
       "    </tr>\n",
       "    <tr>\n",
       "      <th>11</th>\n",
       "      <td>log_incomplete_ratio</td>\n",
       "      <td>-0.041880</td>\n",
       "    </tr>\n",
       "    <tr>\n",
       "      <th>9</th>\n",
       "      <td>log_most_popular_count</td>\n",
       "      <td>-0.068552</td>\n",
       "    </tr>\n",
       "    <tr>\n",
       "      <th>6</th>\n",
       "      <td>no_play_7</td>\n",
       "      <td>-0.081692</td>\n",
       "    </tr>\n",
       "    <tr>\n",
       "      <th>8</th>\n",
       "      <td>log_total_time</td>\n",
       "      <td>-0.203385</td>\n",
       "    </tr>\n",
       "    <tr>\n",
       "      <th>4</th>\n",
       "      <td>ratio_14_over_23</td>\n",
       "      <td>-0.266039</td>\n",
       "    </tr>\n",
       "    <tr>\n",
       "      <th>7</th>\n",
       "      <td>log_total_count</td>\n",
       "      <td>-0.277114</td>\n",
       "    </tr>\n",
       "    <tr>\n",
       "      <th>1</th>\n",
       "      <td>active_days</td>\n",
       "      <td>-0.341715</td>\n",
       "    </tr>\n",
       "    <tr>\n",
       "      <th>15</th>\n",
       "      <td>device_ip</td>\n",
       "      <td>-0.446879</td>\n",
       "    </tr>\n",
       "    <tr>\n",
       "      <th>3</th>\n",
       "      <td>ratio_7_over_23</td>\n",
       "      <td>-0.564953</td>\n",
       "    </tr>\n",
       "  </tbody>\n",
       "</table>\n",
       "</div>"
      ],
      "text/plain": [
       "                     feature     coeff\n",
       "0       days_since_last_play  0.917808\n",
       "5                  no_play_3  0.348705\n",
       "16     least_popular_count_0  0.303699\n",
       "10             log_play_time  0.292218\n",
       "14           no_popular_song  0.283336\n",
       "13         log_popular_ratio  0.170161\n",
       "12              all_complete  0.131291\n",
       "17  least_popular_count_1-10  0.117852\n",
       "2            ratio_3_over_23  0.108166\n",
       "18   least_popular_count_>10  0.086961\n",
       "11      log_incomplete_ratio -0.041880\n",
       "9     log_most_popular_count -0.068552\n",
       "6                  no_play_7 -0.081692\n",
       "8             log_total_time -0.203385\n",
       "4           ratio_14_over_23 -0.266039\n",
       "7            log_total_count -0.277114\n",
       "1                active_days -0.341715\n",
       "15                 device_ip -0.446879\n",
       "3            ratio_7_over_23 -0.564953"
      ]
     },
     "execution_count": 758,
     "metadata": {},
     "output_type": "execute_result"
    }
   ],
   "source": [
    "columns = list(df_dummies.columns)\n",
    "coeffs = model_lr.coef_[0]\n",
    "df_coeffs = pd.DataFrame(list(zip(columns, coeffs))).sort_values(by=[1], ascending=True)\n",
    "df_coeffs.columns = ['feature', 'coeff']\n",
    "df_coeffs.iloc[::-1,:]"
   ]
  },
  {
   "cell_type": "code",
   "execution_count": 759,
   "metadata": {},
   "outputs": [
    {
     "data": {
      "image/png": "[encoded data removed]",
      "text/plain": [
       "<matplotlib.figure.Figure at 0x2921e518>"
      ]
     },
     "metadata": {},
     "output_type": "display_data"
    }
   ],
   "source": [
    "ax = df_coeffs.plot.barh(color = 'b')\n",
    "t = np.arange(X_lr.shape[1])\n",
    "ax.set_yticks(t)\n",
    "ax.set_yticklabels(df_coeffs['feature'])\n",
    "plt.rcParams[\"figure.figsize\"] = (8,8)\n",
    "plt.show()"
   ]
  },
  {
   "cell_type": "code",
   "execution_count": 760,
   "metadata": {},
   "outputs": [
    {
     "data": {
      "text/plain": [
       "array([11,  9,  6, 18,  2, 17, 12, 13,  8,  4,  7, 14, 10, 16,  1,  5, 15,\n",
       "        3,  0], dtype=int64)"
      ]
     },
     "execution_count": 760,
     "metadata": {},
     "output_type": "execute_result"
    }
   ],
   "source": [
    "np.argsort(abs(coeffs))"
   ]
  },
  {
   "cell_type": "code",
   "execution_count": 761,
   "metadata": {},
   "outputs": [
    {
     "data": {
      "text/plain": [
       "['log_incomplete_ratio',\n",
       " 'log_most_popular_count',\n",
       " 'no_play_7',\n",
       " 'least_popular_count_>10',\n",
       " 'ratio_3_over_23',\n",
       " 'least_popular_count_1-10',\n",
       " 'all_complete',\n",
       " 'log_popular_ratio',\n",
       " 'log_total_time',\n",
       " 'ratio_14_over_23',\n",
       " 'log_total_count',\n",
       " 'no_popular_song',\n",
       " 'log_play_time',\n",
       " 'least_popular_count_0',\n",
       " 'active_days',\n",
       " 'no_play_3',\n",
       " 'device_ip',\n",
       " 'ratio_7_over_23',\n",
       " 'days_since_last_play']"
      ]
     },
     "execution_count": 761,
     "metadata": {},
     "output_type": "execute_result"
    }
   ],
   "source": [
    "important_features = [columns[i] for i in np.argsort(abs(coeffs))]\n",
    "important_features"
   ]
  },
  {
   "cell_type": "code",
   "execution_count": 762,
   "metadata": {},
   "outputs": [],
   "source": [
    "important_coeffs = np.array([df_coeffs.loc[df_coeffs.feature == foo,'coeff'].values for foo in important_features]).flatten()"
   ]
  },
  {
   "cell_type": "code",
   "execution_count": 763,
   "metadata": {},
   "outputs": [
    {
     "data": {
      "text/plain": [
       "array([-0.04188007, -0.06855245, -0.08169177,  0.08696071,  0.10816575,\n",
       "        0.11785249,  0.13129072,  0.17016119, -0.20338536, -0.26603855,\n",
       "       -0.27711448,  0.2833361 ,  0.2922184 ,  0.30369902, -0.34171496,\n",
       "        0.34870487, -0.44687938, -0.56495254,  0.91780841])"
      ]
     },
     "execution_count": 763,
     "metadata": {},
     "output_type": "execute_result"
    }
   ],
   "source": [
    "important_coeffs"
   ]
  },
  {
   "cell_type": "code",
   "execution_count": 764,
   "metadata": {
    "collapsed": true
   },
   "outputs": [],
   "source": [
    "df_coeffs_important = pd.DataFrame(important_coeffs,important_features)"
   ]
  },
  {
   "cell_type": "code",
   "execution_count": 765,
   "metadata": {},
   "outputs": [
    {
     "data": {
      "text/html": [
       "<div>\n",
       "<style>\n",
       "    .dataframe thead tr:only-child th {\n",
       "        text-align: right;\n",
       "    }\n",
       "\n",
       "    .dataframe thead th {\n",
       "        text-align: left;\n",
       "    }\n",
       "\n",
       "    .dataframe tbody tr th {\n",
       "        vertical-align: top;\n",
       "    }\n",
       "</style>\n",
       "<table border=\"1\" class=\"dataframe\">\n",
       "  <thead>\n",
       "    <tr style=\"text-align: right;\">\n",
       "      <th></th>\n",
       "      <th>feature</th>\n",
       "      <th>coeff</th>\n",
       "    </tr>\n",
       "  </thead>\n",
       "  <tbody>\n",
       "    <tr>\n",
       "      <th>0</th>\n",
       "      <td>log_incomplete_ratio</td>\n",
       "      <td>-0.041880</td>\n",
       "    </tr>\n",
       "    <tr>\n",
       "      <th>1</th>\n",
       "      <td>log_most_popular_count</td>\n",
       "      <td>-0.068552</td>\n",
       "    </tr>\n",
       "    <tr>\n",
       "      <th>2</th>\n",
       "      <td>no_play_7</td>\n",
       "      <td>-0.081692</td>\n",
       "    </tr>\n",
       "    <tr>\n",
       "      <th>3</th>\n",
       "      <td>least_popular_count_&gt;10</td>\n",
       "      <td>0.086961</td>\n",
       "    </tr>\n",
       "    <tr>\n",
       "      <th>4</th>\n",
       "      <td>ratio_3_over_23</td>\n",
       "      <td>0.108166</td>\n",
       "    </tr>\n",
       "    <tr>\n",
       "      <th>5</th>\n",
       "      <td>least_popular_count_1-10</td>\n",
       "      <td>0.117852</td>\n",
       "    </tr>\n",
       "    <tr>\n",
       "      <th>6</th>\n",
       "      <td>all_complete</td>\n",
       "      <td>0.131291</td>\n",
       "    </tr>\n",
       "    <tr>\n",
       "      <th>7</th>\n",
       "      <td>log_popular_ratio</td>\n",
       "      <td>0.170161</td>\n",
       "    </tr>\n",
       "    <tr>\n",
       "      <th>8</th>\n",
       "      <td>log_total_time</td>\n",
       "      <td>-0.203385</td>\n",
       "    </tr>\n",
       "    <tr>\n",
       "      <th>9</th>\n",
       "      <td>ratio_14_over_23</td>\n",
       "      <td>-0.266039</td>\n",
       "    </tr>\n",
       "    <tr>\n",
       "      <th>10</th>\n",
       "      <td>log_total_count</td>\n",
       "      <td>-0.277114</td>\n",
       "    </tr>\n",
       "    <tr>\n",
       "      <th>11</th>\n",
       "      <td>no_popular_song</td>\n",
       "      <td>0.283336</td>\n",
       "    </tr>\n",
       "    <tr>\n",
       "      <th>12</th>\n",
       "      <td>log_play_time</td>\n",
       "      <td>0.292218</td>\n",
       "    </tr>\n",
       "    <tr>\n",
       "      <th>13</th>\n",
       "      <td>least_popular_count_0</td>\n",
       "      <td>0.303699</td>\n",
       "    </tr>\n",
       "    <tr>\n",
       "      <th>14</th>\n",
       "      <td>active_days</td>\n",
       "      <td>-0.341715</td>\n",
       "    </tr>\n",
       "    <tr>\n",
       "      <th>15</th>\n",
       "      <td>no_play_3</td>\n",
       "      <td>0.348705</td>\n",
       "    </tr>\n",
       "    <tr>\n",
       "      <th>16</th>\n",
       "      <td>device_ip</td>\n",
       "      <td>-0.446879</td>\n",
       "    </tr>\n",
       "    <tr>\n",
       "      <th>17</th>\n",
       "      <td>ratio_7_over_23</td>\n",
       "      <td>-0.564953</td>\n",
       "    </tr>\n",
       "    <tr>\n",
       "      <th>18</th>\n",
       "      <td>days_since_last_play</td>\n",
       "      <td>0.917808</td>\n",
       "    </tr>\n",
       "  </tbody>\n",
       "</table>\n",
       "</div>"
      ],
      "text/plain": [
       "                     feature     coeff\n",
       "0       log_incomplete_ratio -0.041880\n",
       "1     log_most_popular_count -0.068552\n",
       "2                  no_play_7 -0.081692\n",
       "3    least_popular_count_>10  0.086961\n",
       "4            ratio_3_over_23  0.108166\n",
       "5   least_popular_count_1-10  0.117852\n",
       "6               all_complete  0.131291\n",
       "7          log_popular_ratio  0.170161\n",
       "8             log_total_time -0.203385\n",
       "9           ratio_14_over_23 -0.266039\n",
       "10           log_total_count -0.277114\n",
       "11           no_popular_song  0.283336\n",
       "12             log_play_time  0.292218\n",
       "13     least_popular_count_0  0.303699\n",
       "14               active_days -0.341715\n",
       "15                 no_play_3  0.348705\n",
       "16                 device_ip -0.446879\n",
       "17           ratio_7_over_23 -0.564953\n",
       "18      days_since_last_play  0.917808"
      ]
     },
     "execution_count": 765,
     "metadata": {},
     "output_type": "execute_result"
    }
   ],
   "source": [
    "df_coeffs_important.reset_index(inplace = True)\n",
    "df_coeffs_important.columns = ['feature','coeff']\n",
    "df_coeffs_important"
   ]
  },
  {
   "cell_type": "code",
   "execution_count": 766,
   "metadata": {},
   "outputs": [
    {
     "data": {
      "image/png": "[encoded data removed]",
      "text/plain": [
       "<matplotlib.figure.Figure at 0x4fc65320>"
      ]
     },
     "metadata": {},
     "output_type": "display_data"
    }
   ],
   "source": [
    "ax = df_coeffs_important.plot.barh(color = 'b')\n",
    "t = np.arange(X_lr.shape[1])\n",
    "ax.set_yticks(t)\n",
    "ax.set_yticklabels(df_coeffs_important['feature'])\n",
    "#plt.rcParams[\"figure.figsize\"] = (8,8)\n",
    "plt.show()"
   ]
  },
  {
   "cell_type": "code",
   "execution_count": 774,
   "metadata": {
    "collapsed": true
   },
   "outputs": [],
   "source": [
    "user_profile= ['device_ip','log_most_popular_count','log_play_time','no_popular_song',\\\n",
    "               'log_total_count','least_popular_count_0','all_complete']\n"
   ]
  },
  {
   "cell_type": "code",
   "execution_count": 775,
   "metadata": {},
   "outputs": [
    {
     "data": {
      "text/html": [
       "<div>\n",
       "<style>\n",
       "    .dataframe thead tr:only-child th {\n",
       "        text-align: right;\n",
       "    }\n",
       "\n",
       "    .dataframe thead th {\n",
       "        text-align: left;\n",
       "    }\n",
       "\n",
       "    .dataframe tbody tr th {\n",
       "        vertical-align: top;\n",
       "    }\n",
       "</style>\n",
       "<table border=\"1\" class=\"dataframe\">\n",
       "  <thead>\n",
       "    <tr style=\"text-align: right;\">\n",
       "      <th></th>\n",
       "      <th>feature</th>\n",
       "      <th>coeff</th>\n",
       "    </tr>\n",
       "  </thead>\n",
       "  <tbody>\n",
       "    <tr>\n",
       "      <th>1</th>\n",
       "      <td>log_most_popular_count</td>\n",
       "      <td>-0.068552</td>\n",
       "    </tr>\n",
       "    <tr>\n",
       "      <th>6</th>\n",
       "      <td>all_complete</td>\n",
       "      <td>0.131291</td>\n",
       "    </tr>\n",
       "    <tr>\n",
       "      <th>10</th>\n",
       "      <td>log_total_count</td>\n",
       "      <td>-0.277114</td>\n",
       "    </tr>\n",
       "    <tr>\n",
       "      <th>11</th>\n",
       "      <td>no_popular_song</td>\n",
       "      <td>0.283336</td>\n",
       "    </tr>\n",
       "    <tr>\n",
       "      <th>12</th>\n",
       "      <td>log_play_time</td>\n",
       "      <td>0.292218</td>\n",
       "    </tr>\n",
       "    <tr>\n",
       "      <th>13</th>\n",
       "      <td>least_popular_count_0</td>\n",
       "      <td>0.303699</td>\n",
       "    </tr>\n",
       "    <tr>\n",
       "      <th>16</th>\n",
       "      <td>device_ip</td>\n",
       "      <td>-0.446879</td>\n",
       "    </tr>\n",
       "  </tbody>\n",
       "</table>\n",
       "</div>"
      ],
      "text/plain": [
       "                   feature     coeff\n",
       "1   log_most_popular_count -0.068552\n",
       "6             all_complete  0.131291\n",
       "10         log_total_count -0.277114\n",
       "11         no_popular_song  0.283336\n",
       "12           log_play_time  0.292218\n",
       "13   least_popular_count_0  0.303699\n",
       "16               device_ip -0.446879"
      ]
     },
     "execution_count": 775,
     "metadata": {},
     "output_type": "execute_result"
    }
   ],
   "source": [
    "df_user_profile = df_coeffs_important.loc[df_coeffs_important.feature.isin(user_profile),:]\n",
    "df_user_profile"
   ]
  },
  {
   "cell_type": "code",
   "execution_count": 776,
   "metadata": {},
   "outputs": [
    {
     "name": "stderr",
     "output_type": "stream",
     "text": [
      "C:\\Users\\Sean\\Anaconda2\\lib\\site-packages\\ipykernel_launcher.py:1: SettingWithCopyWarning: \n",
      "A value is trying to be set on a copy of a slice from a DataFrame.\n",
      "Try using .loc[row_indexer,col_indexer] = value instead\n",
      "\n",
      "See the caveats in the documentation: http://pandas.pydata.org/pandas-docs/stable/indexing.html#indexing-view-versus-copy\n",
      "  \"\"\"Entry point for launching an IPython kernel.\n"
     ]
    },
    {
     "data": {
      "text/html": [
       "<div>\n",
       "<style>\n",
       "    .dataframe thead tr:only-child th {\n",
       "        text-align: right;\n",
       "    }\n",
       "\n",
       "    .dataframe thead th {\n",
       "        text-align: left;\n",
       "    }\n",
       "\n",
       "    .dataframe tbody tr th {\n",
       "        vertical-align: top;\n",
       "    }\n",
       "</style>\n",
       "<table border=\"1\" class=\"dataframe\">\n",
       "  <thead>\n",
       "    <tr style=\"text-align: right;\">\n",
       "      <th></th>\n",
       "      <th>feature</th>\n",
       "      <th>coeff</th>\n",
       "      <th>odds_ratio</th>\n",
       "    </tr>\n",
       "  </thead>\n",
       "  <tbody>\n",
       "    <tr>\n",
       "      <th>1</th>\n",
       "      <td>log_most_popular_count</td>\n",
       "      <td>-0.068552</td>\n",
       "      <td>0.933744</td>\n",
       "    </tr>\n",
       "    <tr>\n",
       "      <th>6</th>\n",
       "      <td>all_complete</td>\n",
       "      <td>0.131291</td>\n",
       "      <td>1.140299</td>\n",
       "    </tr>\n",
       "    <tr>\n",
       "      <th>10</th>\n",
       "      <td>log_total_count</td>\n",
       "      <td>-0.277114</td>\n",
       "      <td>0.757968</td>\n",
       "    </tr>\n",
       "    <tr>\n",
       "      <th>11</th>\n",
       "      <td>no_popular_song</td>\n",
       "      <td>0.283336</td>\n",
       "      <td>1.327551</td>\n",
       "    </tr>\n",
       "    <tr>\n",
       "      <th>12</th>\n",
       "      <td>log_play_time</td>\n",
       "      <td>0.292218</td>\n",
       "      <td>1.339396</td>\n",
       "    </tr>\n",
       "    <tr>\n",
       "      <th>13</th>\n",
       "      <td>least_popular_count_0</td>\n",
       "      <td>0.303699</td>\n",
       "      <td>1.354861</td>\n",
       "    </tr>\n",
       "    <tr>\n",
       "      <th>16</th>\n",
       "      <td>device_ip</td>\n",
       "      <td>-0.446879</td>\n",
       "      <td>0.639621</td>\n",
       "    </tr>\n",
       "  </tbody>\n",
       "</table>\n",
       "</div>"
      ],
      "text/plain": [
       "                   feature     coeff  odds_ratio\n",
       "1   log_most_popular_count -0.068552    0.933744\n",
       "6             all_complete  0.131291    1.140299\n",
       "10         log_total_count -0.277114    0.757968\n",
       "11         no_popular_song  0.283336    1.327551\n",
       "12           log_play_time  0.292218    1.339396\n",
       "13   least_popular_count_0  0.303699    1.354861\n",
       "16               device_ip -0.446879    0.639621"
      ]
     },
     "execution_count": 776,
     "metadata": {},
     "output_type": "execute_result"
    }
   ],
   "source": [
    "df_user_profile['odds_ratio'] = df_user_profile.coeff.apply(np.exp)\n",
    "df_user_profile"
   ]
  },
  {
   "cell_type": "code",
   "execution_count": 778,
   "metadata": {},
   "outputs": [
    {
     "data": {
      "text/html": [
       "<div>\n",
       "<style>\n",
       "    .dataframe thead tr:only-child th {\n",
       "        text-align: right;\n",
       "    }\n",
       "\n",
       "    .dataframe thead th {\n",
       "        text-align: left;\n",
       "    }\n",
       "\n",
       "    .dataframe tbody tr th {\n",
       "        vertical-align: top;\n",
       "    }\n",
       "</style>\n",
       "<table border=\"1\" class=\"dataframe\">\n",
       "  <thead>\n",
       "    <tr style=\"text-align: right;\">\n",
       "      <th></th>\n",
       "      <th>feature</th>\n",
       "      <th>coeff</th>\n",
       "      <th>odds_ratio</th>\n",
       "    </tr>\n",
       "  </thead>\n",
       "  <tbody>\n",
       "    <tr>\n",
       "      <th>6</th>\n",
       "      <td>all_complete</td>\n",
       "      <td>0.131291</td>\n",
       "      <td>1.140299</td>\n",
       "    </tr>\n",
       "    <tr>\n",
       "      <th>11</th>\n",
       "      <td>no_popular_song</td>\n",
       "      <td>0.283336</td>\n",
       "      <td>1.327551</td>\n",
       "    </tr>\n",
       "    <tr>\n",
       "      <th>13</th>\n",
       "      <td>least_popular_count_0</td>\n",
       "      <td>0.303699</td>\n",
       "      <td>1.354861</td>\n",
       "    </tr>\n",
       "    <tr>\n",
       "      <th>16</th>\n",
       "      <td>device_ip</td>\n",
       "      <td>-0.446879</td>\n",
       "      <td>0.639621</td>\n",
       "    </tr>\n",
       "  </tbody>\n",
       "</table>\n",
       "</div>"
      ],
      "text/plain": [
       "                  feature     coeff  odds_ratio\n",
       "6            all_complete  0.131291    1.140299\n",
       "11        no_popular_song  0.283336    1.327551\n",
       "13  least_popular_count_0  0.303699    1.354861\n",
       "16              device_ip -0.446879    0.639621"
      ]
     },
     "execution_count": 778,
     "metadata": {},
     "output_type": "execute_result"
    }
   ],
   "source": [
    "df_user_profile_cate = df_user_profile.loc[df_user_profile.feature.isin(['device_ip',\\\n",
    "                                                  'no_popular_song','least_popular_count_0','all_complete']),:]\n",
    "df_user_profile_cate"
   ]
  },
  {
   "cell_type": "code",
   "execution_count": 779,
   "metadata": {},
   "outputs": [
    {
     "name": "stderr",
     "output_type": "stream",
     "text": [
      "C:\\Users\\Sean\\Anaconda2\\lib\\site-packages\\ipykernel_launcher.py:1: SettingWithCopyWarning: \n",
      "A value is trying to be set on a copy of a slice from a DataFrame.\n",
      "Try using .loc[row_indexer,col_indexer] = value instead\n",
      "\n",
      "See the caveats in the documentation: http://pandas.pydata.org/pandas-docs/stable/indexing.html#indexing-view-versus-copy\n",
      "  \"\"\"Entry point for launching an IPython kernel.\n"
     ]
    },
    {
     "data": {
      "text/html": [
       "<div>\n",
       "<style>\n",
       "    .dataframe thead tr:only-child th {\n",
       "        text-align: right;\n",
       "    }\n",
       "\n",
       "    .dataframe thead th {\n",
       "        text-align: left;\n",
       "    }\n",
       "\n",
       "    .dataframe tbody tr th {\n",
       "        vertical-align: top;\n",
       "    }\n",
       "</style>\n",
       "<table border=\"1\" class=\"dataframe\">\n",
       "  <thead>\n",
       "    <tr style=\"text-align: right;\">\n",
       "      <th></th>\n",
       "      <th>feature</th>\n",
       "      <th>coeff</th>\n",
       "      <th>odds_ratio</th>\n",
       "      <th>churn_proba</th>\n",
       "    </tr>\n",
       "  </thead>\n",
       "  <tbody>\n",
       "    <tr>\n",
       "      <th>6</th>\n",
       "      <td>all_complete</td>\n",
       "      <td>0.131291</td>\n",
       "      <td>1.140299</td>\n",
       "      <td>0.532776</td>\n",
       "    </tr>\n",
       "    <tr>\n",
       "      <th>11</th>\n",
       "      <td>no_popular_song</td>\n",
       "      <td>0.283336</td>\n",
       "      <td>1.327551</td>\n",
       "      <td>0.570364</td>\n",
       "    </tr>\n",
       "    <tr>\n",
       "      <th>13</th>\n",
       "      <td>least_popular_count_0</td>\n",
       "      <td>0.303699</td>\n",
       "      <td>1.354861</td>\n",
       "      <td>0.575347</td>\n",
       "    </tr>\n",
       "    <tr>\n",
       "      <th>16</th>\n",
       "      <td>device_ip</td>\n",
       "      <td>-0.446879</td>\n",
       "      <td>0.639621</td>\n",
       "      <td>0.390103</td>\n",
       "    </tr>\n",
       "  </tbody>\n",
       "</table>\n",
       "</div>"
      ],
      "text/plain": [
       "                  feature     coeff  odds_ratio  churn_proba\n",
       "6            all_complete  0.131291    1.140299     0.532776\n",
       "11        no_popular_song  0.283336    1.327551     0.570364\n",
       "13  least_popular_count_0  0.303699    1.354861     0.575347\n",
       "16              device_ip -0.446879    0.639621     0.390103"
      ]
     },
     "execution_count": 779,
     "metadata": {},
     "output_type": "execute_result"
    }
   ],
   "source": [
    "df_user_profile_cate['churn_proba'] = df_user_profile_cate.odds_ratio.apply(lambda x: x/(1+x))\n",
    "df_user_profile_cate"
   ]
  },
  {
   "cell_type": "code",
   "execution_count": 789,
   "metadata": {},
   "outputs": [
    {
     "data": {
      "image/png": "[encoded data removed]",
      "text/plain": [
       "<matplotlib.figure.Figure at 0x41eab978>"
      ]
     },
     "metadata": {},
     "output_type": "display_data"
    }
   ],
   "source": [
    "ax = df_user_profile_cate.loc[:,'churn_proba'].plot.bar(color = 'b')\n",
    "t = np.arange(df_user_profile_cate.shape[0])\n",
    "ax.set_xticks(t)\n",
    "ax.set_xticklabels(df_user_profile_cate['feature'],rotation = 0)\n",
    "plt.rcParams[\"figure.figsize\"] = (8,8)\n",
    "plt.show()"
   ]
  },
  {
   "cell_type": "code",
   "execution_count": null,
   "metadata": {
    "collapsed": true
   },
   "outputs": [],
   "source": []
  },
  {
   "cell_type": "code",
   "execution_count": null,
   "metadata": {
    "collapsed": true
   },
   "outputs": [],
   "source": []
  },
  {
   "cell_type": "code",
   "execution_count": null,
   "metadata": {
    "collapsed": true
   },
   "outputs": [],
   "source": []
  },
  {
   "cell_type": "code",
   "execution_count": null,
   "metadata": {
    "collapsed": true
   },
   "outputs": [],
   "source": []
  },
  {
   "cell_type": "code",
   "execution_count": null,
   "metadata": {
    "collapsed": true
   },
   "outputs": [],
   "source": []
  },
  {
   "cell_type": "code",
   "execution_count": null,
   "metadata": {
    "collapsed": true
   },
   "outputs": [],
   "source": []
  },
  {
   "cell_type": "code",
   "execution_count": null,
   "metadata": {
    "collapsed": true
   },
   "outputs": [],
   "source": []
  },
  {
   "cell_type": "code",
   "execution_count": 724,
   "metadata": {},
   "outputs": [
    {
     "data": {
      "text/plain": [
       "[<matplotlib.text.Text at 0x4bf08d30>,\n",
       " <matplotlib.text.Text at 0x4bc017b8>,\n",
       " <matplotlib.text.Text at 0x4bf36e48>,\n",
       " <matplotlib.text.Text at 0x322a34e0>,\n",
       " <matplotlib.text.Text at 0x322a3b38>,\n",
       " <matplotlib.text.Text at 0x3229f1d0>,\n",
       " <matplotlib.text.Text at 0x3229f828>,\n",
       " <matplotlib.text.Text at 0x3229fe80>,\n",
       " <matplotlib.text.Text at 0x322b3518>,\n",
       " <matplotlib.text.Text at 0x322b3b70>,\n",
       " <matplotlib.text.Text at 0x322bf208>,\n",
       " <matplotlib.text.Text at 0x322bf860>,\n",
       " <matplotlib.text.Text at 0x322bfeb8>,\n",
       " <matplotlib.text.Text at 0x4bde51d0>,\n",
       " <matplotlib.text.Text at 0x4bde5240>,\n",
       " <matplotlib.text.Text at 0x4bdcb240>,\n",
       " <matplotlib.text.Text at 0x4bc01a20>,\n",
       " <matplotlib.text.Text at 0x4bf08550>,\n",
       " <matplotlib.text.Text at 0x4bdcb400>]"
      ]
     },
     "execution_count": 724,
     "metadata": {},
     "output_type": "execute_result"
    },
    {
     "data": {
      "image/png": "[encoded data removed]",
      "text/plain": [
       "<matplotlib.figure.Figure at 0x3228cb70>"
      ]
     },
     "metadata": {},
     "output_type": "display_data"
    }
   ],
   "source": [
    "fig, ax = plt.subplots(1, figsize=(14, 3))\n",
    "t = np.arange(df_coeffs.shape[0])\n",
    "xtick = list(df_coeffs.feature)\n",
    "ax.bar(t, odds, align=\"center\")\n",
    "ax.set_title(\"odds ratio of Logistic Regression model\")\n",
    "ax.set_xticks(t)\n",
    "ax.set_xticklabels(xtick,rotation =90)"
   ]
  },
  {
   "cell_type": "code",
   "execution_count": null,
   "metadata": {
    "collapsed": true
   },
   "outputs": [],
   "source": []
  },
  {
   "cell_type": "code",
   "execution_count": null,
   "metadata": {
    "collapsed": true
   },
   "outputs": [],
   "source": []
  },
  {
   "cell_type": "code",
   "execution_count": null,
   "metadata": {
    "collapsed": true
   },
   "outputs": [],
   "source": []
  },
  {
   "cell_type": "markdown",
   "metadata": {},
   "source": [
    "### Profit curve"
   ]
  },
  {
   "cell_type": "code",
   "execution_count": 386,
   "metadata": {
    "collapsed": true
   },
   "outputs": [],
   "source": [
    "from sklearn.metrics import confusion_matrix\n",
    "\n",
    "def standard_confusion_matrix(y_true, y_predict):\n",
    "    \"\"\"Given y and predicted y, generate standard orientation\n",
    "    \n",
    "    Args:\n",
    "    =====\n",
    "    numpy array: y_true - array of true label\n",
    "    numpy array: y_predict - array of predicted label\n",
    "    \n",
    "    Return:\n",
    "    ======:\n",
    "    numpy array: confusion matrix, 2x2 numpy array\n",
    "    \"\"\"\n",
    "    [[tn, fp], [fn, tp]] = confusion_matrix(y_true, y_predict)\n",
    "    return np.array([[tp, fp], [fn, tn]])\n",
    "\n",
    "\n",
    "def profit_curve(cost_benefit_matrix, probabilities, y_true):\n",
    "    \"\"\"Given cost-benefit matrix, predicted probability, \n",
    "    and true label, calculate expected profit associated with \n",
    "    each threshold.\n",
    "    \n",
    "    Args:\n",
    "    =====\n",
    "    numpy array: cost_benefit_matrix, 2x2 array\n",
    "    numpy array: probabilities - array of predicted probabilities\n",
    "    numpy array: y_true - array of true label\n",
    "    \n",
    "    Return:\n",
    "    ======:\n",
    "    numpy array: threshold\n",
    "    numpy array: profit\n",
    "    \"\"\"\n",
    "    thresholds = sorted(probabilities, reverse=True)\n",
    "    profits = []\n",
    "    for threshold in thresholds:\n",
    "        #print 'checking %dth threshold...' % i\n",
    "        y_predict = probabilities > threshold\n",
    "        confusion_mat = standard_confusion_matrix(y_true, y_predict)\n",
    "        profit = np.sum(confusion_mat * cost_benefit_matrix) / float(len(y_true))\n",
    "        profits.append(profit)\n",
    "    return thresholds, profits\n",
    "\n",
    "\n",
    "def plot_profit_model(profits, label=\"Logistic Regression\"):\n",
    "    \"\"\"Plot profits against pertentage of test instance\n",
    "    \"\"\"\n",
    "    percentages = np.linspace(0, 100, len(profits))\n",
    "    plt.plot(percentages, profits, label=label)\n",
    "    plt.title(\"Profit Curve\")\n",
    "    plt.xlabel(\"Percentage of test instances (decreasing by score)\")\n",
    "    plt.ylabel(\"Profit\")\n",
    "    plt.legend(loc='best')\n",
    "    plt.savefig('profit_curve.png')\n",
    "    plt.show()\n",
    "    \n",
    "def find_best_threshold(thresholds, profits):\n",
    "    \"\"\"Find the best threshold that gives max profit\n",
    "    \n",
    "    Args:\n",
    "    =====\n",
    "    numpy array: thresholds - array of sorted threshold\n",
    "    numpy array: profits - array of profits\n",
    "    \n",
    "    Return:\n",
    "    ======:\n",
    "    float: threshold that corresponds to max profit\n",
    "    float: max profit\n",
    "    \"\"\"\n",
    "    return thresholds[np.argmax(profits)],np.max(profits)"
   ]
  },
  {
   "cell_type": "code",
   "execution_count": 373,
   "metadata": {},
   "outputs": [
    {
     "data": {
      "text/plain": [
       "array([[ 10, -10],\n",
       "       [ -5,   0]])"
      ]
     },
     "execution_count": 373,
     "metadata": {},
     "output_type": "execute_result"
    }
   ],
   "source": [
    "costbenefit =  np.array([[10,-10],[-5,0]])\n",
    "costbenefit"
   ]
  },
  {
   "cell_type": "code",
   "execution_count": 792,
   "metadata": {},
   "outputs": [
    {
     "data": {
      "text/plain": [
       "(7614L, 19L)"
      ]
     },
     "execution_count": 792,
     "metadata": {},
     "output_type": "execute_result"
    }
   ],
   "source": [
    "X_test.shape"
   ]
  },
  {
   "cell_type": "code",
   "execution_count": 793,
   "metadata": {},
   "outputs": [
    {
     "ename": "ValueError",
     "evalue": "Number of features of the model must match the input. Model n_features is 23 and input n_features is 19 ",
     "output_type": "error",
     "traceback": [
      "\u001b[0;31m---------------------------------------------------------------------------\u001b[0m",
      "\u001b[0;31mValueError\u001b[0m                                Traceback (most recent call last)",
      "\u001b[0;32m<ipython-input-793-54745512274e>\u001b[0m in \u001b[0;36m<module>\u001b[0;34m()\u001b[0m\n\u001b[1;32m      1\u001b[0m \u001b[1;31m# Make prediction on the probabilities\u001b[0m\u001b[1;33m\u001b[0m\u001b[1;33m\u001b[0m\u001b[0m\n\u001b[0;32m----> 2\u001b[0;31m \u001b[0mprobabilities\u001b[0m \u001b[1;33m=\u001b[0m \u001b[0mmodel_rfc\u001b[0m\u001b[1;33m.\u001b[0m\u001b[0mpredict_proba\u001b[0m\u001b[1;33m(\u001b[0m\u001b[0mX_test\u001b[0m\u001b[1;33m)\u001b[0m\u001b[1;33m[\u001b[0m\u001b[1;33m:\u001b[0m\u001b[1;33m,\u001b[0m \u001b[1;36m1\u001b[0m\u001b[1;33m]\u001b[0m\u001b[1;33m\u001b[0m\u001b[0m\n\u001b[0m\u001b[1;32m      3\u001b[0m \u001b[0mprobabilities\u001b[0m\u001b[1;33m.\u001b[0m\u001b[0mshape\u001b[0m\u001b[1;33m\u001b[0m\u001b[0m\n",
      "\u001b[0;32mC:\\Users\\Sean\\Anaconda2\\lib\\site-packages\\sklearn\\ensemble\\forest.pyc\u001b[0m in \u001b[0;36mpredict_proba\u001b[0;34m(self, X)\u001b[0m\n\u001b[1;32m    571\u001b[0m         \"\"\"\n\u001b[1;32m    572\u001b[0m         \u001b[1;31m# Check data\u001b[0m\u001b[1;33m\u001b[0m\u001b[1;33m\u001b[0m\u001b[0m\n\u001b[0;32m--> 573\u001b[0;31m         \u001b[0mX\u001b[0m \u001b[1;33m=\u001b[0m \u001b[0mself\u001b[0m\u001b[1;33m.\u001b[0m\u001b[0m_validate_X_predict\u001b[0m\u001b[1;33m(\u001b[0m\u001b[0mX\u001b[0m\u001b[1;33m)\u001b[0m\u001b[1;33m\u001b[0m\u001b[0m\n\u001b[0m\u001b[1;32m    574\u001b[0m \u001b[1;33m\u001b[0m\u001b[0m\n\u001b[1;32m    575\u001b[0m         \u001b[1;31m# Assign chunk of trees to jobs\u001b[0m\u001b[1;33m\u001b[0m\u001b[1;33m\u001b[0m\u001b[0m\n",
      "\u001b[0;32mC:\\Users\\Sean\\Anaconda2\\lib\\site-packages\\sklearn\\ensemble\\forest.pyc\u001b[0m in \u001b[0;36m_validate_X_predict\u001b[0;34m(self, X)\u001b[0m\n\u001b[1;32m    353\u001b[0m                                  \"call `fit` before exploiting the model.\")\n\u001b[1;32m    354\u001b[0m \u001b[1;33m\u001b[0m\u001b[0m\n\u001b[0;32m--> 355\u001b[0;31m         \u001b[1;32mreturn\u001b[0m \u001b[0mself\u001b[0m\u001b[1;33m.\u001b[0m\u001b[0mestimators_\u001b[0m\u001b[1;33m[\u001b[0m\u001b[1;36m0\u001b[0m\u001b[1;33m]\u001b[0m\u001b[1;33m.\u001b[0m\u001b[0m_validate_X_predict\u001b[0m\u001b[1;33m(\u001b[0m\u001b[0mX\u001b[0m\u001b[1;33m,\u001b[0m \u001b[0mcheck_input\u001b[0m\u001b[1;33m=\u001b[0m\u001b[0mTrue\u001b[0m\u001b[1;33m)\u001b[0m\u001b[1;33m\u001b[0m\u001b[0m\n\u001b[0m\u001b[1;32m    356\u001b[0m \u001b[1;33m\u001b[0m\u001b[0m\n\u001b[1;32m    357\u001b[0m     \u001b[1;33m@\u001b[0m\u001b[0mproperty\u001b[0m\u001b[1;33m\u001b[0m\u001b[0m\n",
      "\u001b[0;32mC:\\Users\\Sean\\Anaconda2\\lib\\site-packages\\sklearn\\tree\\tree.pyc\u001b[0m in \u001b[0;36m_validate_X_predict\u001b[0;34m(self, X, check_input)\u001b[0m\n\u001b[1;32m    374\u001b[0m                              \u001b[1;34m\"match the input. Model n_features is %s and \"\u001b[0m\u001b[1;33m\u001b[0m\u001b[0m\n\u001b[1;32m    375\u001b[0m                              \u001b[1;34m\"input n_features is %s \"\u001b[0m\u001b[1;33m\u001b[0m\u001b[0m\n\u001b[0;32m--> 376\u001b[0;31m                              % (self.n_features_, n_features))\n\u001b[0m\u001b[1;32m    377\u001b[0m \u001b[1;33m\u001b[0m\u001b[0m\n\u001b[1;32m    378\u001b[0m         \u001b[1;32mreturn\u001b[0m \u001b[0mX\u001b[0m\u001b[1;33m\u001b[0m\u001b[0m\n",
      "\u001b[0;31mValueError\u001b[0m: Number of features of the model must match the input. Model n_features is 23 and input n_features is 19 "
     ]
    }
   ],
   "source": [
    "# Make prediction on the probabilities\n",
    "probabilities = model_rfc.predict_proba(X_test)[:, 1]\n",
    "probabilities.shape"
   ]
  },
  {
   "cell_type": "code",
   "execution_count": 376,
   "metadata": {},
   "outputs": [
    {
     "data": {
      "text/plain": [
       "(array([ 0.9708733 ,  0.51317326,  0.73277601,  0.94402161,  0.86340074,\n",
       "         0.74959648,  0.51456927,  0.16509723,  0.05666138,  0.82583703]),\n",
       " array([1, 1, 0, 1, 0, 0, 0, 0, 0, 1]))"
      ]
     },
     "execution_count": 376,
     "metadata": {},
     "output_type": "execute_result"
    }
   ],
   "source": [
    "probabilities[:10],y_test[:10]"
   ]
  },
  {
   "cell_type": "code",
   "execution_count": 790,
   "metadata": {},
   "outputs": [
    {
     "ename": "ValueError",
     "evalue": "Found input variables with inconsistent numbers of samples: [7614, 7617]",
     "output_type": "error",
     "traceback": [
      "\u001b[0;31m---------------------------------------------------------------------------\u001b[0m",
      "\u001b[0;31mValueError\u001b[0m                                Traceback (most recent call last)",
      "\u001b[0;32m<ipython-input-790-d4d936c34eca>\u001b[0m in \u001b[0;36m<module>\u001b[0;34m()\u001b[0m\n\u001b[0;32m----> 1\u001b[0;31m \u001b[0mAUC\u001b[0m \u001b[1;33m=\u001b[0m \u001b[0mroc_auc_score\u001b[0m\u001b[1;33m(\u001b[0m\u001b[0my_test\u001b[0m\u001b[1;33m,\u001b[0m \u001b[0mprobabilities\u001b[0m\u001b[1;33m>\u001b[0m\u001b[1;36m0.5\u001b[0m\u001b[1;33m)\u001b[0m\u001b[1;33m\u001b[0m\u001b[0m\n\u001b[0m\u001b[1;32m      2\u001b[0m \u001b[0mAUC\u001b[0m\u001b[1;33m\u001b[0m\u001b[0m\n",
      "\u001b[0;32mC:\\Users\\Sean\\Anaconda2\\lib\\site-packages\\sklearn\\metrics\\ranking.pyc\u001b[0m in \u001b[0;36mroc_auc_score\u001b[0;34m(y_true, y_score, average, sample_weight)\u001b[0m\n\u001b[1;32m    258\u001b[0m     return _average_binary_score(\n\u001b[1;32m    259\u001b[0m         \u001b[0m_binary_roc_auc_score\u001b[0m\u001b[1;33m,\u001b[0m \u001b[0my_true\u001b[0m\u001b[1;33m,\u001b[0m \u001b[0my_score\u001b[0m\u001b[1;33m,\u001b[0m \u001b[0maverage\u001b[0m\u001b[1;33m,\u001b[0m\u001b[1;33m\u001b[0m\u001b[0m\n\u001b[0;32m--> 260\u001b[0;31m         sample_weight=sample_weight)\n\u001b[0m\u001b[1;32m    261\u001b[0m \u001b[1;33m\u001b[0m\u001b[0m\n\u001b[1;32m    262\u001b[0m \u001b[1;33m\u001b[0m\u001b[0m\n",
      "\u001b[0;32mC:\\Users\\Sean\\Anaconda2\\lib\\site-packages\\sklearn\\metrics\\base.pyc\u001b[0m in \u001b[0;36m_average_binary_score\u001b[0;34m(binary_metric, y_true, y_score, average, sample_weight)\u001b[0m\n\u001b[1;32m     82\u001b[0m \u001b[1;33m\u001b[0m\u001b[0m\n\u001b[1;32m     83\u001b[0m     \u001b[1;32mif\u001b[0m \u001b[0my_type\u001b[0m \u001b[1;33m==\u001b[0m \u001b[1;34m\"binary\"\u001b[0m\u001b[1;33m:\u001b[0m\u001b[1;33m\u001b[0m\u001b[0m\n\u001b[0;32m---> 84\u001b[0;31m         \u001b[1;32mreturn\u001b[0m \u001b[0mbinary_metric\u001b[0m\u001b[1;33m(\u001b[0m\u001b[0my_true\u001b[0m\u001b[1;33m,\u001b[0m \u001b[0my_score\u001b[0m\u001b[1;33m,\u001b[0m \u001b[0msample_weight\u001b[0m\u001b[1;33m=\u001b[0m\u001b[0msample_weight\u001b[0m\u001b[1;33m)\u001b[0m\u001b[1;33m\u001b[0m\u001b[0m\n\u001b[0m\u001b[1;32m     85\u001b[0m \u001b[1;33m\u001b[0m\u001b[0m\n\u001b[1;32m     86\u001b[0m     \u001b[0mcheck_consistent_length\u001b[0m\u001b[1;33m(\u001b[0m\u001b[0my_true\u001b[0m\u001b[1;33m,\u001b[0m \u001b[0my_score\u001b[0m\u001b[1;33m,\u001b[0m \u001b[0msample_weight\u001b[0m\u001b[1;33m)\u001b[0m\u001b[1;33m\u001b[0m\u001b[0m\n",
      "\u001b[0;32mC:\\Users\\Sean\\Anaconda2\\lib\\site-packages\\sklearn\\metrics\\ranking.pyc\u001b[0m in \u001b[0;36m_binary_roc_auc_score\u001b[0;34m(y_true, y_score, sample_weight)\u001b[0m\n\u001b[1;32m    253\u001b[0m \u001b[1;33m\u001b[0m\u001b[0m\n\u001b[1;32m    254\u001b[0m         fpr, tpr, tresholds = roc_curve(y_true, y_score,\n\u001b[0;32m--> 255\u001b[0;31m                                         sample_weight=sample_weight)\n\u001b[0m\u001b[1;32m    256\u001b[0m         \u001b[1;32mreturn\u001b[0m \u001b[0mauc\u001b[0m\u001b[1;33m(\u001b[0m\u001b[0mfpr\u001b[0m\u001b[1;33m,\u001b[0m \u001b[0mtpr\u001b[0m\u001b[1;33m,\u001b[0m \u001b[0mreorder\u001b[0m\u001b[1;33m=\u001b[0m\u001b[0mTrue\u001b[0m\u001b[1;33m)\u001b[0m\u001b[1;33m\u001b[0m\u001b[0m\n\u001b[1;32m    257\u001b[0m \u001b[1;33m\u001b[0m\u001b[0m\n",
      "\u001b[0;32mC:\\Users\\Sean\\Anaconda2\\lib\\site-packages\\sklearn\\metrics\\ranking.pyc\u001b[0m in \u001b[0;36mroc_curve\u001b[0;34m(y_true, y_score, pos_label, sample_weight, drop_intermediate)\u001b[0m\n\u001b[1;32m    503\u001b[0m     \"\"\"\n\u001b[1;32m    504\u001b[0m     fps, tps, thresholds = _binary_clf_curve(\n\u001b[0;32m--> 505\u001b[0;31m         y_true, y_score, pos_label=pos_label, sample_weight=sample_weight)\n\u001b[0m\u001b[1;32m    506\u001b[0m \u001b[1;33m\u001b[0m\u001b[0m\n\u001b[1;32m    507\u001b[0m     \u001b[1;31m# Attempt to drop thresholds corresponding to points in between and\u001b[0m\u001b[1;33m\u001b[0m\u001b[1;33m\u001b[0m\u001b[0m\n",
      "\u001b[0;32mC:\\Users\\Sean\\Anaconda2\\lib\\site-packages\\sklearn\\metrics\\ranking.pyc\u001b[0m in \u001b[0;36m_binary_clf_curve\u001b[0;34m(y_true, y_score, pos_label, sample_weight)\u001b[0m\n\u001b[1;32m    295\u001b[0m         \u001b[0mDecreasing\u001b[0m \u001b[0mscore\u001b[0m \u001b[0mvalues\u001b[0m\u001b[1;33m.\u001b[0m\u001b[1;33m\u001b[0m\u001b[0m\n\u001b[1;32m    296\u001b[0m     \"\"\"\n\u001b[0;32m--> 297\u001b[0;31m     \u001b[0mcheck_consistent_length\u001b[0m\u001b[1;33m(\u001b[0m\u001b[0my_true\u001b[0m\u001b[1;33m,\u001b[0m \u001b[0my_score\u001b[0m\u001b[1;33m)\u001b[0m\u001b[1;33m\u001b[0m\u001b[0m\n\u001b[0m\u001b[1;32m    298\u001b[0m     \u001b[0my_true\u001b[0m \u001b[1;33m=\u001b[0m \u001b[0mcolumn_or_1d\u001b[0m\u001b[1;33m(\u001b[0m\u001b[0my_true\u001b[0m\u001b[1;33m)\u001b[0m\u001b[1;33m\u001b[0m\u001b[0m\n\u001b[1;32m    299\u001b[0m     \u001b[0my_score\u001b[0m \u001b[1;33m=\u001b[0m \u001b[0mcolumn_or_1d\u001b[0m\u001b[1;33m(\u001b[0m\u001b[0my_score\u001b[0m\u001b[1;33m)\u001b[0m\u001b[1;33m\u001b[0m\u001b[0m\n",
      "\u001b[0;32mC:\\Users\\Sean\\Anaconda2\\lib\\site-packages\\sklearn\\utils\\validation.pyc\u001b[0m in \u001b[0;36mcheck_consistent_length\u001b[0;34m(*arrays)\u001b[0m\n\u001b[1;32m    179\u001b[0m     \u001b[1;32mif\u001b[0m \u001b[0mlen\u001b[0m\u001b[1;33m(\u001b[0m\u001b[0muniques\u001b[0m\u001b[1;33m)\u001b[0m \u001b[1;33m>\u001b[0m \u001b[1;36m1\u001b[0m\u001b[1;33m:\u001b[0m\u001b[1;33m\u001b[0m\u001b[0m\n\u001b[1;32m    180\u001b[0m         raise ValueError(\"Found input variables with inconsistent numbers of\"\n\u001b[0;32m--> 181\u001b[0;31m                          \" samples: %r\" % [int(l) for l in lengths])\n\u001b[0m\u001b[1;32m    182\u001b[0m \u001b[1;33m\u001b[0m\u001b[0m\n\u001b[1;32m    183\u001b[0m \u001b[1;33m\u001b[0m\u001b[0m\n",
      "\u001b[0;31mValueError\u001b[0m: Found input variables with inconsistent numbers of samples: [7614, 7617]"
     ]
    }
   ],
   "source": [
    "AUC = roc_auc_score(y_test, probabilities>0.5)\n",
    "AUC"
   ]
  },
  {
   "cell_type": "code",
   "execution_count": 377,
   "metadata": {},
   "outputs": [
    {
     "data": {
      "text/plain": [
       "array([[2903,  911],\n",
       "       [ 924, 2879]])"
      ]
     },
     "execution_count": 377,
     "metadata": {},
     "output_type": "execute_result"
    }
   ],
   "source": [
    "standard_confusion_matrix(y_test, probabilities>0.5)"
   ]
  },
  {
   "cell_type": "code",
   "execution_count": 378,
   "metadata": {},
   "outputs": [],
   "source": [
    "# Calculate expected profits corresponding to different threshold\n",
    "thresholds, profits = profit_curve(costbenefit, probabilities, y_test)"
   ]
  },
  {
   "cell_type": "code",
   "execution_count": 384,
   "metadata": {},
   "outputs": [
    {
     "data": {
      "image/png": "[encoded data removed]",
      "text/plain": [
       "<matplotlib.figure.Figure at 0x28fc8eb8>"
      ]
     },
     "metadata": {},
     "output_type": "display_data"
    }
   ],
   "source": [
    "# Plot!\n",
    "plt.rcParams[\"figure.figsize\"] = (8,6)\n",
    "plot_profit_model(profits, label=\"Random Forest Classier\")"
   ]
  },
  {
   "cell_type": "code",
   "execution_count": 380,
   "metadata": {},
   "outputs": [
    {
     "name": "stdout",
     "output_type": "stream",
     "text": [
      "The best threshold is 0.380075650758, which gives a max profit of 2.17342785874\n"
     ]
    }
   ],
   "source": [
    "best_threshold, max_profit = find_best_threshold(thresholds, profits)\n",
    "print(\"The best threshold is {}, which gives a max profit of {}\".format(best_threshold, max_profit))"
   ]
  },
  {
   "cell_type": "code",
   "execution_count": 381,
   "metadata": {},
   "outputs": [
    {
     "data": {
      "text/plain": [
       "array([[3270, 1336],\n",
       "       [ 557, 2454]])"
      ]
     },
     "execution_count": 381,
     "metadata": {},
     "output_type": "execute_result"
    }
   ],
   "source": [
    "y_predict = [int(x) for x in (probabilities > best_threshold)]\n",
    "standard_confusion_matrix(y_test, y_predict)"
   ]
  },
  {
   "cell_type": "code",
   "execution_count": 382,
   "metadata": {
    "collapsed": true
   },
   "outputs": [],
   "source": [
    "from sklearn.metrics import precision_score, accuracy_score, recall_score, f1_score\n",
    "def print_results(y_true, y_pred):\n",
    "    print(\"Accuracy: {}\".format(accuracy_score(y_true, y_pred)))\n",
    "    print(\"Precision: {}\".format(precision_score(y_true, y_pred)))\n",
    "    print(\"Recall: {}\".format(recall_score(y_true, y_pred)))\n",
    "    print(\"f1-score: {}\".format(f1_score(y_true, y_pred)))"
   ]
  },
  {
   "cell_type": "code",
   "execution_count": 383,
   "metadata": {},
   "outputs": [
    {
     "name": "stdout",
     "output_type": "stream",
     "text": [
      "Accuracy: 0.751476959433\n",
      "Precision: 0.709943551889\n",
      "Recall: 0.85445518683\n",
      "f1-score: 0.775524724297\n"
     ]
    }
   ],
   "source": [
    "print_results(y_test, probabilities > best_threshold)"
   ]
  },
  {
   "cell_type": "code",
   "execution_count": null,
   "metadata": {
    "collapsed": true
   },
   "outputs": [],
   "source": []
  },
  {
   "cell_type": "code",
   "execution_count": null,
   "metadata": {
    "collapsed": true
   },
   "outputs": [],
   "source": []
  },
  {
   "cell_type": "code",
   "execution_count": null,
   "metadata": {
    "collapsed": true
   },
   "outputs": [],
   "source": []
  },
  {
   "cell_type": "code",
   "execution_count": null,
   "metadata": {
    "collapsed": true
   },
   "outputs": [],
   "source": []
  },
  {
   "cell_type": "code",
   "execution_count": 311,
   "metadata": {},
   "outputs": [
    {
     "data": {
      "text/plain": [
       "DecisionTreeClassifier(class_weight=None, criterion='entropy', max_depth=10,\n",
       "            max_features='auto', max_leaf_nodes=None,\n",
       "            min_impurity_split=0.1, min_samples_leaf=20,\n",
       "            min_samples_split=50, min_weight_fraction_leaf=0.0,\n",
       "            presort=False, random_state=1733803899, splitter='best')"
      ]
     },
     "execution_count": 311,
     "metadata": {},
     "output_type": "execute_result"
    }
   ],
   "source": [
    "one_tree = model_rfc.estimators_[199]\n",
    "one_tree"
   ]
  },
  {
   "cell_type": "code",
   "execution_count": null,
   "metadata": {
    "collapsed": true
   },
   "outputs": [],
   "source": [
    "'''==visualize tree\n",
    "from sklearn import tree\n",
    "from IPython.display import Image\n",
    "import pydotplus\n",
    "\n",
    "dot_data = tree.export_graphviz(one_tree, out_file=None) \n",
    "graph = pydotplus.graph_from_dot_data(dot_data)\n",
    "Image(graph.create_png())\n",
    "'''"
   ]
  },
  {
   "cell_type": "code",
   "execution_count": 119,
   "metadata": {},
   "outputs": [
    {
     "data": {
      "text/plain": [
       "1437L"
      ]
     },
     "execution_count": 119,
     "metadata": {},
     "output_type": "execute_result"
    }
   ],
   "source": [
    "one_tree.tree_.node_count"
   ]
  },
  {
   "cell_type": "code",
   "execution_count": 256,
   "metadata": {},
   "outputs": [
    {
     "data": {
      "text/plain": [
       "0.72482604700013131"
      ]
     },
     "execution_count": 256,
     "metadata": {},
     "output_type": "execute_result"
    }
   ],
   "source": [
    "one_tree.score(X_test, y_test)"
   ]
  },
  {
   "cell_type": "code",
   "execution_count": null,
   "metadata": {
    "collapsed": true
   },
   "outputs": [],
   "source": []
  },
  {
   "cell_type": "code",
   "execution_count": null,
   "metadata": {
    "collapsed": true
   },
   "outputs": [],
   "source": []
  },
  {
   "cell_type": "code",
   "execution_count": 66,
   "metadata": {},
   "outputs": [
    {
     "data": {
      "text/plain": [
       "Index([u'days_since_last_play', u'ratio_3_over_23', u'ratio_7_over_23',\n",
       "       u'ratio_1_over_23', u'active_days', u'ratio_14_over_23',\n",
       "       u'total_play_time', u'count_play_23', u'most_popular_count',\n",
       "       u'popular_songs_ratio', u'avg_play_time', u'avg_complete_ratio',\n",
       "       u'least_popular_count', u'device_ip', u'device_ar',\n",
       "       u'major_song_type_1', u'major_song_type_0', u'major_song_type_2',\n",
       "       u'major_song_type_3'],\n",
       "      dtype='object')"
      ]
     },
     "execution_count": 66,
     "metadata": {},
     "output_type": "execute_result"
    }
   ],
   "source": [
    "df_dummies.columns[np.argsort(importance_coeff)][::-1]"
   ]
  },
  {
   "cell_type": "code",
   "execution_count": 97,
   "metadata": {},
   "outputs": [
    {
     "data": {
      "text/plain": [
       "DecisionTreeClassifier(class_weight=None, criterion='entropy', max_depth=None,\n",
       "            max_features='auto', max_leaf_nodes=None,\n",
       "            min_impurity_split=0.01, min_samples_leaf=10,\n",
       "            min_samples_split=2, min_weight_fraction_leaf=0.0,\n",
       "            presort=False, random_state=1700472314, splitter='best')"
      ]
     },
     "execution_count": 97,
     "metadata": {},
     "output_type": "execute_result"
    }
   ],
   "source": [
    "tree = model_rfc.estimators_[0]\n",
    "tree"
   ]
  },
  {
   "cell_type": "code",
   "execution_count": null,
   "metadata": {
    "collapsed": true
   },
   "outputs": [],
   "source": []
  },
  {
   "cell_type": "code",
   "execution_count": null,
   "metadata": {
    "collapsed": true
   },
   "outputs": [],
   "source": []
  },
  {
   "cell_type": "code",
   "execution_count": null,
   "metadata": {
    "collapsed": true
   },
   "outputs": [],
   "source": []
  },
  {
   "cell_type": "code",
   "execution_count": null,
   "metadata": {
    "collapsed": true
   },
   "outputs": [],
   "source": []
  },
  {
   "cell_type": "code",
   "execution_count": null,
   "metadata": {
    "collapsed": true
   },
   "outputs": [],
   "source": []
  },
  {
   "cell_type": "code",
   "execution_count": null,
   "metadata": {
    "collapsed": true
   },
   "outputs": [],
   "source": []
  },
  {
   "cell_type": "code",
   "execution_count": null,
   "metadata": {
    "collapsed": true
   },
   "outputs": [],
   "source": []
  },
  {
   "cell_type": "code",
   "execution_count": null,
   "metadata": {
    "collapsed": true
   },
   "outputs": [],
   "source": []
  }
 ],
 "metadata": {
  "kernelspec": {
   "display_name": "Python 2",
   "language": "python",
   "name": "python2"
  },
  "language_info": {
   "codemirror_mode": {
    "name": "ipython",
    "version": 2
   },
   "file_extension": ".py",
   "mimetype": "text/x-python",
   "name": "python",
   "nbconvert_exporter": "python",
   "pygments_lexer": "ipython2",
   "version": "2.7.13"
  }
 },
 "nbformat": 4,
 "nbformat_minor": 2
}
